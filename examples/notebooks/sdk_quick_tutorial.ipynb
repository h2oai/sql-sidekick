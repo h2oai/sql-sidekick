{
 "cells": [
  {
   "cell_type": "code",
   "execution_count": 20,
   "id": "60080b7e-2e80-4154-aa35-87c13b6ab371",
   "metadata": {},
   "outputs": [],
   "source": [
    "# https://github.com/h2oai/sql-sidekick/releases\n",
    "#!python3 -m pip install --force-reinstall sql_sidekick-0.2.2-py3-none-any.whl"
   ]
  },
  {
   "cell_type": "code",
   "execution_count": 1,
   "id": "f480e37a-4327-48da-8c84-aba0ac1eef23",
   "metadata": {},
   "outputs": [],
   "source": [
    "import logging\n",
    "import sys\n",
    "\n",
    "logging.basicConfig(stream=sys.stdout, level=logging.INFO)\n",
    "logging.getLogger().addHandler(logging.StreamHandler(stream=sys.stdout))"
   ]
  },
  {
   "cell_type": "code",
   "execution_count": 3,
   "id": "c91887ce-c74a-432b-a3f9-120c8abc0003",
   "metadata": {},
   "outputs": [],
   "source": [
    "from sidekick.prompter import db_setup, ask\n",
    "from sidekick.schema_generator import generate_schema\n",
    "from sidekick.utils import setup_dir, list_models"
   ]
  },
  {
   "cell_type": "code",
   "execution_count": 4,
   "id": "9fc212c8-dc73-4330-a07f-7394fd198395",
   "metadata": {},
   "outputs": [],
   "source": [
    "base_path = \"./\"\n",
    "cache_path = f\"{base_path}/var/lib/tmp\"\n",
    "setup_dir(base_path)"
   ]
  },
  {
   "cell_type": "code",
   "execution_count": 5,
   "id": "6421a995-f846-4a1e-8292-374bd7500382",
   "metadata": {},
   "outputs": [],
   "source": [
    "import pandas as pd\n",
    "f = pd.read_csv(\"./sleep_health_and_lifestyle_dataset.csv\")"
   ]
  },
  {
   "cell_type": "code",
   "execution_count": 6,
   "id": "eac0fa65-bb06-415a-aa87-1185789f878d",
   "metadata": {},
   "outputs": [],
   "source": [
    "# Env variables\n",
    "import os\n",
    "\n",
    "os.environ['OPENAI_API_KEY'] = \"\"\n",
    "os.environ['H2O_BASE_MODEL_URL'] = 'http://38.128.233.247'\n",
    "os.environ['H2O_BASE_MODEL_API_KEY'] = \"\"\n",
    "# To get access to h2ogpte endpoint, reach out to cloud-feedback@h2o.ai\n",
    "os.environ['RECOMMENDATION_MODEL_REMOTE_URL'] = \"https://h2ogpte.genai.h2o.ai\"  # e.g. https://<>.h2ogpte.h2o.ai\n",
    "os.environ['RECOMMENDATION_MODEL_API_KEY'] = \"\""
   ]
  },
  {
   "cell_type": "code",
   "execution_count": 7,
   "id": "62e23b39-caa8-4e2f-bf12-678dd586f0df",
   "metadata": {},
   "outputs": [
    {
     "name": "stdout",
     "output_type": "stream",
     "text": [
      " Information supplied:\n",
      " querydb, localhost, sqlite, abc, 5432\n",
      "Database already exists!\n",
      "Table name: sleep_health_eda\n"
     ]
    },
    {
     "name": "stderr",
     "output_type": "stream",
     "text": [
      "\u001b[32m2024-01-27 20:35:06.568\u001b[0m | \u001b[34m\u001b[1mDEBUG   \u001b[0m | \u001b[36msidekick.db_config\u001b[0m:\u001b[36m_extract_schema_info\u001b[0m:\u001b[36m162\u001b[0m - \u001b[34m\u001b[1mUsing schema information from: .//var/lib/tmp/sleep_health_eda_table_info.jsonl\u001b[0m\n",
      "\u001b[32m2024-01-27 20:35:06.572\u001b[0m | \u001b[34m\u001b[1mDEBUG   \u001b[0m | \u001b[36msidekick.db_config\u001b[0m:\u001b[36mcreate_table\u001b[0m:\u001b[36m186\u001b[0m - \u001b[34m\u001b[1mSchema info used for creating table:\n",
      " Person_ID NUMERIC,\n",
      "Gender TEXT COLLATE NOCASE,\n",
      "Age NUMERIC,\n",
      "Occupation TEXT COLLATE NOCASE,\n",
      "Sleep_Duration NUMERIC,\n",
      "Quality_of_Sleep NUMERIC,\n",
      "Physical_Activity_Level NUMERIC,\n",
      "Stress_Level NUMERIC,\n",
      "BMI_Category TEXT COLLATE NOCASE,\n",
      "Blood_Pressure TEXT COLLATE NOCASE,\n",
      "Heart_Rate NUMERIC,\n",
      "Daily_Steps NUMERIC,\n",
      "Sleep_Disorder TEXT COLLATE NOCASE\u001b[0m\n",
      "\u001b[32m2024-01-27 20:35:06.578\u001b[0m | \u001b[1mINFO    \u001b[0m | \u001b[36msidekick.db_config\u001b[0m:\u001b[36mcreate_table\u001b[0m:\u001b[36m198\u001b[0m - \u001b[1mTable created: sleep_health_eda\u001b[0m\n"
     ]
    },
    {
     "name": "stdout",
     "output_type": "stream",
     "text": [
      "Checked table sleep_health_eda exists in the DB.\n"
     ]
    },
    {
     "name": "stderr",
     "output_type": "stream",
     "text": [
      "\u001b[32m2024-01-27 20:35:06.586\u001b[0m | \u001b[34m\u001b[1mDEBUG   \u001b[0m | \u001b[36msidekick.db_config\u001b[0m:\u001b[36madd_samples\u001b[0m:\u001b[36m222\u001b[0m - \u001b[34m\u001b[1mAdding sample values to table: ./sleep_health_and_lifestyle_dataset.csv\u001b[0m\n",
      "\u001b[32m2024-01-27 20:35:06.597\u001b[0m | \u001b[34m\u001b[1mDEBUG   \u001b[0m | \u001b[36msidekick.db_config\u001b[0m:\u001b[36madd_samples\u001b[0m:\u001b[36m228\u001b[0m - \u001b[34m\u001b[1mInserting chunk: 0\u001b[0m\n",
      "\u001b[32m2024-01-27 20:35:06.755\u001b[0m | \u001b[1mINFO    \u001b[0m | \u001b[36msidekick.db_config\u001b[0m:\u001b[36madd_samples\u001b[0m:\u001b[36m233\u001b[0m - \u001b[1mData inserted into table: sleep_health_eda\u001b[0m\n",
      "\u001b[32m2024-01-27 20:35:06.759\u001b[0m | \u001b[1mINFO    \u001b[0m | \u001b[36msidekick.db_config\u001b[0m:\u001b[36madd_samples\u001b[0m:\u001b[36m238\u001b[0m - \u001b[1mNumber of rows inserted: 2618\u001b[0m\n"
     ]
    },
    {
     "name": "stdout",
     "output_type": "stream",
     "text": [
      "Created a Database querydb. Inserted sample values from ./sleep_health_and_lifestyle_dataset.csv into table sleep_health_eda, please ask questions!\n"
     ]
    }
   ],
   "source": [
    "HOST_NAME = \"localhost\"\n",
    "USER_NAME = \"sqlite\"\n",
    "PASSWORD = \"abc\"\n",
    "DB_NAME = \"querydb\"\n",
    "PORT = \"5432\"\n",
    "\n",
    "\n",
    "# Given .csv file, auto-generate schema\n",
    "# Download dataset --> https://www.kaggle.com/datasets/uom190346a/sleep-health-and-lifestyle-dataset\n",
    "data_path = \"./sleep_health_and_lifestyle_dataset.csv\"\n",
    "table_name = \"sleep_health_eda\"\n",
    "\n",
    "r, table_info_path = generate_schema(data_path=data_path, output_path=f\"{cache_path}/{table_name}_table_info.jsonl\")\n",
    "\n",
    "llm_response, err = db_setup(\n",
    "                db_name=DB_NAME,\n",
    "                hostname=HOST_NAME,\n",
    "                user_name=USER_NAME,\n",
    "                password=PASSWORD,\n",
    "                port=PORT,\n",
    "                table_info_path=table_info_path,\n",
    "                table_samples_path=data_path,\n",
    "                table_name=table_name,\n",
    "                local_base_path=base_path\n",
    "            )"
   ]
  },
  {
   "cell_type": "code",
   "execution_count": 9,
   "id": "80dec22c-362e-41a0-8f34-0690465542e6",
   "metadata": {},
   "outputs": [
    {
     "data": {
      "text/plain": [
       "['h2ogpt-sql-sqlcoder2-4bit',\n",
       " 'h2ogpt-sql-sqlcoder-34b-alpha-4bit',\n",
       " 'h2ogpt-sql-nsql-llama-2-7B-4bit',\n",
       " 'h2ogpt-sql-sqlcoder2',\n",
       " 'h2ogpt-sql-sqlcoder-34b-alpha',\n",
       " 'h2ogpt-sql-nsql-llama-2-7B',\n",
       " 'gpt-3.5-turbo',\n",
       " 'gpt-4-8k',\n",
       " 'gpt-4-1106-preview-128k']"
      ]
     },
     "execution_count": 9,
     "metadata": {},
     "output_type": "execute_result"
    }
   ],
   "source": [
    "# List supported models\n",
    "list_models()"
   ]
  },
  {
   "cell_type": "code",
   "execution_count": 10,
   "id": "2b3db015-1d9e-46b0-ad58-2f5aac0c6e4c",
   "metadata": {},
   "outputs": [],
   "source": [
    "# Use `list_models()` to check other supported models\n",
    "\n",
    "def query(\n",
    "    question: str,\n",
    "    table_name,\n",
    "    table_info_path: str,\n",
    "    sample_qna_path: str,\n",
    "    regenerate=False,\n",
    "    regenerate_with_options=False,\n",
    "):\n",
    "    \"\"\"Asks question and returns SQL.\"\"\"\n",
    "    base_path = \"./\"\n",
    "    # self_correction is enabled by default, set to False if not needed.\n",
    "    res = ask(\n",
    "        question=question,\n",
    "        table_info_path=table_info_path,\n",
    "        sample_queries_path=sample_qna_path,\n",
    "        table_name=table_name,\n",
    "        is_command=False,\n",
    "        model_name=\"h2ogpt-sql-sqlcoder2-4bit\",  #Other default model option: h2ogpt-sql-sqlcoder-34b-alpha\n",
    "        is_regenerate=regenerate,\n",
    "        is_regen_with_options=regenerate_with_options,\n",
    "        execute_query=False,\n",
    "        local_base_path=base_path,\n",
    "    )\n",
    "    return res"
   ]
  },
  {
   "cell_type": "code",
   "execution_count": 11,
   "id": "523f1a88-eea8-414c-89b1-b7a2b3126535",
   "metadata": {},
   "outputs": [
    {
     "name": "stderr",
     "output_type": "stream",
     "text": [
      "\u001b[32m2024-01-27 20:35:33.226\u001b[0m | \u001b[1mINFO    \u001b[0m | \u001b[36msidekick.prompter\u001b[0m:\u001b[36mask\u001b[0m:\u001b[36m500\u001b[0m - \u001b[1mTable in use: ['sleep_health_eda']\u001b[0m\n",
      "\u001b[32m2024-01-27 20:35:33.229\u001b[0m | \u001b[1mINFO    \u001b[0m | \u001b[36msidekick.prompter\u001b[0m:\u001b[36mask\u001b[0m:\u001b[36m501\u001b[0m - \u001b[1mSQL dialect for generation: sqlite\u001b[0m\n",
      "\u001b[32m2024-01-27 20:35:33.231\u001b[0m | \u001b[1mINFO    \u001b[0m | \u001b[36msidekick.prompter\u001b[0m:\u001b[36mask\u001b[0m:\u001b[36m534\u001b[0m - \u001b[1mSetting context...\u001b[0m\n",
      "\u001b[32m2024-01-27 20:35:33.232\u001b[0m | \u001b[1mINFO    \u001b[0m | \u001b[36msidekick.prompter\u001b[0m:\u001b[36mask\u001b[0m:\u001b[36m535\u001b[0m - \u001b[1mQuestion: What is the average sleep duration for each gender?\u001b[0m\n",
      "\u001b[32m2024-01-27 20:35:33.234\u001b[0m | \u001b[34m\u001b[1mDEBUG   \u001b[0m | \u001b[36msidekick.prompter\u001b[0m:\u001b[36mask\u001b[0m:\u001b[36m553\u001b[0m - \u001b[34m\u001b[1mTable info path: .//var/lib/tmp/sleep_health_eda_table_info.jsonl\u001b[0m\n",
      "\u001b[32m2024-01-27 20:35:33.235\u001b[0m | \u001b[1mINFO    \u001b[0m | \u001b[36msidekick.utils\u001b[0m:\u001b[36mis_resource_low\u001b[0m:\u001b[36m355\u001b[0m - \u001b[1mNumber of GPUs: 1\u001b[0m\n",
      "\u001b[32m2024-01-27 20:35:33.236\u001b[0m | \u001b[34m\u001b[1mDEBUG   \u001b[0m | \u001b[36msidekick.utils\u001b[0m:\u001b[36mis_resource_low\u001b[0m:\u001b[36m359\u001b[0m - \u001b[34m\u001b[1mInformation on device: 0\u001b[0m\n",
      "\u001b[32m2024-01-27 20:35:35.049\u001b[0m | \u001b[1mINFO    \u001b[0m | \u001b[36msidekick.utils\u001b[0m:\u001b[36mis_resource_low\u001b[0m:\u001b[36m362\u001b[0m - \u001b[1mTotal Memory: 23GB\u001b[0m\n",
      "\u001b[32m2024-01-27 20:35:35.055\u001b[0m | \u001b[1mINFO    \u001b[0m | \u001b[36msidekick.utils\u001b[0m:\u001b[36mis_resource_low\u001b[0m:\u001b[36m363\u001b[0m - \u001b[1mFree GPU memory: 20GB\u001b[0m\n",
      "\u001b[32m2024-01-27 20:35:35.057\u001b[0m | \u001b[1mINFO    \u001b[0m | \u001b[36msidekick.query\u001b[0m:\u001b[36m__new__\u001b[0m:\u001b[36m83\u001b[0m - \u001b[1mLoading local model: h2ogpt-sql-sqlcoder2-4bit\u001b[0m\n",
      "\u001b[32m2024-01-27 20:35:35.058\u001b[0m | \u001b[1mINFO    \u001b[0m | \u001b[36msidekick.utils\u001b[0m:\u001b[36mload_causal_lm_model\u001b[0m:\u001b[36m382\u001b[0m - \u001b[1mTotal GPUs: 1\u001b[0m\n",
      "\u001b[32m2024-01-27 20:35:35.059\u001b[0m | \u001b[1mINFO    \u001b[0m | \u001b[36msidekick.utils\u001b[0m:\u001b[36m_load_llm\u001b[0m:\u001b[36m390\u001b[0m - \u001b[1mFree GPU memory: 20GB\u001b[0m\n",
      "\u001b[32m2024-01-27 20:35:35.060\u001b[0m | \u001b[1mINFO    \u001b[0m | \u001b[36msidekick.utils\u001b[0m:\u001b[36m_load_llm\u001b[0m:\u001b[36m393\u001b[0m - \u001b[1mLoading model: defog/sqlcoder2 on device id: 0\u001b[0m\n",
      "\u001b[32m2024-01-27 20:35:35.062\u001b[0m | \u001b[34m\u001b[1mDEBUG   \u001b[0m | \u001b[36msidekick.utils\u001b[0m:\u001b[36m_load_llm\u001b[0m:\u001b[36m394\u001b[0m - \u001b[34m\u001b[1mModel cache: .//models/\u001b[0m\n",
      "\u001b[32m2024-01-27 20:35:35.063\u001b[0m | \u001b[34m\u001b[1mDEBUG   \u001b[0m | \u001b[36msidekick.utils\u001b[0m:\u001b[36m_load_llm\u001b[0m:\u001b[36m432\u001b[0m - \u001b[34m\u001b[1mLoading in 4 bit mode: True with device {'': 0}\u001b[0m\n"
     ]
    },
    {
     "data": {
      "application/vnd.jupyter.widget-view+json": {
       "model_id": "dec7435d27704941a96dcdb9951ed10e",
       "version_major": 2,
       "version_minor": 0
      },
      "text/plain": [
       "Loading checkpoint shards:   0%|          | 0/4 [00:00<?, ?it/s]"
      ]
     },
     "metadata": {},
     "output_type": "display_data"
    },
    {
     "name": "stderr",
     "output_type": "stream",
     "text": [
      "/home/pramit/.jupyterven/lib/python3.8/site-packages/torch/_utils.py:776: UserWarning: TypedStorage is deprecated. It will be removed in the future and UntypedStorage will be the only storage class. This should only matter to you if you are using storages directly.  To access UntypedStorage directly, use tensor.untyped_storage() instead of tensor.storage()\n",
      "  return self.fget.__get__(instance, owner)()\n"
     ]
    },
    {
     "data": {
      "application/vnd.jupyter.widget-view+json": {
       "model_id": "9ac2ae59eed1491fae117703c4a9b527",
       "version_major": 2,
       "version_minor": 0
      },
      "text/plain": [
       "generation_config.json:   0%|          | 0.00/111 [00:00<?, ?B/s]"
      ]
     },
     "metadata": {},
     "output_type": "display_data"
    },
    {
     "data": {
      "application/vnd.jupyter.widget-view+json": {
       "model_id": "39720168d7ca4ede96bcd594ca4795ed",
       "version_major": 2,
       "version_minor": 0
      },
      "text/plain": [
       "tokenizer_config.json:   0%|          | 0.00/4.04k [00:00<?, ?B/s]"
      ]
     },
     "metadata": {},
     "output_type": "display_data"
    },
    {
     "data": {
      "application/vnd.jupyter.widget-view+json": {
       "model_id": "69f1422ed7814c7a8e283f51247f9779",
       "version_major": 2,
       "version_minor": 0
      },
      "text/plain": [
       "vocab.json:   0%|          | 0.00/777k [00:00<?, ?B/s]"
      ]
     },
     "metadata": {},
     "output_type": "display_data"
    },
    {
     "data": {
      "application/vnd.jupyter.widget-view+json": {
       "model_id": "e4b25fea3c214f9cbb95fbb209c9abad",
       "version_major": 2,
       "version_minor": 0
      },
      "text/plain": [
       "merges.txt:   0%|          | 0.00/442k [00:00<?, ?B/s]"
      ]
     },
     "metadata": {},
     "output_type": "display_data"
    },
    {
     "data": {
      "application/vnd.jupyter.widget-view+json": {
       "model_id": "4820818fede94eb19682bea579adc465",
       "version_major": 2,
       "version_minor": 0
      },
      "text/plain": [
       "tokenizer.json:   0%|          | 0.00/2.06M [00:00<?, ?B/s]"
      ]
     },
     "metadata": {},
     "output_type": "display_data"
    },
    {
     "data": {
      "application/vnd.jupyter.widget-view+json": {
       "model_id": "9ea7c37b9e594f56908c53059c00a554",
       "version_major": 2,
       "version_minor": 0
      },
      "text/plain": [
       "special_tokens_map.json:   0%|          | 0.00/532 [00:00<?, ?B/s]"
      ]
     },
     "metadata": {},
     "output_type": "display_data"
    },
    {
     "name": "stderr",
     "output_type": "stream",
     "text": [
      "\u001b[32m2024-01-27 20:36:20.189\u001b[0m | \u001b[34m\u001b[1mDEBUG   \u001b[0m | \u001b[36msidekick.utils\u001b[0m:\u001b[36mload_embedding_model\u001b[0m:\u001b[36m100\u001b[0m - \u001b[34m\u001b[1mLoading embedding model from: .//models/sentence_transformers\u001b[0m\n"
     ]
    },
    {
     "data": {
      "application/vnd.jupyter.widget-view+json": {
       "model_id": "6131cc8521f24975808af4b6671b9424",
       "version_major": 2,
       "version_minor": 0
      },
      "text/plain": [
       "Fetching 13 files:   0%|          | 0/13 [00:00<?, ?it/s]"
      ]
     },
     "metadata": {},
     "output_type": "display_data"
    },
    {
     "name": "stdout",
     "output_type": "stream",
     "text": [
      "INFO:sentence_transformers.SentenceTransformer:Load pretrained SentenceTransformer: .//models/sentence_transformers/models--BAAI--bge-base-en/snapshots/17d124a4b773c4c9248ca816b0b0901e3c49a243/\n",
      "Load pretrained SentenceTransformer: .//models/sentence_transformers/models--BAAI--bge-base-en/snapshots/17d124a4b773c4c9248ca816b0b0901e3c49a243/\n"
     ]
    },
    {
     "name": "stderr",
     "output_type": "stream",
     "text": [
      "\u001b[32m2024-01-27 20:36:20.805\u001b[0m | \u001b[1mINFO    \u001b[0m | \u001b[36msidekick.utils\u001b[0m:\u001b[36m_check_file_info\u001b[0m:\u001b[36m469\u001b[0m - \u001b[1mUsing information info from path .//var/lib/tmp/sleep_health_eda_table_info.jsonl\u001b[0m\n",
      "\u001b[32m2024-01-27 20:36:20.807\u001b[0m | \u001b[1mINFO    \u001b[0m | \u001b[36msidekick.prompter\u001b[0m:\u001b[36mask\u001b[0m:\u001b[36m603\u001b[0m - \u001b[1mComputing user request ...\u001b[0m\n",
      "\u001b[32m2024-01-27 20:36:20.811\u001b[0m | \u001b[34m\u001b[1mDEBUG   \u001b[0m | \u001b[36msidekick.utils\u001b[0m:\u001b[36msemantic_search\u001b[0m:\u001b[36m155\u001b[0m - \u001b[34m\u001b[1mInput questions: # query: what is the average sleep duration for each gender?\u001b[0m\n"
     ]
    },
    {
     "data": {
      "application/vnd.jupyter.widget-view+json": {
       "model_id": "84a780b3eea3446c8e9bd5ff6a9e8ccc",
       "version_major": 2,
       "version_minor": 0
      },
      "text/plain": [
       "Batches:   0%|          | 0/1 [00:00<?, ?it/s]"
      ]
     },
     "metadata": {},
     "output_type": "display_data"
    },
    {
     "name": "stderr",
     "output_type": "stream",
     "text": [
      "\u001b[32m2024-01-27 20:36:22.408\u001b[0m | \u001b[34m\u001b[1mDEBUG   \u001b[0m | \u001b[36msidekick.utils\u001b[0m:\u001b[36msemantic_search\u001b[0m:\u001b[36m160\u001b[0m - \u001b[34m\u001b[1mProbable context: [\"if patterns like 'current time' or 'now' occurs in question\", \"if patterns like 'total number', or 'list' occurs in question\", 'detailed summary', 'summary']\u001b[0m\n"
     ]
    },
    {
     "data": {
      "application/vnd.jupyter.widget-view+json": {
       "model_id": "f89d7a95ee314d48aa6543da2532e123",
       "version_major": 2,
       "version_minor": 0
      },
      "text/plain": [
       "Batches:   0%|          | 0/1 [00:00<?, ?it/s]"
      ]
     },
     "metadata": {},
     "output_type": "display_data"
    },
    {
     "name": "stderr",
     "output_type": "stream",
     "text": [
      "\u001b[32m2024-01-27 20:36:22.444\u001b[0m | \u001b[34m\u001b[1mDEBUG   \u001b[0m | \u001b[36msidekick.utils\u001b[0m:\u001b[36msemantic_search\u001b[0m:\u001b[36m168\u001b[0m - \u001b[34m\u001b[1mSimilarity score for: if patterns like 'current time' or 'now' occurs in question: 0.8459207869447033\u001b[0m\n",
      "\u001b[32m2024-01-27 20:36:22.446\u001b[0m | \u001b[34m\u001b[1mDEBUG   \u001b[0m | \u001b[36msidekick.utils\u001b[0m:\u001b[36msemantic_search\u001b[0m:\u001b[36m168\u001b[0m - \u001b[34m\u001b[1mSimilarity score for: if patterns like 'total number', or 'list' occurs in question: 0.8319947353454415\u001b[0m\n",
      "\u001b[32m2024-01-27 20:36:22.448\u001b[0m | \u001b[34m\u001b[1mDEBUG   \u001b[0m | \u001b[36msidekick.utils\u001b[0m:\u001b[36msemantic_search\u001b[0m:\u001b[36m168\u001b[0m - \u001b[34m\u001b[1mSimilarity score for: detailed summary: 0.8346069603076574\u001b[0m\n",
      "\u001b[32m2024-01-27 20:36:22.449\u001b[0m | \u001b[34m\u001b[1mDEBUG   \u001b[0m | \u001b[36msidekick.utils\u001b[0m:\u001b[36msemantic_search\u001b[0m:\u001b[36m168\u001b[0m - \u001b[34m\u001b[1mSimilarity score for: summary: 0.8394152180082535\u001b[0m\n",
      "\u001b[32m2024-01-27 20:36:22.450\u001b[0m | \u001b[34m\u001b[1mDEBUG   \u001b[0m | \u001b[36msidekick.utils\u001b[0m:\u001b[36msemantic_search\u001b[0m:\u001b[36m184\u001b[0m - \u001b[34m\u001b[1mSorted context: []\u001b[0m\n",
      "\u001b[32m2024-01-27 20:36:22.451\u001b[0m | \u001b[34m\u001b[1mDEBUG   \u001b[0m | \u001b[36msidekick.query\u001b[0m:\u001b[36mgenerate_sql\u001b[0m:\u001b[36m486\u001b[0m - \u001b[34m\u001b[1mFilter Context: []\u001b[0m\n",
      "\u001b[32m2024-01-27 20:36:22.452\u001b[0m | \u001b[1mINFO    \u001b[0m | \u001b[36msidekick.query\u001b[0m:\u001b[36mgenerate_sql\u001b[0m:\u001b[36m494\u001b[0m - \u001b[1mFiltering Question/Query pairs ...\u001b[0m\n",
      "\u001b[32m2024-01-27 20:36:22.453\u001b[0m | \u001b[1mINFO    \u001b[0m | \u001b[36msidekick.query\u001b[0m:\u001b[36mgenerate_sql\u001b[0m:\u001b[36m496\u001b[0m - \u001b[1mNumber of context queries found: 0\u001b[0m\n",
      "\u001b[32m2024-01-27 20:36:22.454\u001b[0m | \u001b[1mINFO    \u001b[0m | \u001b[36msidekick.query\u001b[0m:\u001b[36mgenerate_sql\u001b[0m:\u001b[36m516\u001b[0m - \u001b[1mNumber of possible contextual queries to question: 0\u001b[0m\n",
      "\u001b[32m2024-01-27 20:36:22.455\u001b[0m | \u001b[34m\u001b[1mDEBUG   \u001b[0m | \u001b[36msidekick.utils\u001b[0m:\u001b[36mre_rank\u001b[0m:\u001b[36m138\u001b[0m - \u001b[34m\u001b[1mQuestion length: 9\u001b[0m\n",
      "\u001b[32m2024-01-27 20:36:22.456\u001b[0m | \u001b[34m\u001b[1mDEBUG   \u001b[0m | \u001b[36msidekick.query\u001b[0m:\u001b[36mgenerate_sql\u001b[0m:\u001b[36m561\u001b[0m - \u001b[34m\u001b[1mRelevant sample column values: {'sleep_health_eda': [\"'Gender' contains values similar to Male,Female.\", \"'Occupation' contains values similar to Lawyer,Teacher,Doctor,Software Engineer,Scientist,Sales Representative,Accountant,Salesperson,Manager,Nurse.\", \"'BMI_Category' contains values similar to Overweight,Normal,Obese,Normal Weight.\", \"'Sleep_Disorder' contains values similar to None,Sleep Apnea,Insomnia.\"]}\u001b[0m\n",
      "\u001b[32m2024-01-27 20:36:22.457\u001b[0m | \u001b[34m\u001b[1mDEBUG   \u001b[0m | \u001b[36msidekick.query\u001b[0m:\u001b[36mgenerate_sql\u001b[0m:\u001b[36m578\u001b[0m - \u001b[34m\u001b[1mQuery Text:\n",
      " \n",
      "### Instructions:\n",
      "Your task is convert a question into a valid sqlite syntax SQL query, given a sqlite database schema. Let's work this out step by step to be sure we have the right answer.\n",
      "Only use the column names from the CREATE TABLE statement.\n",
      "Adhere to these rules:\n",
      "- **Deliberately go through the question and database schema word by word** to appropriately answer the question\n",
      "- **Use Table Aliases** to prevent ambiguity. For example, `SELECT table1.col1, table2.col1 FROM table1 JOIN table2 ON table1.id = table2.id`.\n",
      "- Only use supplied table names: **sleep_health_eda** for generation\n",
      "- Only use column names from the CREATE TABLE statement: **['Person_ID NUMERIC, Gender TEXT, Age NUMERIC, Occupation TEXT, Sleep_Duration NUMERIC, Quality_of_Sleep NUMERIC, Physical_Activity_Level NUMERIC, Stress_Level NUMERIC, BMI_Category TEXT, Blood_Pressure TEXT, Heart_Rate NUMERIC, Daily_Steps NUMERIC, Sleep_Disorder TEXT,']** for generation. DO NOT USE any other column names outside of this.\n",
      "- Avoid overly complex SQL queries, favor concise human readable SQL queries which are easy to understand and debug\n",
      "- Avoid patterns that might be vulnerable to SQL injection, e.g. use proper sanitization and escaping for raw user input\n",
      "- Always cast the numerator as float when computing ratios\n",
      "- Always use COUNT(1) instead of COUNT(*)\n",
      "- If the question is asking for a rate, use COUNT to compute percentage\n",
      "- Avoid using the WITH statement\n",
      "- DO NOT USE aggregate and window function together\n",
      "- Prefer NOT EXISTS to LEFT JOIN ON null id\n",
      "- When using DESC keep NULLs at the end\n",
      "- If JSONB format found in Table schema, do pattern matching on keywords from the question and use SQL functions such as ->> or ->\n",
      "- Use prepared statements with parameterized queries to prevent SQL injection\n",
      "\n",
      "\n",
      "### Input:\n",
      "For SQL TABLE 'sleep_health_eda' with sample question/answer pairs,\n",
      "(), create a valid SQL (dialect:sqlite) query to answer the following question:\n",
      "What is the average sleep duration for each gender?.\n",
      "This query will run on a database whose schema is represented in this string:\n",
      "CREATE TABLE 'sleep_health_eda' (['Person_ID NUMERIC, Gender TEXT, Age NUMERIC, Occupation TEXT, Sleep_Duration NUMERIC, Quality_of_Sleep NUMERIC, Physical_Activity_Level NUMERIC, Stress_Level NUMERIC, BMI_Category TEXT, Blood_Pressure TEXT, Heart_Rate NUMERIC, Daily_Steps NUMERIC, Sleep_Disorder TEXT,']\n",
      ");\n",
      "\n",
      "-- Table 'sleep_health_eda', , has sample values ({'sleep_health_eda': [\"'Gender' contains values similar to Male,Female.\", \"'Occupation' contains values similar to Lawyer,Teacher,Doctor,Software Engineer,Scientist,Sales Representative,Accountant,Salesperson,Manager,Nurse.\", \"'BMI_Category' contains values similar to Overweight,Normal,Obese,Normal Weight.\", \"'Sleep_Disorder' contains values similar to None,Sleep Apnea,Insomnia.\"]})\n",
      "\n",
      "### Response:\n",
      "Based on your instructions, here is the SELECT SQL query I have generated to answer the question `What is the average sleep duration for each gender?`:\n",
      "```SELECT\u001b[0m\n",
      "\u001b[32m2024-01-27 20:36:22.461\u001b[0m | \u001b[1mINFO    \u001b[0m | \u001b[36msidekick.query\u001b[0m:\u001b[36mgenerate_sql\u001b[0m:\u001b[36m590\u001b[0m - \u001b[1mContext length: 743\u001b[0m\n",
      "Setting `pad_token_id` to `eos_token_id`:0 for open-end generation.\n",
      "\u001b[32m2024-01-27 20:36:30.891\u001b[0m | \u001b[1mINFO    \u001b[0m | \u001b[36msidekick.prompter\u001b[0m:\u001b[36mask\u001b[0m:\u001b[36m608\u001b[0m - \u001b[1mInput query: What is the average sleep duration for each gender?\u001b[0m\n",
      "\u001b[32m2024-01-27 20:36:30.895\u001b[0m | \u001b[1mINFO    \u001b[0m | \u001b[36msidekick.prompter\u001b[0m:\u001b[36mask\u001b[0m:\u001b[36m609\u001b[0m - \u001b[1mGenerated response:\n",
      "\n",
      "SELECT \"gender\", AVG(\"sleep_duration\") AS \"average_sleep_duration\" FROM \"sleep_health_eda\" GROUP BY \"gender\" LIMIT 100\u001b[0m\n",
      "\u001b[32m2024-01-27 20:36:30.905\u001b[0m | \u001b[1mINFO    \u001b[0m | \u001b[36msidekick.prompter\u001b[0m:\u001b[36mask\u001b[0m:\u001b[36m635\u001b[0m - \u001b[1mAlternate responses:\n",
      "\n",
      "[]\u001b[0m\n"
     ]
    },
    {
     "name": "stdout",
     "output_type": "stream",
     "text": [
      "Exiting...\n"
     ]
    }
   ],
   "source": [
    "res = query(\"What is the average sleep duration for each gender?\", table_name=\"sleep_health_eda\", \n",
    "            table_info_path=table_info_path, sample_qna_path=None)"
   ]
  },
  {
   "cell_type": "code",
   "execution_count": 12,
   "id": "b17e2b4f-8736-4d44-addc-db8d2be4ce51",
   "metadata": {},
   "outputs": [
    {
     "name": "stdout",
     "output_type": "stream",
     "text": [
      "Question = **Generated response for question,**\n",
      "What is the average sleep duration for each gender?\n",
      "\n",
      "----\n",
      "Generated SQL = ``` sql\n",
      "SELECT \"gender\",\n",
      "       AVG(\"sleep_duration\") AS \"average_sleep_duration\"\n",
      "FROM \"sleep_health_eda\"\n",
      "GROUP BY \"gender\"\n",
      "LIMIT 100\n",
      "```\n",
      "\n",
      "\n"
     ]
    }
   ],
   "source": [
    "print(f\"Question = {res[0][0]}\")\n",
    "print(\"----\")\n",
    "print(f\"Generated SQL = {res[0][1]}\")"
   ]
  },
  {
   "cell_type": "code",
   "execution_count": 16,
   "id": "03c5dfc0-c6f0-4573-b36d-56dc7bcbe8bc",
   "metadata": {},
   "outputs": [
    {
     "name": "stderr",
     "output_type": "stream",
     "text": [
      "\u001b[32m2024-01-27 20:39:50.016\u001b[0m | \u001b[1mINFO    \u001b[0m | \u001b[36msidekick.prompter\u001b[0m:\u001b[36mask\u001b[0m:\u001b[36m500\u001b[0m - \u001b[1mTable in use: ['sleep_health_eda']\u001b[0m\n",
      "\u001b[32m2024-01-27 20:39:50.017\u001b[0m | \u001b[1mINFO    \u001b[0m | \u001b[36msidekick.prompter\u001b[0m:\u001b[36mask\u001b[0m:\u001b[36m501\u001b[0m - \u001b[1mSQL dialect for generation: sqlite\u001b[0m\n",
      "\u001b[32m2024-01-27 20:39:50.018\u001b[0m | \u001b[1mINFO    \u001b[0m | \u001b[36msidekick.prompter\u001b[0m:\u001b[36mask\u001b[0m:\u001b[36m534\u001b[0m - \u001b[1mSetting context...\u001b[0m\n",
      "\u001b[32m2024-01-27 20:39:50.019\u001b[0m | \u001b[1mINFO    \u001b[0m | \u001b[36msidekick.prompter\u001b[0m:\u001b[36mask\u001b[0m:\u001b[36m535\u001b[0m - \u001b[1mQuestion: What are the most common occupations among individuals in the dataset?\u001b[0m\n",
      "\u001b[32m2024-01-27 20:39:50.020\u001b[0m | \u001b[34m\u001b[1mDEBUG   \u001b[0m | \u001b[36msidekick.prompter\u001b[0m:\u001b[36mask\u001b[0m:\u001b[36m553\u001b[0m - \u001b[34m\u001b[1mTable info path: .//var/lib/tmp/sleep_health_eda_table_info.jsonl\u001b[0m\n",
      "\u001b[32m2024-01-27 20:39:50.021\u001b[0m | \u001b[1mINFO    \u001b[0m | \u001b[36msidekick.utils\u001b[0m:\u001b[36mis_resource_low\u001b[0m:\u001b[36m355\u001b[0m - \u001b[1mNumber of GPUs: 1\u001b[0m\n",
      "\u001b[32m2024-01-27 20:39:50.022\u001b[0m | \u001b[34m\u001b[1mDEBUG   \u001b[0m | \u001b[36msidekick.utils\u001b[0m:\u001b[36mis_resource_low\u001b[0m:\u001b[36m359\u001b[0m - \u001b[34m\u001b[1mInformation on device: 0\u001b[0m\n",
      "\u001b[32m2024-01-27 20:39:50.023\u001b[0m | \u001b[1mINFO    \u001b[0m | \u001b[36msidekick.utils\u001b[0m:\u001b[36mis_resource_low\u001b[0m:\u001b[36m362\u001b[0m - \u001b[1mTotal Memory: 23GB\u001b[0m\n",
      "\u001b[32m2024-01-27 20:39:50.024\u001b[0m | \u001b[1mINFO    \u001b[0m | \u001b[36msidekick.utils\u001b[0m:\u001b[36mis_resource_low\u001b[0m:\u001b[36m363\u001b[0m - \u001b[1mFree GPU memory: 8GB\u001b[0m\n",
      "\u001b[32m2024-01-27 20:39:50.038\u001b[0m | \u001b[1mINFO    \u001b[0m | \u001b[36msidekick.utils\u001b[0m:\u001b[36m_check_file_info\u001b[0m:\u001b[36m469\u001b[0m - \u001b[1mUsing information info from path .//var/lib/tmp/sleep_health_eda_table_info.jsonl\u001b[0m\n",
      "\u001b[32m2024-01-27 20:39:50.039\u001b[0m | \u001b[1mINFO    \u001b[0m | \u001b[36msidekick.prompter\u001b[0m:\u001b[36mask\u001b[0m:\u001b[36m603\u001b[0m - \u001b[1mComputing user request ...\u001b[0m\n",
      "\u001b[32m2024-01-27 20:39:50.043\u001b[0m | \u001b[34m\u001b[1mDEBUG   \u001b[0m | \u001b[36msidekick.utils\u001b[0m:\u001b[36msemantic_search\u001b[0m:\u001b[36m155\u001b[0m - \u001b[34m\u001b[1mInput questions: # query: what are the most common occupations among individuals in the dataset?\u001b[0m\n"
     ]
    },
    {
     "data": {
      "application/vnd.jupyter.widget-view+json": {
       "model_id": "e4589b85d3514f2ea3c88a505f15698c",
       "version_major": 2,
       "version_minor": 0
      },
      "text/plain": [
       "Batches:   0%|          | 0/1 [00:00<?, ?it/s]"
      ]
     },
     "metadata": {},
     "output_type": "display_data"
    },
    {
     "name": "stderr",
     "output_type": "stream",
     "text": [
      "\u001b[32m2024-01-27 20:39:50.099\u001b[0m | \u001b[34m\u001b[1mDEBUG   \u001b[0m | \u001b[36msidekick.utils\u001b[0m:\u001b[36msemantic_search\u001b[0m:\u001b[36m160\u001b[0m - \u001b[34m\u001b[1mProbable context: [\"if patterns like 'current time' or 'now' occurs in question\", \"if patterns like 'total number', or 'list' occurs in question\", 'detailed summary', 'summary']\u001b[0m\n"
     ]
    },
    {
     "data": {
      "application/vnd.jupyter.widget-view+json": {
       "model_id": "fc9944f52e3b4a7fa6f344ae5066aaf3",
       "version_major": 2,
       "version_minor": 0
      },
      "text/plain": [
       "Batches:   0%|          | 0/1 [00:00<?, ?it/s]"
      ]
     },
     "metadata": {},
     "output_type": "display_data"
    },
    {
     "name": "stderr",
     "output_type": "stream",
     "text": [
      "\u001b[32m2024-01-27 20:39:50.139\u001b[0m | \u001b[34m\u001b[1mDEBUG   \u001b[0m | \u001b[36msidekick.utils\u001b[0m:\u001b[36msemantic_search\u001b[0m:\u001b[36m168\u001b[0m - \u001b[34m\u001b[1mSimilarity score for: if patterns like 'current time' or 'now' occurs in question: 0.8284876985286928\u001b[0m\n",
      "\u001b[32m2024-01-27 20:39:50.141\u001b[0m | \u001b[34m\u001b[1mDEBUG   \u001b[0m | \u001b[36msidekick.utils\u001b[0m:\u001b[36msemantic_search\u001b[0m:\u001b[36m168\u001b[0m - \u001b[34m\u001b[1mSimilarity score for: if patterns like 'total number', or 'list' occurs in question: 0.8591431101102107\u001b[0m\n",
      "\u001b[32m2024-01-27 20:39:50.143\u001b[0m | \u001b[34m\u001b[1mDEBUG   \u001b[0m | \u001b[36msidekick.utils\u001b[0m:\u001b[36msemantic_search\u001b[0m:\u001b[36m168\u001b[0m - \u001b[34m\u001b[1mSimilarity score for: detailed summary: 0.8650206131706182\u001b[0m\n",
      "\u001b[32m2024-01-27 20:39:50.146\u001b[0m | \u001b[34m\u001b[1mDEBUG   \u001b[0m | \u001b[36msidekick.utils\u001b[0m:\u001b[36msemantic_search\u001b[0m:\u001b[36m168\u001b[0m - \u001b[34m\u001b[1mSimilarity score for: summary: 0.8724867083448907\u001b[0m\n",
      "\u001b[32m2024-01-27 20:39:50.147\u001b[0m | \u001b[34m\u001b[1mDEBUG   \u001b[0m | \u001b[36msidekick.utils\u001b[0m:\u001b[36msemantic_search\u001b[0m:\u001b[36m184\u001b[0m - \u001b[34m\u001b[1mSorted context: []\u001b[0m\n",
      "\u001b[32m2024-01-27 20:39:50.148\u001b[0m | \u001b[34m\u001b[1mDEBUG   \u001b[0m | \u001b[36msidekick.query\u001b[0m:\u001b[36mgenerate_sql\u001b[0m:\u001b[36m486\u001b[0m - \u001b[34m\u001b[1mFilter Context: []\u001b[0m\n",
      "\u001b[32m2024-01-27 20:39:50.149\u001b[0m | \u001b[1mINFO    \u001b[0m | \u001b[36msidekick.query\u001b[0m:\u001b[36mgenerate_sql\u001b[0m:\u001b[36m494\u001b[0m - \u001b[1mFiltering Question/Query pairs ...\u001b[0m\n",
      "\u001b[32m2024-01-27 20:39:50.150\u001b[0m | \u001b[1mINFO    \u001b[0m | \u001b[36msidekick.query\u001b[0m:\u001b[36mgenerate_sql\u001b[0m:\u001b[36m496\u001b[0m - \u001b[1mNumber of context queries found: 0\u001b[0m\n",
      "\u001b[32m2024-01-27 20:39:50.151\u001b[0m | \u001b[1mINFO    \u001b[0m | \u001b[36msidekick.query\u001b[0m:\u001b[36mgenerate_sql\u001b[0m:\u001b[36m516\u001b[0m - \u001b[1mNumber of possible contextual queries to question: 0\u001b[0m\n",
      "\u001b[32m2024-01-27 20:39:50.152\u001b[0m | \u001b[34m\u001b[1mDEBUG   \u001b[0m | \u001b[36msidekick.utils\u001b[0m:\u001b[36mre_rank\u001b[0m:\u001b[36m138\u001b[0m - \u001b[34m\u001b[1mQuestion length: 11\u001b[0m\n",
      "\u001b[32m2024-01-27 20:39:50.153\u001b[0m | \u001b[34m\u001b[1mDEBUG   \u001b[0m | \u001b[36msidekick.query\u001b[0m:\u001b[36mgenerate_sql\u001b[0m:\u001b[36m561\u001b[0m - \u001b[34m\u001b[1mRelevant sample column values: {'sleep_health_eda': [\"'Gender' contains values similar to Male,Female.\", \"'Occupation' contains values similar to Lawyer,Teacher,Doctor,Software Engineer,Scientist,Sales Representative,Accountant,Salesperson,Manager,Nurse.\", \"'BMI_Category' contains values similar to Overweight,Normal,Obese,Normal Weight.\", \"'Sleep_Disorder' contains values similar to None,Sleep Apnea,Insomnia.\"]}\u001b[0m\n",
      "\u001b[32m2024-01-27 20:39:50.155\u001b[0m | \u001b[34m\u001b[1mDEBUG   \u001b[0m | \u001b[36msidekick.query\u001b[0m:\u001b[36mgenerate_sql\u001b[0m:\u001b[36m578\u001b[0m - \u001b[34m\u001b[1mQuery Text:\n",
      " \n",
      "### Instructions:\n",
      "Your task is convert a question into a valid sqlite syntax SQL query, given a sqlite database schema. Let's work this out step by step to be sure we have the right answer.\n",
      "Only use the column names from the CREATE TABLE statement.\n",
      "Adhere to these rules:\n",
      "- **Deliberately go through the question and database schema word by word** to appropriately answer the question\n",
      "- **Use Table Aliases** to prevent ambiguity. For example, `SELECT table1.col1, table2.col1 FROM table1 JOIN table2 ON table1.id = table2.id`.\n",
      "- Only use supplied table names: **sleep_health_eda** for generation\n",
      "- Only use column names from the CREATE TABLE statement: **['Person_ID NUMERIC, Gender TEXT, Age NUMERIC, Occupation TEXT, Sleep_Duration NUMERIC, Quality_of_Sleep NUMERIC, Physical_Activity_Level NUMERIC, Stress_Level NUMERIC, BMI_Category TEXT, Blood_Pressure TEXT, Heart_Rate NUMERIC, Daily_Steps NUMERIC, Sleep_Disorder TEXT,']** for generation. DO NOT USE any other column names outside of this.\n",
      "- Avoid overly complex SQL queries, favor concise human readable SQL queries which are easy to understand and debug\n",
      "- Avoid patterns that might be vulnerable to SQL injection, e.g. use proper sanitization and escaping for raw user input\n",
      "- Always cast the numerator as float when computing ratios\n",
      "- Always use COUNT(1) instead of COUNT(*)\n",
      "- If the question is asking for a rate, use COUNT to compute percentage\n",
      "- Avoid using the WITH statement\n",
      "- DO NOT USE aggregate and window function together\n",
      "- Prefer NOT EXISTS to LEFT JOIN ON null id\n",
      "- When using DESC keep NULLs at the end\n",
      "- If JSONB format found in Table schema, do pattern matching on keywords from the question and use SQL functions such as ->> or ->\n",
      "- Use prepared statements with parameterized queries to prevent SQL injection\n",
      "\n",
      "\n",
      "### Input:\n",
      "For SQL TABLE 'sleep_health_eda' with sample question/answer pairs,\n",
      "(), create a valid SQL (dialect:sqlite) query to answer the following question:\n",
      "What are the most common occupations among individuals in the dataset?.\n",
      "This query will run on a database whose schema is represented in this string:\n",
      "CREATE TABLE 'sleep_health_eda' (['Person_ID NUMERIC, Gender TEXT, Age NUMERIC, Occupation TEXT, Sleep_Duration NUMERIC, Quality_of_Sleep NUMERIC, Physical_Activity_Level NUMERIC, Stress_Level NUMERIC, BMI_Category TEXT, Blood_Pressure TEXT, Heart_Rate NUMERIC, Daily_Steps NUMERIC, Sleep_Disorder TEXT,']\n",
      ");\n",
      "\n",
      "-- Table 'sleep_health_eda', , has sample values ({'sleep_health_eda': [\"'Gender' contains values similar to Male,Female.\", \"'Occupation' contains values similar to Lawyer,Teacher,Doctor,Software Engineer,Scientist,Sales Representative,Accountant,Salesperson,Manager,Nurse.\", \"'BMI_Category' contains values similar to Overweight,Normal,Obese,Normal Weight.\", \"'Sleep_Disorder' contains values similar to None,Sleep Apnea,Insomnia.\"]})\n",
      "\n",
      "### Response:\n",
      "Based on your instructions, here is the SELECT SQL query I have generated to answer the question `What are the most common occupations among individuals in the dataset?`:\n",
      "```SELECT\u001b[0m\n",
      "\u001b[32m2024-01-27 20:39:50.161\u001b[0m | \u001b[1mINFO    \u001b[0m | \u001b[36msidekick.query\u001b[0m:\u001b[36mgenerate_sql\u001b[0m:\u001b[36m590\u001b[0m - \u001b[1mContext length: 749\u001b[0m\n",
      "\u001b[32m2024-01-27 20:39:50.162\u001b[0m | \u001b[1mINFO    \u001b[0m | \u001b[36msidekick.query\u001b[0m:\u001b[36mgenerate_sql\u001b[0m:\u001b[36m651\u001b[0m - \u001b[1mRegeneration requested on previous query ...\u001b[0m\n",
      "\u001b[32m2024-01-27 20:39:50.163\u001b[0m | \u001b[34m\u001b[1mDEBUG   \u001b[0m | \u001b[36msidekick.query\u001b[0m:\u001b[36mgenerate_sql\u001b[0m:\u001b[36m652\u001b[0m - \u001b[34m\u001b[1mSelected temperature for fast regeneration : 0.8\u001b[0m\n",
      "Setting `pad_token_id` to `eos_token_id`:0 for open-end generation.\n",
      "\u001b[32m2024-01-27 20:39:52.499\u001b[0m | \u001b[34m\u001b[1mDEBUG   \u001b[0m | \u001b[36msidekick.query\u001b[0m:\u001b[36mgenerate_sql\u001b[0m:\u001b[36m675\u001b[0m - \u001b[34m\u001b[1mTemperature saved: 0.8\u001b[0m\n",
      "\u001b[32m2024-01-27 20:39:52.512\u001b[0m | \u001b[1mINFO    \u001b[0m | \u001b[36msidekick.prompter\u001b[0m:\u001b[36mask\u001b[0m:\u001b[36m608\u001b[0m - \u001b[1mInput query: What are the most common occupations among individuals in the dataset?\u001b[0m\n",
      "\u001b[32m2024-01-27 20:39:52.513\u001b[0m | \u001b[1mINFO    \u001b[0m | \u001b[36msidekick.prompter\u001b[0m:\u001b[36mask\u001b[0m:\u001b[36m609\u001b[0m - \u001b[1mGenerated response:\n",
      "\n",
      "SELECT \"occupation\", COUNT(1) AS \"COUNT\" FROM \"sleep_health_eda\" GROUP BY \"occupation\" ORDER BY \"COUNT\" DESC LIMIT 100\u001b[0m\n",
      "\u001b[32m2024-01-27 20:39:52.516\u001b[0m | \u001b[1mINFO    \u001b[0m | \u001b[36msidekick.prompter\u001b[0m:\u001b[36mask\u001b[0m:\u001b[36m635\u001b[0m - \u001b[1mAlternate responses:\n",
      "\n",
      "[]\u001b[0m\n"
     ]
    },
    {
     "name": "stdout",
     "output_type": "stream",
     "text": [
      "Exiting...\n"
     ]
    }
   ],
   "source": [
    "# On using re-generation flag we toggle the temperature values between 0 and 1 alternating between low \n",
    "# (focus/conservative generation and high values (random/creative generation)\n",
    "res = query(\"What are the most common occupations among individuals in the dataset?\", table_name=\"sleep_health_eda\", \n",
    "            table_info_path=table_info_path, sample_qna_path=None, regenerate=True)"
   ]
  },
  {
   "cell_type": "code",
   "execution_count": 17,
   "id": "cf2fc33d-ea21-4ab2-9019-329f5bc2051d",
   "metadata": {},
   "outputs": [
    {
     "name": "stdout",
     "output_type": "stream",
     "text": [
      "Question = **Generated response for question,**\n",
      "What are the most common occupations among individuals in the dataset?\n",
      "\n",
      "----\n",
      "Generated SQL = ``` sql\n",
      "SELECT \"occupation\",\n",
      "       COUNT(1) AS \"COUNT\"\n",
      "FROM \"sleep_health_eda\"\n",
      "GROUP BY \"occupation\"\n",
      "ORDER BY \"COUNT\" DESC\n",
      "LIMIT 100\n",
      "```\n",
      "\n",
      "\n"
     ]
    }
   ],
   "source": [
    "print(f\"Question = {res[0][0]}\")\n",
    "print(\"----\")\n",
    "print(f\"Generated SQL = {res[0][1]}\")"
   ]
  },
  {
   "cell_type": "code",
   "execution_count": 18,
   "id": "b47bef8d-c991-4581-a7fc-23a056911c3f",
   "metadata": {},
   "outputs": [
    {
     "name": "stderr",
     "output_type": "stream",
     "text": [
      "\u001b[32m2024-01-27 20:39:56.595\u001b[0m | \u001b[1mINFO    \u001b[0m | \u001b[36msidekick.prompter\u001b[0m:\u001b[36mask\u001b[0m:\u001b[36m500\u001b[0m - \u001b[1mTable in use: ['sleep_health_eda']\u001b[0m\n",
      "\u001b[32m2024-01-27 20:39:56.597\u001b[0m | \u001b[1mINFO    \u001b[0m | \u001b[36msidekick.prompter\u001b[0m:\u001b[36mask\u001b[0m:\u001b[36m501\u001b[0m - \u001b[1mSQL dialect for generation: sqlite\u001b[0m\n",
      "\u001b[32m2024-01-27 20:39:56.598\u001b[0m | \u001b[1mINFO    \u001b[0m | \u001b[36msidekick.prompter\u001b[0m:\u001b[36mask\u001b[0m:\u001b[36m534\u001b[0m - \u001b[1mSetting context...\u001b[0m\n",
      "\u001b[32m2024-01-27 20:39:56.599\u001b[0m | \u001b[1mINFO    \u001b[0m | \u001b[36msidekick.prompter\u001b[0m:\u001b[36mask\u001b[0m:\u001b[36m535\u001b[0m - \u001b[1mQuestion: What is the average sleep duration for each gender?\u001b[0m\n",
      "\u001b[32m2024-01-27 20:39:56.601\u001b[0m | \u001b[34m\u001b[1mDEBUG   \u001b[0m | \u001b[36msidekick.prompter\u001b[0m:\u001b[36mask\u001b[0m:\u001b[36m553\u001b[0m - \u001b[34m\u001b[1mTable info path: .//var/lib/tmp/sleep_health_eda_table_info.jsonl\u001b[0m\n",
      "\u001b[32m2024-01-27 20:39:56.602\u001b[0m | \u001b[1mINFO    \u001b[0m | \u001b[36msidekick.utils\u001b[0m:\u001b[36mis_resource_low\u001b[0m:\u001b[36m355\u001b[0m - \u001b[1mNumber of GPUs: 1\u001b[0m\n",
      "\u001b[32m2024-01-27 20:39:56.604\u001b[0m | \u001b[34m\u001b[1mDEBUG   \u001b[0m | \u001b[36msidekick.utils\u001b[0m:\u001b[36mis_resource_low\u001b[0m:\u001b[36m359\u001b[0m - \u001b[34m\u001b[1mInformation on device: 0\u001b[0m\n",
      "\u001b[32m2024-01-27 20:39:56.605\u001b[0m | \u001b[1mINFO    \u001b[0m | \u001b[36msidekick.utils\u001b[0m:\u001b[36mis_resource_low\u001b[0m:\u001b[36m362\u001b[0m - \u001b[1mTotal Memory: 23GB\u001b[0m\n",
      "\u001b[32m2024-01-27 20:39:56.607\u001b[0m | \u001b[1mINFO    \u001b[0m | \u001b[36msidekick.utils\u001b[0m:\u001b[36mis_resource_low\u001b[0m:\u001b[36m363\u001b[0m - \u001b[1mFree GPU memory: 8GB\u001b[0m\n",
      "\u001b[32m2024-01-27 20:39:56.629\u001b[0m | \u001b[1mINFO    \u001b[0m | \u001b[36msidekick.utils\u001b[0m:\u001b[36m_check_file_info\u001b[0m:\u001b[36m469\u001b[0m - \u001b[1mUsing information info from path .//var/lib/tmp/sleep_health_eda_table_info.jsonl\u001b[0m\n",
      "\u001b[32m2024-01-27 20:39:56.631\u001b[0m | \u001b[1mINFO    \u001b[0m | \u001b[36msidekick.prompter\u001b[0m:\u001b[36mask\u001b[0m:\u001b[36m603\u001b[0m - \u001b[1mComputing user request ...\u001b[0m\n",
      "\u001b[32m2024-01-27 20:39:56.640\u001b[0m | \u001b[34m\u001b[1mDEBUG   \u001b[0m | \u001b[36msidekick.utils\u001b[0m:\u001b[36msemantic_search\u001b[0m:\u001b[36m155\u001b[0m - \u001b[34m\u001b[1mInput questions: # query: what is the average sleep duration for each gender?\u001b[0m\n"
     ]
    },
    {
     "data": {
      "application/vnd.jupyter.widget-view+json": {
       "model_id": "5ed8c4c529c54952a30bfb4d99b7ec95",
       "version_major": 2,
       "version_minor": 0
      },
      "text/plain": [
       "Batches:   0%|          | 0/1 [00:00<?, ?it/s]"
      ]
     },
     "metadata": {},
     "output_type": "display_data"
    },
    {
     "name": "stderr",
     "output_type": "stream",
     "text": [
      "\u001b[32m2024-01-27 20:39:56.699\u001b[0m | \u001b[34m\u001b[1mDEBUG   \u001b[0m | \u001b[36msidekick.utils\u001b[0m:\u001b[36msemantic_search\u001b[0m:\u001b[36m160\u001b[0m - \u001b[34m\u001b[1mProbable context: [\"if patterns like 'current time' or 'now' occurs in question\", \"if patterns like 'total number', or 'list' occurs in question\", 'detailed summary', 'summary']\u001b[0m\n"
     ]
    },
    {
     "data": {
      "application/vnd.jupyter.widget-view+json": {
       "model_id": "ee25aba370544cbba305c207e3431b10",
       "version_major": 2,
       "version_minor": 0
      },
      "text/plain": [
       "Batches:   0%|          | 0/1 [00:00<?, ?it/s]"
      ]
     },
     "metadata": {},
     "output_type": "display_data"
    },
    {
     "name": "stderr",
     "output_type": "stream",
     "text": [
      "\u001b[32m2024-01-27 20:39:56.752\u001b[0m | \u001b[34m\u001b[1mDEBUG   \u001b[0m | \u001b[36msidekick.utils\u001b[0m:\u001b[36msemantic_search\u001b[0m:\u001b[36m168\u001b[0m - \u001b[34m\u001b[1mSimilarity score for: if patterns like 'current time' or 'now' occurs in question: 0.8459207869447033\u001b[0m\n",
      "\u001b[32m2024-01-27 20:39:56.755\u001b[0m | \u001b[34m\u001b[1mDEBUG   \u001b[0m | \u001b[36msidekick.utils\u001b[0m:\u001b[36msemantic_search\u001b[0m:\u001b[36m168\u001b[0m - \u001b[34m\u001b[1mSimilarity score for: if patterns like 'total number', or 'list' occurs in question: 0.8319947353454415\u001b[0m\n",
      "\u001b[32m2024-01-27 20:39:56.759\u001b[0m | \u001b[34m\u001b[1mDEBUG   \u001b[0m | \u001b[36msidekick.utils\u001b[0m:\u001b[36msemantic_search\u001b[0m:\u001b[36m168\u001b[0m - \u001b[34m\u001b[1mSimilarity score for: detailed summary: 0.8346069603076574\u001b[0m\n",
      "\u001b[32m2024-01-27 20:39:56.763\u001b[0m | \u001b[34m\u001b[1mDEBUG   \u001b[0m | \u001b[36msidekick.utils\u001b[0m:\u001b[36msemantic_search\u001b[0m:\u001b[36m168\u001b[0m - \u001b[34m\u001b[1mSimilarity score for: summary: 0.8394152180082535\u001b[0m\n",
      "\u001b[32m2024-01-27 20:39:56.764\u001b[0m | \u001b[34m\u001b[1mDEBUG   \u001b[0m | \u001b[36msidekick.utils\u001b[0m:\u001b[36msemantic_search\u001b[0m:\u001b[36m184\u001b[0m - \u001b[34m\u001b[1mSorted context: []\u001b[0m\n",
      "\u001b[32m2024-01-27 20:39:56.766\u001b[0m | \u001b[34m\u001b[1mDEBUG   \u001b[0m | \u001b[36msidekick.query\u001b[0m:\u001b[36mgenerate_sql\u001b[0m:\u001b[36m486\u001b[0m - \u001b[34m\u001b[1mFilter Context: []\u001b[0m\n",
      "\u001b[32m2024-01-27 20:39:56.767\u001b[0m | \u001b[1mINFO    \u001b[0m | \u001b[36msidekick.query\u001b[0m:\u001b[36mgenerate_sql\u001b[0m:\u001b[36m494\u001b[0m - \u001b[1mFiltering Question/Query pairs ...\u001b[0m\n",
      "\u001b[32m2024-01-27 20:39:56.769\u001b[0m | \u001b[1mINFO    \u001b[0m | \u001b[36msidekick.query\u001b[0m:\u001b[36mgenerate_sql\u001b[0m:\u001b[36m496\u001b[0m - \u001b[1mNumber of context queries found: 0\u001b[0m\n",
      "\u001b[32m2024-01-27 20:39:56.770\u001b[0m | \u001b[1mINFO    \u001b[0m | \u001b[36msidekick.query\u001b[0m:\u001b[36mgenerate_sql\u001b[0m:\u001b[36m516\u001b[0m - \u001b[1mNumber of possible contextual queries to question: 0\u001b[0m\n",
      "\u001b[32m2024-01-27 20:39:56.775\u001b[0m | \u001b[34m\u001b[1mDEBUG   \u001b[0m | \u001b[36msidekick.utils\u001b[0m:\u001b[36mre_rank\u001b[0m:\u001b[36m138\u001b[0m - \u001b[34m\u001b[1mQuestion length: 9\u001b[0m\n",
      "\u001b[32m2024-01-27 20:39:56.776\u001b[0m | \u001b[34m\u001b[1mDEBUG   \u001b[0m | \u001b[36msidekick.query\u001b[0m:\u001b[36mgenerate_sql\u001b[0m:\u001b[36m561\u001b[0m - \u001b[34m\u001b[1mRelevant sample column values: {'sleep_health_eda': [\"'Gender' contains values similar to Male,Female.\", \"'Occupation' contains values similar to Lawyer,Teacher,Doctor,Software Engineer,Scientist,Sales Representative,Accountant,Salesperson,Manager,Nurse.\", \"'BMI_Category' contains values similar to Overweight,Normal,Obese,Normal Weight.\", \"'Sleep_Disorder' contains values similar to None,Sleep Apnea,Insomnia.\"]}\u001b[0m\n",
      "\u001b[32m2024-01-27 20:39:56.778\u001b[0m | \u001b[34m\u001b[1mDEBUG   \u001b[0m | \u001b[36msidekick.query\u001b[0m:\u001b[36mgenerate_sql\u001b[0m:\u001b[36m578\u001b[0m - \u001b[34m\u001b[1mQuery Text:\n",
      " \n",
      "### Instructions:\n",
      "Your task is convert a question into a valid sqlite syntax SQL query, given a sqlite database schema. Let's work this out step by step to be sure we have the right answer.\n",
      "Only use the column names from the CREATE TABLE statement.\n",
      "Adhere to these rules:\n",
      "- **Deliberately go through the question and database schema word by word** to appropriately answer the question\n",
      "- **Use Table Aliases** to prevent ambiguity. For example, `SELECT table1.col1, table2.col1 FROM table1 JOIN table2 ON table1.id = table2.id`.\n",
      "- Only use supplied table names: **sleep_health_eda** for generation\n",
      "- Only use column names from the CREATE TABLE statement: **['Person_ID NUMERIC, Gender TEXT, Age NUMERIC, Occupation TEXT, Sleep_Duration NUMERIC, Quality_of_Sleep NUMERIC, Physical_Activity_Level NUMERIC, Stress_Level NUMERIC, BMI_Category TEXT, Blood_Pressure TEXT, Heart_Rate NUMERIC, Daily_Steps NUMERIC, Sleep_Disorder TEXT,']** for generation. DO NOT USE any other column names outside of this.\n",
      "- Avoid overly complex SQL queries, favor concise human readable SQL queries which are easy to understand and debug\n",
      "- Avoid patterns that might be vulnerable to SQL injection, e.g. use proper sanitization and escaping for raw user input\n",
      "- Always cast the numerator as float when computing ratios\n",
      "- Always use COUNT(1) instead of COUNT(*)\n",
      "- If the question is asking for a rate, use COUNT to compute percentage\n",
      "- Avoid using the WITH statement\n",
      "- DO NOT USE aggregate and window function together\n",
      "- Prefer NOT EXISTS to LEFT JOIN ON null id\n",
      "- When using DESC keep NULLs at the end\n",
      "- If JSONB format found in Table schema, do pattern matching on keywords from the question and use SQL functions such as ->> or ->\n",
      "- Use prepared statements with parameterized queries to prevent SQL injection\n",
      "\n",
      "\n",
      "### Input:\n",
      "For SQL TABLE 'sleep_health_eda' with sample question/answer pairs,\n",
      "(), create a valid SQL (dialect:sqlite) query to answer the following question:\n",
      "What is the average sleep duration for each gender?.\n",
      "This query will run on a database whose schema is represented in this string:\n",
      "CREATE TABLE 'sleep_health_eda' (['Person_ID NUMERIC, Gender TEXT, Age NUMERIC, Occupation TEXT, Sleep_Duration NUMERIC, Quality_of_Sleep NUMERIC, Physical_Activity_Level NUMERIC, Stress_Level NUMERIC, BMI_Category TEXT, Blood_Pressure TEXT, Heart_Rate NUMERIC, Daily_Steps NUMERIC, Sleep_Disorder TEXT,']\n",
      ");\n",
      "\n",
      "-- Table 'sleep_health_eda', , has sample values ({'sleep_health_eda': [\"'Gender' contains values similar to Male,Female.\", \"'Occupation' contains values similar to Lawyer,Teacher,Doctor,Software Engineer,Scientist,Sales Representative,Accountant,Salesperson,Manager,Nurse.\", \"'BMI_Category' contains values similar to Overweight,Normal,Obese,Normal Weight.\", \"'Sleep_Disorder' contains values similar to None,Sleep Apnea,Insomnia.\"]})\n",
      "\n",
      "### Response:\n",
      "Based on your instructions, here is the SELECT SQL query I have generated to answer the question `What is the average sleep duration for each gender?`:\n",
      "```SELECT\u001b[0m\n",
      "\u001b[32m2024-01-27 20:39:56.785\u001b[0m | \u001b[1mINFO    \u001b[0m | \u001b[36msidekick.query\u001b[0m:\u001b[36mgenerate_sql\u001b[0m:\u001b[36m590\u001b[0m - \u001b[1mContext length: 743\u001b[0m\n",
      "\u001b[32m2024-01-27 20:39:56.787\u001b[0m | \u001b[1mINFO    \u001b[0m | \u001b[36msidekick.query\u001b[0m:\u001b[36mgenerate_sql\u001b[0m:\u001b[36m677\u001b[0m - \u001b[1mRegeneration with options requested on previous query ...\u001b[0m\n",
      "\u001b[32m2024-01-27 20:39:56.788\u001b[0m | \u001b[34m\u001b[1mDEBUG   \u001b[0m | \u001b[36msidekick.query\u001b[0m:\u001b[36mgenerate_sql\u001b[0m:\u001b[36m692\u001b[0m - \u001b[34m\u001b[1mSelected temperature for diverse beam search: 0.4\u001b[0m\n",
      "/home/pramit/.jupyterven/lib/python3.8/site-packages/transformers/generation/configuration_utils.py:392: UserWarning: `do_sample` is set to `False`. However, `temperature` is set to `0.4` -- this flag is only used in sample-based generation modes. You should set `do_sample=True` or unset `temperature`.\n",
      "  warnings.warn(\n",
      "/home/pramit/.jupyterven/lib/python3.8/site-packages/transformers/generation/configuration_utils.py:407: UserWarning: `do_sample` is set to `False`. However, `top_k` is set to `5` -- this flag is only used in sample-based generation modes. You should set `do_sample=True` or unset `top_k`.\n",
      "  warnings.warn(\n",
      "Setting `pad_token_id` to `eos_token_id`:0 for open-end generation.\n",
      "\u001b[32m2024-01-27 20:42:01.434\u001b[0m | \u001b[1mINFO    \u001b[0m | \u001b[36msidekick.query\u001b[0m:\u001b[36mgenerate_sql\u001b[0m:\u001b[36m727\u001b[0m - \u001b[1mGenerated options:\n",
      "\u001b[0m\n",
      "\u001b[32m2024-01-27 20:42:01.440\u001b[0m | \u001b[1mINFO    \u001b[0m | \u001b[36msidekick.query\u001b[0m:\u001b[36mgenerate_sql\u001b[0m:\u001b[36m748\u001b[0m - \u001b[1mAlternate options:\n",
      "Option 1: (_probability_: 0.381034255027771)\n",
      "``` sql\n",
      "SELECT gender,\n",
      "       AVG(sleep_duration) AS average_sleep_duration\n",
      "FROM sleep_health_eda\n",
      "GROUP BY gender\n",
      "ORDER BY average_sleep_duration DESC NULLS LAST\n",
      "LIMIT 100;\n",
      "```\n",
      "\n",
      "\n",
      "\u001b[0m\n",
      "\u001b[32m2024-01-27 20:42:01.444\u001b[0m | \u001b[1mINFO    \u001b[0m | \u001b[36msidekick.query\u001b[0m:\u001b[36mgenerate_sql\u001b[0m:\u001b[36m748\u001b[0m - \u001b[1mAlternate options:\n",
      "Option 2: (_probability_: 0.2624567449092865)\n",
      "``` sql\n",
      "SELECT AVG(sleep_duration) AS average_sleep_duration,\n",
      "       gender\n",
      "FROM sleep_health_eda\n",
      "GROUP BY gender\n",
      "LIMIT 100;\n",
      "```\n",
      "\n",
      "\n",
      "\u001b[0m\n",
      "\u001b[32m2024-01-27 20:42:01.446\u001b[0m | \u001b[1mINFO    \u001b[0m | \u001b[36msidekick.query\u001b[0m:\u001b[36mgenerate_sql\u001b[0m:\u001b[36m748\u001b[0m - \u001b[1mAlternate options:\n",
      "Option 3: (_probability_: 0.22498156130313873)\n",
      "``` sql\n",
      "SELECT Gender,\n",
      "       AVG(Sleep_Duration) AS average_duration\n",
      "FROM sleep_health_eda\n",
      "GROUP BY Gender\n",
      "ORDER BY average_duration DESC NULLS LAST\n",
      "LIMIT 100;\n",
      "```\n",
      "\n",
      "\n",
      "\u001b[0m\n",
      "\u001b[32m2024-01-27 20:42:01.451\u001b[0m | \u001b[1mINFO    \u001b[0m | \u001b[36msidekick.query\u001b[0m:\u001b[36mgenerate_sql\u001b[0m:\u001b[36m748\u001b[0m - \u001b[1mAlternate options:\n",
      "Option 4: (_probability_: 0.13085876405239105)\n",
      "``` sql\n",
      "SELECT 'Gender',\n",
      "       AVG('Sleep_Duration') AS average_sleep_duration\n",
      "FROM'sleep_health_eda'\n",
      "GROUP BY 'Gender'\n",
      "ORDER BY average_sleep_duration DESC NULLS LAST\n",
      "LIMIT 100;\n",
      "```\n",
      "\n",
      "\n",
      "\u001b[0m\n",
      "\u001b[32m2024-01-27 20:42:01.474\u001b[0m | \u001b[1mINFO    \u001b[0m | \u001b[36msidekick.query\u001b[0m:\u001b[36mgenerate_sql\u001b[0m:\u001b[36m748\u001b[0m - \u001b[1mAlternate options:\n",
      "Option 5: (_probability_: 0.0006686743581667542)\n",
      "``` sql\n",
      "SELECT sleep_health_eda.gender,\n",
      "       AVG(sleep_health_eda.sleep_duration) AS average_sleep_duration\n",
      "FROM sleep_health_eda\n",
      "GROUP BY sleep_health_eda.gender\n",
      "ORDER BY average_sleep_duration DESC NULLS LAST;\n",
      "\n",
      "SELECT sleep_health_eda.gender,\n",
      "       AVG(sleep_health_eda.sleep_duration) AS average_sleep_duration\n",
      "FROM sleep_health_eda\n",
      "GROUP BY sleep_health_eda.gender\n",
      "ORDER BY average_sleep_duration DESC NULLS LAST;\n",
      "\n",
      "SELECT sleep_health_eda.gender,\n",
      "       AVG(sleep_health_eda.sleep_duration) AS average_sleep_duration\n",
      "FROM sleep_health_eda\n",
      "GROUP BY sleep_health_eda.gender\n",
      "ORDER BY average_sleep_duration DESC NULLS LAST;\n",
      "\n",
      "SELECT sleep_health_eda.gender,\n",
      "       AVG(sleep_health_eda.sleep_duration) AS average_sleep_duration\n",
      "FROM sleep_health_eda\n",
      "GROUP BY sleep_health_eda.gender\n",
      "ORDER BY average_sleep_duration DESC NULLS LAST;\n",
      "\n",
      "SELECT sleep_health_eda.gender,\n",
      "       AVG(sleep_health_eda.sleep_duration) AS average_sleep_duration\n",
      "FROM sleep_health_eda\n",
      "GROUP BY sleep_health_eda.gender\n",
      "ORDER BY average_sleep_duration DESC NULLS LAST;\n",
      "\n",
      "SELECT sleep_health_eda.gender,\n",
      "       AVG(sleep_health_eda.sleep_duration) AS average_sleep_duration\n",
      "FROM sleep_health_eda\n",
      "GROUP BY sleep_health_eda.gender\n",
      "ORDER BY average_sleep_duration DESC NULLS LAST;\n",
      "\n",
      "SELECT sleep_health_eda.gender,\n",
      "       AVG(sleep_health_eda.sleep_duration) AS average_sleep_duration\n",
      "FROM sleep_health_eda\n",
      "GROUP BY sleep_health_eda.gender\n",
      "ORDER BY average_sleep_duration DESC NULLS LAST;\n",
      "\n",
      "SELECT sleep_health_eda.gender,\n",
      "       AVG(sleep_health_eda.sleep_duration) AS average_sleep_duration\n",
      "FROM sleep_health_eda\n",
      "GROUP BY sleep_health_eda.gender\n",
      "ORDER BY average_sleep_duration DESC NULLS LAST;\n",
      "\n",
      "SELECT sleep_health_eda.gender,\n",
      "       AVG(sleep_health_eda.sleep_duration) AS average_sleep_duration\n",
      "FROM sleep_health_eda\n",
      "GROUP BY sleep_health_eda.gender\n",
      "ORDER BY average_sleep_duration DESC NULLS LAST;\n",
      "\n",
      "SELECT sleep_health_eda.gender,\n",
      "       AVG(sleep_health_eda\n",
      "LIMIT 100;\n",
      "```\n",
      "\n",
      "\n",
      "\u001b[0m\n",
      "\u001b[32m2024-01-27 20:42:01.488\u001b[0m | \u001b[1mINFO    \u001b[0m | \u001b[36msidekick.prompter\u001b[0m:\u001b[36mask\u001b[0m:\u001b[36m608\u001b[0m - \u001b[1mInput query: What is the average sleep duration for each gender?\u001b[0m\n",
      "\u001b[32m2024-01-27 20:42:01.489\u001b[0m | \u001b[1mINFO    \u001b[0m | \u001b[36msidekick.prompter\u001b[0m:\u001b[36mask\u001b[0m:\u001b[36m609\u001b[0m - \u001b[1mGenerated response:\n",
      "\n",
      "SELECT \"gender\", AVG(\"sleep_duration\") AS \"average_sleep_duration\" FROM \"sleep_health_eda\" GROUP BY \"gender\" ORDER BY \"average_sleep_duration\" DESC LIMIT 100\u001b[0m\n",
      "\u001b[32m2024-01-27 20:42:01.492\u001b[0m | \u001b[1mINFO    \u001b[0m | \u001b[36msidekick.prompter\u001b[0m:\u001b[36mask\u001b[0m:\u001b[36m635\u001b[0m - \u001b[1mAlternate responses:\n",
      "\n",
      "['Option 1: (_probability_: 0.381034255027771)\\n``` sql\\nSELECT gender,\\n       AVG(sleep_duration) AS average_sleep_duration\\nFROM sleep_health_eda\\nGROUP BY gender\\nORDER BY average_sleep_duration DESC NULLS LAST\\nLIMIT 100;\\n```\\n\\n\\n', 'Option 2: (_probability_: 0.2624567449092865)\\n``` sql\\nSELECT AVG(sleep_duration) AS average_sleep_duration,\\n       gender\\nFROM sleep_health_eda\\nGROUP BY gender\\nLIMIT 100;\\n```\\n\\n\\n', 'Option 3: (_probability_: 0.22498156130313873)\\n``` sql\\nSELECT Gender,\\n       AVG(Sleep_Duration) AS average_duration\\nFROM sleep_health_eda\\nGROUP BY Gender\\nORDER BY average_duration DESC NULLS LAST\\nLIMIT 100;\\n```\\n\\n\\n', \"Option 4: (_probability_: 0.13085876405239105)\\n``` sql\\nSELECT 'Gender',\\n       AVG('Sleep_Duration') AS average_sleep_duration\\nFROM'sleep_health_eda'\\nGROUP BY 'Gender'\\nORDER BY average_sleep_duration DESC NULLS LAST\\nLIMIT 100;\\n```\\n\\n\\n\", 'Option 5: (_probability_: 0.0006686743581667542)\\n``` sql\\nSELECT sleep_health_eda.gender,\\n       AVG(sleep_health_eda.sleep_duration) AS average_sleep_duration\\nFROM sleep_health_eda\\nGROUP BY sleep_health_eda.gender\\nORDER BY average_sleep_duration DESC NULLS LAST;\\n\\nSELECT sleep_health_eda.gender,\\n       AVG(sleep_health_eda.sleep_duration) AS average_sleep_duration\\nFROM sleep_health_eda\\nGROUP BY sleep_health_eda.gender\\nORDER BY average_sleep_duration DESC NULLS LAST;\\n\\nSELECT sleep_health_eda.gender,\\n       AVG(sleep_health_eda.sleep_duration) AS average_sleep_duration\\nFROM sleep_health_eda\\nGROUP BY sleep_health_eda.gender\\nORDER BY average_sleep_duration DESC NULLS LAST;\\n\\nSELECT sleep_health_eda.gender,\\n       AVG(sleep_health_eda.sleep_duration) AS average_sleep_duration\\nFROM sleep_health_eda\\nGROUP BY sleep_health_eda.gender\\nORDER BY average_sleep_duration DESC NULLS LAST;\\n\\nSELECT sleep_health_eda.gender,\\n       AVG(sleep_health_eda.sleep_duration) AS average_sleep_duration\\nFROM sleep_health_eda\\nGROUP BY sleep_health_eda.gender\\nORDER BY average_sleep_duration DESC NULLS LAST;\\n\\nSELECT sleep_health_eda.gender,\\n       AVG(sleep_health_eda.sleep_duration) AS average_sleep_duration\\nFROM sleep_health_eda\\nGROUP BY sleep_health_eda.gender\\nORDER BY average_sleep_duration DESC NULLS LAST;\\n\\nSELECT sleep_health_eda.gender,\\n       AVG(sleep_health_eda.sleep_duration) AS average_sleep_duration\\nFROM sleep_health_eda\\nGROUP BY sleep_health_eda.gender\\nORDER BY average_sleep_duration DESC NULLS LAST;\\n\\nSELECT sleep_health_eda.gender,\\n       AVG(sleep_health_eda.sleep_duration) AS average_sleep_duration\\nFROM sleep_health_eda\\nGROUP BY sleep_health_eda.gender\\nORDER BY average_sleep_duration DESC NULLS LAST;\\n\\nSELECT sleep_health_eda.gender,\\n       AVG(sleep_health_eda.sleep_duration) AS average_sleep_duration\\nFROM sleep_health_eda\\nGROUP BY sleep_health_eda.gender\\nORDER BY average_sleep_duration DESC NULLS LAST;\\n\\nSELECT sleep_health_eda.gender,\\n       AVG(sleep_health_eda\\nLIMIT 100;\\n```\\n\\n\\n']\u001b[0m\n"
     ]
    },
    {
     "name": "stdout",
     "output_type": "stream",
     "text": [
      "Exiting...\n"
     ]
    }
   ],
   "source": [
    "# Alternate options\n",
    "res = query(\"What is the average sleep duration for each gender?\", table_name=\"sleep_health_eda\", \n",
    "            table_info_path=table_info_path, sample_qna_path=None, regenerate_with_options=True)"
   ]
  },
  {
   "cell_type": "code",
   "execution_count": 19,
   "id": "e415c0b9-466e-4417-ac1e-493914a83c36",
   "metadata": {},
   "outputs": [
    {
     "name": "stdout",
     "output_type": "stream",
     "text": [
      "Question = **Generated response for question,**\n",
      "What is the average sleep duration for each gender?\n",
      "\n",
      "----Options----\n",
      "Option 1: (_probability_: 0.381034255027771)\n",
      "``` sql\n",
      "SELECT gender,\n",
      "       AVG(sleep_duration) AS average_sleep_duration\n",
      "FROM sleep_health_eda\n",
      "GROUP BY gender\n",
      "ORDER BY average_sleep_duration DESC NULLS LAST\n",
      "LIMIT 100;\n",
      "```\n",
      "\n",
      "\n",
      "\n",
      "Option 2: (_probability_: 0.2624567449092865)\n",
      "``` sql\n",
      "SELECT AVG(sleep_duration) AS average_sleep_duration,\n",
      "       gender\n",
      "FROM sleep_health_eda\n",
      "GROUP BY gender\n",
      "LIMIT 100;\n",
      "```\n",
      "\n",
      "\n",
      "\n",
      "Option 3: (_probability_: 0.22498156130313873)\n",
      "``` sql\n",
      "SELECT Gender,\n",
      "       AVG(Sleep_Duration) AS average_duration\n",
      "FROM sleep_health_eda\n",
      "GROUP BY Gender\n",
      "ORDER BY average_duration DESC NULLS LAST\n",
      "LIMIT 100;\n",
      "```\n",
      "\n",
      "\n",
      "\n",
      "Option 4: (_probability_: 0.13085876405239105)\n",
      "``` sql\n",
      "SELECT 'Gender',\n",
      "       AVG('Sleep_Duration') AS average_sleep_duration\n",
      "FROM'sleep_health_eda'\n",
      "GROUP BY 'Gender'\n",
      "ORDER BY average_sleep_duration DESC NULLS LAST\n",
      "LIMIT 100;\n",
      "```\n",
      "\n",
      "\n",
      "\n",
      "Option 5: (_probability_: 0.0006686743581667542)\n",
      "``` sql\n",
      "SELECT sleep_health_eda.gender,\n",
      "       AVG(sleep_health_eda.sleep_duration) AS average_sleep_duration\n",
      "FROM sleep_health_eda\n",
      "GROUP BY sleep_health_eda.gender\n",
      "ORDER BY average_sleep_duration DESC NULLS LAST;\n",
      "\n",
      "SELECT sleep_health_eda.gender,\n",
      "       AVG(sleep_health_eda.sleep_duration) AS average_sleep_duration\n",
      "FROM sleep_health_eda\n",
      "GROUP BY sleep_health_eda.gender\n",
      "ORDER BY average_sleep_duration DESC NULLS LAST;\n",
      "\n",
      "SELECT sleep_health_eda.gender,\n",
      "       AVG(sleep_health_eda.sleep_duration) AS average_sleep_duration\n",
      "FROM sleep_health_eda\n",
      "GROUP BY sleep_health_eda.gender\n",
      "ORDER BY average_sleep_duration DESC NULLS LAST;\n",
      "\n",
      "SELECT sleep_health_eda.gender,\n",
      "       AVG(sleep_health_eda.sleep_duration) AS average_sleep_duration\n",
      "FROM sleep_health_eda\n",
      "GROUP BY sleep_health_eda.gender\n",
      "ORDER BY average_sleep_duration DESC NULLS LAST;\n",
      "\n",
      "SELECT sleep_health_eda.gender,\n",
      "       AVG(sleep_health_eda.sleep_duration) AS average_sleep_duration\n",
      "FROM sleep_health_eda\n",
      "GROUP BY sleep_health_eda.gender\n",
      "ORDER BY average_sleep_duration DESC NULLS LAST;\n",
      "\n",
      "SELECT sleep_health_eda.gender,\n",
      "       AVG(sleep_health_eda.sleep_duration) AS average_sleep_duration\n",
      "FROM sleep_health_eda\n",
      "GROUP BY sleep_health_eda.gender\n",
      "ORDER BY average_sleep_duration DESC NULLS LAST;\n",
      "\n",
      "SELECT sleep_health_eda.gender,\n",
      "       AVG(sleep_health_eda.sleep_duration) AS average_sleep_duration\n",
      "FROM sleep_health_eda\n",
      "GROUP BY sleep_health_eda.gender\n",
      "ORDER BY average_sleep_duration DESC NULLS LAST;\n",
      "\n",
      "SELECT sleep_health_eda.gender,\n",
      "       AVG(sleep_health_eda.sleep_duration) AS average_sleep_duration\n",
      "FROM sleep_health_eda\n",
      "GROUP BY sleep_health_eda.gender\n",
      "ORDER BY average_sleep_duration DESC NULLS LAST;\n",
      "\n",
      "SELECT sleep_health_eda.gender,\n",
      "       AVG(sleep_health_eda.sleep_duration) AS average_sleep_duration\n",
      "FROM sleep_health_eda\n",
      "GROUP BY sleep_health_eda.gender\n",
      "ORDER BY average_sleep_duration DESC NULLS LAST;\n",
      "\n",
      "SELECT sleep_health_eda.gender,\n",
      "       AVG(sleep_health_eda\n",
      "LIMIT 100;\n",
      "```\n",
      "\n",
      "\n",
      "\n"
     ]
    }
   ],
   "source": [
    "print(f\"Question = {res[0][0]}\")\n",
    "print(\"----Options----\")\n",
    "for _r in res[1]:\n",
    "    print(_r)"
   ]
  },
  {
   "cell_type": "code",
   "execution_count": null,
   "id": "f6308230-3595-400e-8f85-0a67bcdca029",
   "metadata": {},
   "outputs": [],
   "source": []
  }
 ],
 "metadata": {
  "kernelspec": {
   "display_name": "Python 3 (ipykernel)",
   "language": "python",
   "name": "python3"
  },
  "language_info": {
   "codemirror_mode": {
    "name": "ipython",
    "version": 3
   },
   "file_extension": ".py",
   "mimetype": "text/x-python",
   "name": "python",
   "nbconvert_exporter": "python",
   "pygments_lexer": "ipython3",
   "version": "3.8.16"
  }
 },
 "nbformat": 4,
 "nbformat_minor": 5
}
