{
    "cells": [
        {
            "cell_type": "code",
            "execution_count": null,
            "id": "aa09e8a1-0248-455b-9cea-ec3f82692e62",
            "metadata": {},
            "outputs": [],
            "source": [
                "#!python3 -m pip install --force-reinstall sql_sidekick-0.1.8-py3-none-any.whl"
            ]
        },
        {
            "cell_type": "code",
            "execution_count": 57,
            "id": "57a3f658-d616-4e87-b98a-7a7bb739567d",
            "metadata": {},
            "outputs": [],
            "source": [
                "import logging\n",
                "import sys\n",
                "\n",
                "logging.basicConfig(stream=sys.stdout, level=logging.INFO)\n",
                "logging.getLogger().addHandler(logging.StreamHandler(stream=sys.stdout))"
            ]
        },
        {
            "cell_type": "code",
            "execution_count": 58,
            "id": "284fe309-1603-488a-a2ec-5ba3f38b35bf",
            "metadata": {},
            "outputs": [],
            "source": [
                "from sidekick.prompter import db_setup, ask\n",
                "from sidekick.schema_generator import generate_schema\n",
                "from sidekick.utils import setup_dir"
            ]
        },
        {
            "cell_type": "code",
            "execution_count": 59,
            "id": "6815a6e6-044e-4f72-9b02-1de0edba93cd",
            "metadata": {},
            "outputs": [],
            "source": [
                "base_path = \"/home/pramit/testing/q/apps/system/sql-sidekick\"\n",
                "cache_path = f\"{base_path}/var/lib/tmp\"\n",
                "setup_dir(base_path)"
            ]
        },
        {
            "cell_type": "code",
            "execution_count": 60,
            "id": "717d67b5-a666-4726-bdc2-b6eac8da64f2",
            "metadata": {},
            "outputs": [
                {
                    "name": "stdout",
                    "output_type": "stream",
                    "text": [
                        " Information supplied:\n",
                        " querydb, localhost, sqlite, abc, 5432\n"
                    ]
                },
                {
                    "name": "stderr",
                    "output_type": "stream",
                    "text": [
                        "\u001b[32m2023-12-01 01:19:13.600\u001b[0m | \u001b[34m\u001b[1mDEBUG   \u001b[0m | \u001b[36msidekick.db_config\u001b[0m:\u001b[36m__init__\u001b[0m:\u001b[36m42\u001b[0m - \u001b[34m\u001b[1mCreating SQLite DB: sqlite:////home/pramit/testing/q/apps/system/sql-sidekick/db/sqlite/querydb.db\u001b[0m\n"
                    ]
                },
                {
                    "name": "stdout",
                    "output_type": "stream",
                    "text": [
                        "Database already exists!\n",
                        "Table name: sleep_health_eda_demo\n"
                    ]
                },
                {
                    "name": "stderr",
                    "output_type": "stream",
                    "text": [
                        "\u001b[32m2023-12-01 01:19:13.607\u001b[0m | \u001b[34m\u001b[1mDEBUG   \u001b[0m | \u001b[36msidekick.db_config\u001b[0m:\u001b[36m_extract_schema_info\u001b[0m:\u001b[36m100\u001b[0m - \u001b[34m\u001b[1mSchema path: /home/pramit/testing/q/apps/system/sql-sidekick/var/lib/tmp/sleep_health_eda_demo_table_info.jsonl\u001b[0m\n",
                        "\u001b[32m2023-12-01 01:19:13.611\u001b[0m | \u001b[34m\u001b[1mDEBUG   \u001b[0m | \u001b[36msidekick.db_config\u001b[0m:\u001b[36mcreate_table\u001b[0m:\u001b[36m145\u001b[0m - \u001b[34m\u001b[1mSchema info used for creating table:\n",
                        " Person_ID NUMERIC,\n",
                        "Gender TEXT COLLATE NOCASE,\n",
                        "Age NUMERIC,\n",
                        "Occupation TEXT COLLATE NOCASE,\n",
                        "Sleep_Duration NUMERIC,\n",
                        "Quality_of_Sleep NUMERIC,\n",
                        "Physical_Activity_Level NUMERIC,\n",
                        "Stress_Level NUMERIC,\n",
                        "BMI_Category TEXT COLLATE NOCASE,\n",
                        "Blood_Pressure TEXT COLLATE NOCASE,\n",
                        "Heart_Rate NUMERIC,\n",
                        "Daily_Steps NUMERIC,\n",
                        "Sleep_Disorder TEXT COLLATE NOCASE\u001b[0m\n"
                    ]
                },
                {
                    "name": "stdout",
                    "output_type": "stream",
                    "text": [
                        "Checked table sleep_health_eda_demo exists in the DB.\n"
                    ]
                },
                {
                    "name": "stderr",
                    "output_type": "stream",
                    "text": [
                        "\u001b[32m2023-12-01 01:19:13.626\u001b[0m | \u001b[34m\u001b[1mDEBUG   \u001b[0m | \u001b[36msidekick.db_config\u001b[0m:\u001b[36madd_samples\u001b[0m:\u001b[36m179\u001b[0m - \u001b[34m\u001b[1mAdding sample values to table: /home/pramit/testing/q/apps/system/sql-sidekick/examples/demo/sleep_health_and_lifestyle_dataset.csv\u001b[0m\n",
                        "\u001b[32m2023-12-01 01:19:13.632\u001b[0m | \u001b[34m\u001b[1mDEBUG   \u001b[0m | \u001b[36msidekick.db_config\u001b[0m:\u001b[36madd_samples\u001b[0m:\u001b[36m185\u001b[0m - \u001b[34m\u001b[1mInserting chunk: 0\u001b[0m\n",
                        "\u001b[32m2023-12-01 01:19:13.723\u001b[0m | \u001b[1mINFO    \u001b[0m | \u001b[36msidekick.db_config\u001b[0m:\u001b[36madd_samples\u001b[0m:\u001b[36m190\u001b[0m - \u001b[1mData inserted into table: sleep_health_eda_demo\u001b[0m\n",
                        "\u001b[32m2023-12-01 01:19:13.727\u001b[0m | \u001b[1mINFO    \u001b[0m | \u001b[36msidekick.db_config\u001b[0m:\u001b[36madd_samples\u001b[0m:\u001b[36m195\u001b[0m - \u001b[1mNumber of rows inserted: 374\u001b[0m\n"
                    ]
                },
                {
                    "name": "stdout",
                    "output_type": "stream",
                    "text": [
                        "Created a Database querydb. Inserted sample values from /home/pramit/testing/q/apps/system/sql-sidekick/examples/demo/sleep_health_and_lifestyle_dataset.csv into table sleep_health_eda_demo, please ask questions!\n"
                    ]
                }
            ],
            "source": [
                "# Setup the DB for a single table (WIP to extend to multiple tables)\n",
                "\n",
                "HOST_NAME = \"localhost\"\n",
                "USER_NAME = \"sqlite\"\n",
                "PASSWORD = \"abc\"\n",
                "DB_NAME = \"querydb\"\n",
                "PORT = \"5432\"\n",
                "\n",
                "\n",
                "# Given .csv file, auto-generate schema\n",
                "# Download dataset --> https://www.kaggle.com/datasets/uom190346a/sleep-health-and-lifestyle-dataset\n",
                "data_path = \"./sleep_health_and_lifestyle_dataset.csv\"\n",
                "table_name = \"sleep_health_eda_demo\"\n",
                "\n",
                "r, table_info_path = generate_schema(data_path, f\"{cache_path}/{table_name}_table_info.jsonl\")\n",
                "\n",
                "llm_response, err = db_setup(\n",
                "                db_name=DB_NAME,\n",
                "                hostname=HOST_NAME,\n",
                "                user_name=USER_NAME,\n",
                "                password=PASSWORD,\n",
                "                port=PORT,\n",
                "                table_info_path=table_info_path,\n",
                "                table_samples_path=data_path,\n",
                "                table_name=table_name,\n",
                "                local_base_path=base_path\n",
                "            )"
            ]
        },
        {
            "cell_type": "code",
            "execution_count": 61,
            "id": "b1b9e737-57f3-40aa-afea-6ca5f8f75a15",
            "metadata": {},
            "outputs": [],
            "source": [
                "def query(\n",
                "    question: str,\n",
                "    table_name,\n",
                "    table_info_path: str,\n",
                "    sample_qna_path: str,\n",
                "    regenerate=False,\n",
                "    regenerate_with_options=False,\n",
                "):\n",
                "    \"\"\"Asks question and returns SQL.\"\"\"\n",
                "    base_path = \"./\"\n",
                "    # self_correction is enabled by default, set to False if not needed.\n",
                "    res = ask(\n",
                "        question=question,\n",
                "        table_info_path=table_info_path,\n",
                "        sample_queries_path=sample_qna_path,\n",
                "        table_name=table_name,\n",
                "        is_command=False,\n",
                "        model_name=\"h2ogpt-sql-nsql-llama-2-7B\",  #Other default model option: h2ogpt-sql-sqlcoder2\n",
                "        is_regenerate=regenerate,\n",
                "        is_regen_with_options=regenerate_with_options,\n",
                "        execute_query=False,\n",
                "        local_base_path=base_path,\n",
                "    )\n",
                "    return res"
            ]
        },
        {
            "cell_type": "code",
            "execution_count": 62,
            "id": "249b49a7-c5fb-4968-9fe6-d6c8ca87fdc5",
            "metadata": {},
            "outputs": [
                {
                    "name": "stderr",
                    "output_type": "stream",
                    "text": [
                        "\u001b[32m2023-12-01 01:19:14.884\u001b[0m | \u001b[1mINFO    \u001b[0m | \u001b[36msidekick.prompter\u001b[0m:\u001b[36mask\u001b[0m:\u001b[36m428\u001b[0m - \u001b[1mTable in use: ['sleep_health_eda_demo']\u001b[0m\n",
                        "\u001b[32m2023-12-01 01:19:14.886\u001b[0m | \u001b[1mINFO    \u001b[0m | \u001b[36msidekick.prompter\u001b[0m:\u001b[36mask\u001b[0m:\u001b[36m460\u001b[0m - \u001b[1mSetting context...\u001b[0m\n",
                        "\u001b[32m2023-12-01 01:19:14.888\u001b[0m | \u001b[1mINFO    \u001b[0m | \u001b[36msidekick.prompter\u001b[0m:\u001b[36mask\u001b[0m:\u001b[36m461\u001b[0m - \u001b[1mQuestion: What is the average sleep duration for each gender?\u001b[0m\n",
                        "\u001b[32m2023-12-01 01:19:14.889\u001b[0m | \u001b[1mINFO    \u001b[0m | \u001b[36msidekick.utils\u001b[0m:\u001b[36mis_resource_low\u001b[0m:\u001b[36m324\u001b[0m - \u001b[1mNumber of GPUs: 1\u001b[0m\n",
                        "\u001b[32m2023-12-01 01:19:14.891\u001b[0m | \u001b[34m\u001b[1mDEBUG   \u001b[0m | \u001b[36msidekick.utils\u001b[0m:\u001b[36mis_resource_low\u001b[0m:\u001b[36m328\u001b[0m - \u001b[34m\u001b[1mInformation on device: 0\u001b[0m\n",
                        "\u001b[32m2023-12-01 01:19:14.892\u001b[0m | \u001b[1mINFO    \u001b[0m | \u001b[36msidekick.utils\u001b[0m:\u001b[36mis_resource_low\u001b[0m:\u001b[36m331\u001b[0m - \u001b[1mTotal Memory: 23GB\u001b[0m\n",
                        "\u001b[32m2023-12-01 01:19:14.894\u001b[0m | \u001b[1mINFO    \u001b[0m | \u001b[36msidekick.utils\u001b[0m:\u001b[36mis_resource_low\u001b[0m:\u001b[36m332\u001b[0m - \u001b[1mFree GPU memory: 9GB\u001b[0m\n",
                        "\u001b[32m2023-12-01 01:19:14.955\u001b[0m | \u001b[1mINFO    \u001b[0m | \u001b[36msidekick.utils\u001b[0m:\u001b[36m_check_file_info\u001b[0m:\u001b[36m438\u001b[0m - \u001b[1mUsing information info from path /home/pramit/testing/q/apps/system/sql-sidekick/var/lib/tmp/sleep_health_eda_demo_table_info.jsonl\u001b[0m\n",
                        "\u001b[32m2023-12-01 01:19:14.979\u001b[0m | \u001b[34m\u001b[1mDEBUG   \u001b[0m | \u001b[36msidekick.utils\u001b[0m:\u001b[36msemantic_search\u001b[0m:\u001b[36m125\u001b[0m - \u001b[34m\u001b[1mInput questions: # query: what is the average sleep duration for each gender?\u001b[0m\n"
                    ]
                },
                {
                    "data": {
                        "application/vnd.jupyter.widget-view+json": {
                            "model_id": "559df732d91e41768981ac5511884d94",
                            "version_major": 2,
                            "version_minor": 0
                        },
                        "text/plain": [
                            "Batches:   0%|          | 0/1 [00:00<?, ?it/s]"
                        ]
                    },
                    "metadata": {},
                    "output_type": "display_data"
                },
                {
                    "name": "stderr",
                    "output_type": "stream",
                    "text": [
                        "\u001b[32m2023-12-01 01:19:15.044\u001b[0m | \u001b[34m\u001b[1mDEBUG   \u001b[0m | \u001b[36msidekick.utils\u001b[0m:\u001b[36msemantic_search\u001b[0m:\u001b[36m130\u001b[0m - \u001b[34m\u001b[1mProbable context: [\"if patterns like 'current time' or 'now' occurs in question\", \"if patterns like 'total number', or 'list' occurs in question\", 'detailed summary', 'summary']\u001b[0m\n"
                    ]
                },
                {
                    "data": {
                        "application/vnd.jupyter.widget-view+json": {
                            "model_id": "f99ba95857074381a894a70c3aa52508",
                            "version_major": 2,
                            "version_minor": 0
                        },
                        "text/plain": [
                            "Batches:   0%|          | 0/1 [00:00<?, ?it/s]"
                        ]
                    },
                    "metadata": {},
                    "output_type": "display_data"
                },
                {
                    "name": "stderr",
                    "output_type": "stream",
                    "text": [
                        "\u001b[32m2023-12-01 01:19:15.084\u001b[0m | \u001b[34m\u001b[1mDEBUG   \u001b[0m | \u001b[36msidekick.utils\u001b[0m:\u001b[36msemantic_search\u001b[0m:\u001b[36m138\u001b[0m - \u001b[34m\u001b[1mSimilarity score for: if patterns like 'current time' or 'now' occurs in question: 0.8459207869447033\u001b[0m\n",
                        "\u001b[32m2023-12-01 01:19:15.087\u001b[0m | \u001b[34m\u001b[1mDEBUG   \u001b[0m | \u001b[36msidekick.utils\u001b[0m:\u001b[36msemantic_search\u001b[0m:\u001b[36m138\u001b[0m - \u001b[34m\u001b[1mSimilarity score for: if patterns like 'total number', or 'list' occurs in question: 0.8319947353454415\u001b[0m\n",
                        "\u001b[32m2023-12-01 01:19:15.089\u001b[0m | \u001b[34m\u001b[1mDEBUG   \u001b[0m | \u001b[36msidekick.utils\u001b[0m:\u001b[36msemantic_search\u001b[0m:\u001b[36m138\u001b[0m - \u001b[34m\u001b[1mSimilarity score for: detailed summary: 0.8346069603076574\u001b[0m\n",
                        "\u001b[32m2023-12-01 01:19:15.091\u001b[0m | \u001b[34m\u001b[1mDEBUG   \u001b[0m | \u001b[36msidekick.utils\u001b[0m:\u001b[36msemantic_search\u001b[0m:\u001b[36m138\u001b[0m - \u001b[34m\u001b[1mSimilarity score for: summary: 0.8394152180082535\u001b[0m\n",
                        "\u001b[32m2023-12-01 01:19:15.093\u001b[0m | \u001b[34m\u001b[1mDEBUG   \u001b[0m | \u001b[36msidekick.utils\u001b[0m:\u001b[36msemantic_search\u001b[0m:\u001b[36m154\u001b[0m - \u001b[34m\u001b[1mSorted context: []\u001b[0m\n",
                        "\u001b[32m2023-12-01 01:19:15.094\u001b[0m | \u001b[34m\u001b[1mDEBUG   \u001b[0m | \u001b[36msidekick.query\u001b[0m:\u001b[36mgenerate_sql\u001b[0m:\u001b[36m402\u001b[0m - \u001b[34m\u001b[1mFilter Context: []\u001b[0m\n",
                        "\u001b[32m2023-12-01 01:19:15.095\u001b[0m | \u001b[1mINFO    \u001b[0m | \u001b[36msidekick.query\u001b[0m:\u001b[36mgenerate_sql\u001b[0m:\u001b[36m410\u001b[0m - \u001b[1mFiltering Question/Query pairs ...\u001b[0m\n",
                        "\u001b[32m2023-12-01 01:19:15.096\u001b[0m | \u001b[1mINFO    \u001b[0m | \u001b[36msidekick.query\u001b[0m:\u001b[36mgenerate_sql\u001b[0m:\u001b[36m412\u001b[0m - \u001b[1mNumber of context queries found: 0\u001b[0m\n",
                        "\u001b[32m2023-12-01 01:19:15.097\u001b[0m | \u001b[1mINFO    \u001b[0m | \u001b[36msidekick.query\u001b[0m:\u001b[36mgenerate_sql\u001b[0m:\u001b[36m432\u001b[0m - \u001b[1mNumber of possible contextual queries to question: 0\u001b[0m\n",
                        "\u001b[32m2023-12-01 01:19:15.099\u001b[0m | \u001b[34m\u001b[1mDEBUG   \u001b[0m | \u001b[36msidekick.utils\u001b[0m:\u001b[36mre_rank\u001b[0m:\u001b[36m108\u001b[0m - \u001b[34m\u001b[1mQuestion length: 9\u001b[0m\n",
                        "\u001b[32m2023-12-01 01:19:15.100\u001b[0m | \u001b[34m\u001b[1mDEBUG   \u001b[0m | \u001b[36msidekick.query\u001b[0m:\u001b[36mgenerate_sql\u001b[0m:\u001b[36m477\u001b[0m - \u001b[34m\u001b[1mRelevant sample column values: {'sleep_health_eda_demo': [\"'Gender' contains values similar to Male,Female.\", \"'Occupation' contains values similar to Accountant,Lawyer,Teacher,Salesperson,Doctor,Manager,Software Engineer,Nurse,Sales Representative,Scientist.\", \"'BMI_Category' contains values similar to Overweight,Normal,Obese,Normal Weight.\", \"'Sleep_Disorder' contains values similar to None,Sleep Apnea,Insomnia.\"]}\u001b[0m\n",
                        "\u001b[32m2023-12-01 01:19:15.102\u001b[0m | \u001b[34m\u001b[1mDEBUG   \u001b[0m | \u001b[36msidekick.query\u001b[0m:\u001b[36mgenerate_sql\u001b[0m:\u001b[36m493\u001b[0m - \u001b[34m\u001b[1mQuery Text:\n",
                        " \n",
                        "For SQL TABLE 'sleep_health_eda_demo' with sample question/answer pairs,\n",
                        "()\n",
                        "\n",
                        "CREATE TABLE 'sleep_health_eda_demo'(['Person_ID (NUMERIC), Gender (TEXT), Age (NUMERIC), Occupation (TEXT), Sleep_Duration (NUMERIC), Quality_of_Sleep (NUMERIC), Physical_Activity_Level (NUMERIC), Stress_Level (NUMERIC), BMI_Category (TEXT), Blood_Pressure (TEXT), Heart_Rate (NUMERIC), Daily_Steps (NUMERIC), Sleep_Disorder (TEXT),']\n",
                        ")\n",
                        "\n",
                        "Table 'sleep_health_eda_demo' has sample values ({'sleep_health_eda_demo': [\"'Gender' contains values similar to Male,Female.\", \"'Occupation' contains values similar to Accountant,Lawyer,Teacher,Salesperson,Doctor,Manager,Software Engineer,Nurse,Sales Representative,Scientist.\", \"'BMI_Category' contains values similar to Overweight,Normal,Obese,Normal Weight.\", \"'Sleep_Disorder' contains values similar to None,Sleep Apnea,Insomnia.\"]})\n",
                        "\n",
                        "\n",
                        "\n",
                        "-- Using valid and syntactically correct SQLite query, answer the following questions (check for typos, grammatical and spelling errors and fix them) with the information for 'sleep_health_eda_demo' provided above; for final SQL only use column names from the CREATE TABLE (Do not query for columns that do not exist).\n",
                        "\n",
                        "\n",
                        "-- Using reference for TABLES 'sleep_health_eda_demo' ; What is the average sleep duration for each gender??\n",
                        "\n",
                        "SELECT\u001b[0m\n",
                        "\u001b[32m2023-12-01 01:19:15.108\u001b[0m | \u001b[1mINFO    \u001b[0m | \u001b[36msidekick.query\u001b[0m:\u001b[36mgenerate_sql\u001b[0m:\u001b[36m499\u001b[0m - \u001b[1mContext length: 392\u001b[0m\n",
                        "\u001b[32m2023-12-01 01:19:15.113\u001b[0m | \u001b[34m\u001b[1mDEBUG   \u001b[0m | \u001b[36msidekick.query\u001b[0m:\u001b[36mgenerate_sql\u001b[0m:\u001b[36m543\u001b[0m - \u001b[34m\u001b[1mGeneration with default temperature : 0.5\u001b[0m\n",
                        "\u001b[32m2023-12-01 01:19:17.070\u001b[0m | \u001b[1mINFO    \u001b[0m | \u001b[36msidekick.prompter\u001b[0m:\u001b[36mask\u001b[0m:\u001b[36m523\u001b[0m - \u001b[1mInput query: What is the average sleep duration for each gender?\u001b[0m\n",
                        "\u001b[32m2023-12-01 01:19:17.071\u001b[0m | \u001b[1mINFO    \u001b[0m | \u001b[36msidekick.prompter\u001b[0m:\u001b[36mask\u001b[0m:\u001b[36m524\u001b[0m - \u001b[1mGenerated response:\n",
                        "\n",
                        "SELECT AVG(\"Sleep_Duration\"), \"Gender\" FROM \"sleep_health_eda_demo\" GROUP BY \"Gender\" LIMIT 100\u001b[0m\n",
                        "\u001b[32m2023-12-01 01:19:17.073\u001b[0m | \u001b[1mINFO    \u001b[0m | \u001b[36msidekick.prompter\u001b[0m:\u001b[36mask\u001b[0m:\u001b[36m550\u001b[0m - \u001b[1mAlternate responses:\n",
                        "\n",
                        "[]\u001b[0m\n"
                    ]
                },
                {
                    "name": "stdout",
                    "output_type": "stream",
                    "text": [
                        "Exiting...\n"
                    ]
                }
            ],
            "source": [
                "res = query(\"What is the average sleep duration for each gender?\", table_name=\"sleep_health_eda_demo\", \n",
                "            table_info_path=table_info_path, sample_qna_path=None)"
            ]
        },
        {
            "cell_type": "code",
            "execution_count": 63,
            "id": "801d8c98-2f91-42a9-ab60-8d71621f8a92",
            "metadata": {},
            "outputs": [
                {
                    "name": "stdout",
                    "output_type": "stream",
                    "text": [
                        "question = **Generated response for question,**\n",
                        "What is the average sleep duration for each gender?\n",
                        "\n",
                        "----\n",
                        "Generated SQL = ``` sql\n",
                        "SELECT AVG(\"Sleep_Duration\"),\n",
                        "       \"Gender\"\n",
                        "FROM \"sleep_health_eda_demo\"\n",
                        "GROUP BY \"Gender\"\n",
                        "LIMIT 100\n",
                        "```\n",
                        "\n",
                        "\n"
                    ]
                }
            ],
            "source": [
                "print(f\"Question = {res[0][0]}\")\n",
                "print(\"----\")\n",
                "print(f\"Generated SQL = {res[0][1]}\")"
            ]
        },
        {
            "cell_type": "code",
            "execution_count": 64,
            "id": "b310d4ce-361b-4229-bbdd-8a188417134b",
            "metadata": {},
            "outputs": [
                {
                    "name": "stderr",
                    "output_type": "stream",
                    "text": [
                        "\u001b[32m2023-12-01 01:19:19.655\u001b[0m | \u001b[1mINFO    \u001b[0m | \u001b[36msidekick.prompter\u001b[0m:\u001b[36mask\u001b[0m:\u001b[36m428\u001b[0m - \u001b[1mTable in use: ['sleep_health_eda_demo']\u001b[0m\n",
                        "\u001b[32m2023-12-01 01:19:19.657\u001b[0m | \u001b[1mINFO    \u001b[0m | \u001b[36msidekick.prompter\u001b[0m:\u001b[36mask\u001b[0m:\u001b[36m460\u001b[0m - \u001b[1mSetting context...\u001b[0m\n",
                        "\u001b[32m2023-12-01 01:19:19.658\u001b[0m | \u001b[1mINFO    \u001b[0m | \u001b[36msidekick.prompter\u001b[0m:\u001b[36mask\u001b[0m:\u001b[36m461\u001b[0m - \u001b[1mQuestion: What is the average sleep duration for each gender?\u001b[0m\n",
                        "\u001b[32m2023-12-01 01:19:19.660\u001b[0m | \u001b[1mINFO    \u001b[0m | \u001b[36msidekick.utils\u001b[0m:\u001b[36mis_resource_low\u001b[0m:\u001b[36m324\u001b[0m - \u001b[1mNumber of GPUs: 1\u001b[0m\n",
                        "\u001b[32m2023-12-01 01:19:19.661\u001b[0m | \u001b[34m\u001b[1mDEBUG   \u001b[0m | \u001b[36msidekick.utils\u001b[0m:\u001b[36mis_resource_low\u001b[0m:\u001b[36m328\u001b[0m - \u001b[34m\u001b[1mInformation on device: 0\u001b[0m\n",
                        "\u001b[32m2023-12-01 01:19:19.663\u001b[0m | \u001b[1mINFO    \u001b[0m | \u001b[36msidekick.utils\u001b[0m:\u001b[36mis_resource_low\u001b[0m:\u001b[36m331\u001b[0m - \u001b[1mTotal Memory: 23GB\u001b[0m\n",
                        "\u001b[32m2023-12-01 01:19:19.664\u001b[0m | \u001b[1mINFO    \u001b[0m | \u001b[36msidekick.utils\u001b[0m:\u001b[36mis_resource_low\u001b[0m:\u001b[36m332\u001b[0m - \u001b[1mFree GPU memory: 9GB\u001b[0m\n",
                        "\u001b[32m2023-12-01 01:19:19.725\u001b[0m | \u001b[1mINFO    \u001b[0m | \u001b[36msidekick.utils\u001b[0m:\u001b[36m_check_file_info\u001b[0m:\u001b[36m438\u001b[0m - \u001b[1mUsing information info from path /home/pramit/testing/q/apps/system/sql-sidekick/var/lib/tmp/sleep_health_eda_demo_table_info.jsonl\u001b[0m\n",
                        "\u001b[32m2023-12-01 01:19:19.750\u001b[0m | \u001b[34m\u001b[1mDEBUG   \u001b[0m | \u001b[36msidekick.utils\u001b[0m:\u001b[36msemantic_search\u001b[0m:\u001b[36m125\u001b[0m - \u001b[34m\u001b[1mInput questions: # query: what is the average sleep duration for each gender?\u001b[0m\n"
                    ]
                },
                {
                    "data": {
                        "application/vnd.jupyter.widget-view+json": {
                            "model_id": "7bed9ec41f43422d81859744a870355b",
                            "version_major": 2,
                            "version_minor": 0
                        },
                        "text/plain": [
                            "Batches:   0%|          | 0/1 [00:00<?, ?it/s]"
                        ]
                    },
                    "metadata": {},
                    "output_type": "display_data"
                },
                {
                    "name": "stderr",
                    "output_type": "stream",
                    "text": [
                        "\u001b[32m2023-12-01 01:19:19.795\u001b[0m | \u001b[34m\u001b[1mDEBUG   \u001b[0m | \u001b[36msidekick.utils\u001b[0m:\u001b[36msemantic_search\u001b[0m:\u001b[36m130\u001b[0m - \u001b[34m\u001b[1mProbable context: [\"if patterns like 'current time' or 'now' occurs in question\", \"if patterns like 'total number', or 'list' occurs in question\", 'detailed summary', 'summary']\u001b[0m\n"
                    ]
                },
                {
                    "data": {
                        "application/vnd.jupyter.widget-view+json": {
                            "model_id": "317700b3536246ffaf466434b8284cff",
                            "version_major": 2,
                            "version_minor": 0
                        },
                        "text/plain": [
                            "Batches:   0%|          | 0/1 [00:00<?, ?it/s]"
                        ]
                    },
                    "metadata": {},
                    "output_type": "display_data"
                },
                {
                    "name": "stderr",
                    "output_type": "stream",
                    "text": [
                        "\u001b[32m2023-12-01 01:19:19.836\u001b[0m | \u001b[34m\u001b[1mDEBUG   \u001b[0m | \u001b[36msidekick.utils\u001b[0m:\u001b[36msemantic_search\u001b[0m:\u001b[36m138\u001b[0m - \u001b[34m\u001b[1mSimilarity score for: if patterns like 'current time' or 'now' occurs in question: 0.8459207869447033\u001b[0m\n",
                        "\u001b[32m2023-12-01 01:19:19.839\u001b[0m | \u001b[34m\u001b[1mDEBUG   \u001b[0m | \u001b[36msidekick.utils\u001b[0m:\u001b[36msemantic_search\u001b[0m:\u001b[36m138\u001b[0m - \u001b[34m\u001b[1mSimilarity score for: if patterns like 'total number', or 'list' occurs in question: 0.8319947353454415\u001b[0m\n",
                        "\u001b[32m2023-12-01 01:19:19.841\u001b[0m | \u001b[34m\u001b[1mDEBUG   \u001b[0m | \u001b[36msidekick.utils\u001b[0m:\u001b[36msemantic_search\u001b[0m:\u001b[36m138\u001b[0m - \u001b[34m\u001b[1mSimilarity score for: detailed summary: 0.8346069603076574\u001b[0m\n",
                        "\u001b[32m2023-12-01 01:19:19.844\u001b[0m | \u001b[34m\u001b[1mDEBUG   \u001b[0m | \u001b[36msidekick.utils\u001b[0m:\u001b[36msemantic_search\u001b[0m:\u001b[36m138\u001b[0m - \u001b[34m\u001b[1mSimilarity score for: summary: 0.8394152180082535\u001b[0m\n",
                        "\u001b[32m2023-12-01 01:19:19.845\u001b[0m | \u001b[34m\u001b[1mDEBUG   \u001b[0m | \u001b[36msidekick.utils\u001b[0m:\u001b[36msemantic_search\u001b[0m:\u001b[36m154\u001b[0m - \u001b[34m\u001b[1mSorted context: []\u001b[0m\n",
                        "\u001b[32m2023-12-01 01:19:19.847\u001b[0m | \u001b[34m\u001b[1mDEBUG   \u001b[0m | \u001b[36msidekick.query\u001b[0m:\u001b[36mgenerate_sql\u001b[0m:\u001b[36m402\u001b[0m - \u001b[34m\u001b[1mFilter Context: []\u001b[0m\n",
                        "\u001b[32m2023-12-01 01:19:19.848\u001b[0m | \u001b[1mINFO    \u001b[0m | \u001b[36msidekick.query\u001b[0m:\u001b[36mgenerate_sql\u001b[0m:\u001b[36m410\u001b[0m - \u001b[1mFiltering Question/Query pairs ...\u001b[0m\n",
                        "\u001b[32m2023-12-01 01:19:19.850\u001b[0m | \u001b[1mINFO    \u001b[0m | \u001b[36msidekick.query\u001b[0m:\u001b[36mgenerate_sql\u001b[0m:\u001b[36m412\u001b[0m - \u001b[1mNumber of context queries found: 0\u001b[0m\n",
                        "\u001b[32m2023-12-01 01:19:19.851\u001b[0m | \u001b[1mINFO    \u001b[0m | \u001b[36msidekick.query\u001b[0m:\u001b[36mgenerate_sql\u001b[0m:\u001b[36m432\u001b[0m - \u001b[1mNumber of possible contextual queries to question: 0\u001b[0m\n",
                        "\u001b[32m2023-12-01 01:19:19.852\u001b[0m | \u001b[34m\u001b[1mDEBUG   \u001b[0m | \u001b[36msidekick.utils\u001b[0m:\u001b[36mre_rank\u001b[0m:\u001b[36m108\u001b[0m - \u001b[34m\u001b[1mQuestion length: 9\u001b[0m\n",
                        "\u001b[32m2023-12-01 01:19:19.854\u001b[0m | \u001b[34m\u001b[1mDEBUG   \u001b[0m | \u001b[36msidekick.query\u001b[0m:\u001b[36mgenerate_sql\u001b[0m:\u001b[36m477\u001b[0m - \u001b[34m\u001b[1mRelevant sample column values: {'sleep_health_eda_demo': [\"'Gender' contains values similar to Male,Female.\", \"'Occupation' contains values similar to Accountant,Lawyer,Teacher,Salesperson,Doctor,Manager,Software Engineer,Nurse,Sales Representative,Scientist.\", \"'BMI_Category' contains values similar to Overweight,Normal,Obese,Normal Weight.\", \"'Sleep_Disorder' contains values similar to None,Sleep Apnea,Insomnia.\"]}\u001b[0m\n",
                        "\u001b[32m2023-12-01 01:19:19.855\u001b[0m | \u001b[34m\u001b[1mDEBUG   \u001b[0m | \u001b[36msidekick.query\u001b[0m:\u001b[36mgenerate_sql\u001b[0m:\u001b[36m493\u001b[0m - \u001b[34m\u001b[1mQuery Text:\n",
                        " \n",
                        "For SQL TABLE 'sleep_health_eda_demo' with sample question/answer pairs,\n",
                        "()\n",
                        "\n",
                        "CREATE TABLE 'sleep_health_eda_demo'(['Person_ID (NUMERIC), Gender (TEXT), Age (NUMERIC), Occupation (TEXT), Sleep_Duration (NUMERIC), Quality_of_Sleep (NUMERIC), Physical_Activity_Level (NUMERIC), Stress_Level (NUMERIC), BMI_Category (TEXT), Blood_Pressure (TEXT), Heart_Rate (NUMERIC), Daily_Steps (NUMERIC), Sleep_Disorder (TEXT),']\n",
                        ")\n",
                        "\n",
                        "Table 'sleep_health_eda_demo' has sample values ({'sleep_health_eda_demo': [\"'Gender' contains values similar to Male,Female.\", \"'Occupation' contains values similar to Accountant,Lawyer,Teacher,Salesperson,Doctor,Manager,Software Engineer,Nurse,Sales Representative,Scientist.\", \"'BMI_Category' contains values similar to Overweight,Normal,Obese,Normal Weight.\", \"'Sleep_Disorder' contains values similar to None,Sleep Apnea,Insomnia.\"]})\n",
                        "\n",
                        "\n",
                        "\n",
                        "-- Using valid and syntactically correct SQLite query, answer the following questions (check for typos, grammatical and spelling errors and fix them) with the information for 'sleep_health_eda_demo' provided above; for final SQL only use column names from the CREATE TABLE (Do not query for columns that do not exist).\n",
                        "\n",
                        "\n",
                        "-- Using reference for TABLES 'sleep_health_eda_demo' ; What is the average sleep duration for each gender??\n",
                        "\n",
                        "SELECT\u001b[0m\n",
                        "\u001b[32m2023-12-01 01:19:19.861\u001b[0m | \u001b[1mINFO    \u001b[0m | \u001b[36msidekick.query\u001b[0m:\u001b[36mgenerate_sql\u001b[0m:\u001b[36m499\u001b[0m - \u001b[1mContext length: 392\u001b[0m\n",
                        "\u001b[32m2023-12-01 01:19:19.866\u001b[0m | \u001b[1mINFO    \u001b[0m | \u001b[36msidekick.query\u001b[0m:\u001b[36mgenerate_sql\u001b[0m:\u001b[36m556\u001b[0m - \u001b[1mRegeneration requested on previous query ...\u001b[0m\n",
                        "\u001b[32m2023-12-01 01:19:19.867\u001b[0m | \u001b[34m\u001b[1mDEBUG   \u001b[0m | \u001b[36msidekick.query\u001b[0m:\u001b[36mgenerate_sql\u001b[0m:\u001b[36m557\u001b[0m - \u001b[34m\u001b[1mSelected temperature for fast regeneration : 0.1\u001b[0m\n",
                        "\u001b[32m2023-12-01 01:19:21.752\u001b[0m | \u001b[34m\u001b[1mDEBUG   \u001b[0m | \u001b[36msidekick.query\u001b[0m:\u001b[36mgenerate_sql\u001b[0m:\u001b[36m568\u001b[0m - \u001b[34m\u001b[1mTemperature saved: 0.1\u001b[0m\n",
                        "\u001b[32m2023-12-01 01:19:21.754\u001b[0m | \u001b[1mINFO    \u001b[0m | \u001b[36msidekick.prompter\u001b[0m:\u001b[36mask\u001b[0m:\u001b[36m523\u001b[0m - \u001b[1mInput query: What is the average sleep duration for each gender?\u001b[0m\n",
                        "\u001b[32m2023-12-01 01:19:21.755\u001b[0m | \u001b[1mINFO    \u001b[0m | \u001b[36msidekick.prompter\u001b[0m:\u001b[36mask\u001b[0m:\u001b[36m524\u001b[0m - \u001b[1mGenerated response:\n",
                        "\n",
                        "SELECT AVG(\"Sleep_Duration\"), \"Gender\" FROM \"sleep_health_eda_demo\" GROUP BY \"Gender\" LIMIT 100\u001b[0m\n",
                        "\u001b[32m2023-12-01 01:19:21.758\u001b[0m | \u001b[1mINFO    \u001b[0m | \u001b[36msidekick.prompter\u001b[0m:\u001b[36mask\u001b[0m:\u001b[36m550\u001b[0m - \u001b[1mAlternate responses:\n",
                        "\n",
                        "[]\u001b[0m\n"
                    ]
                },
                {
                    "name": "stdout",
                    "output_type": "stream",
                    "text": [
                        "Exiting...\n"
                    ]
                }
            ],
            "source": [
                "# On using re-generation flag we toggle the temperature values between 0 and 1 alternating between low \n",
                "# (focus/conservative generation and high values (random/creative generation)\n",
                "res = query(\"What is the average sleep duration for each gender?\", table_name=\"sleep_health_eda_demo\", \n",
                "            table_info_path=table_info_path, sample_qna_path=None, regenerate=True)"
            ]
        },
        {
            "cell_type": "code",
            "execution_count": 65,
            "id": "72748681-1ab9-4160-b459-7e94869b47f4",
            "metadata": {},
            "outputs": [
                {
                    "name": "stdout",
                    "output_type": "stream",
                    "text": [
                        "question = **Generated response for question,**\n",
                        "What is the average sleep duration for each gender?\n",
                        "\n",
                        "----\n",
                        "Generated SQL = ``` sql\n",
                        "SELECT AVG(\"Sleep_Duration\"),\n",
                        "       \"Gender\"\n",
                        "FROM \"sleep_health_eda_demo\"\n",
                        "GROUP BY \"Gender\"\n",
                        "LIMIT 100\n",
                        "```\n",
                        "\n",
                        "\n"
                    ]
                }
            ],
            "source": [
                "print(f\"Question = {res[0][0]}\")\n",
                "print(\"----\")\n",
                "print(f\"Generated SQL = {res[0][1]}\")"
            ]
        },
        {
            "cell_type": "code",
            "execution_count": 66,
            "id": "f13537e0-b839-4aed-8fdc-597d4a05085c",
            "metadata": {},
            "outputs": [
                {
                    "name": "stderr",
                    "output_type": "stream",
                    "text": [
                        "\u001b[32m2023-12-01 01:19:21.788\u001b[0m | \u001b[1mINFO    \u001b[0m | \u001b[36msidekick.prompter\u001b[0m:\u001b[36mask\u001b[0m:\u001b[36m428\u001b[0m - \u001b[1mTable in use: ['sleep_health_eda_demo']\u001b[0m\n",
                        "\u001b[32m2023-12-01 01:19:21.790\u001b[0m | \u001b[1mINFO    \u001b[0m | \u001b[36msidekick.prompter\u001b[0m:\u001b[36mask\u001b[0m:\u001b[36m460\u001b[0m - \u001b[1mSetting context...\u001b[0m\n",
                        "\u001b[32m2023-12-01 01:19:21.791\u001b[0m | \u001b[1mINFO    \u001b[0m | \u001b[36msidekick.prompter\u001b[0m:\u001b[36mask\u001b[0m:\u001b[36m461\u001b[0m - \u001b[1mQuestion: What is the average sleep duration for each gender?\u001b[0m\n",
                        "\u001b[32m2023-12-01 01:19:21.792\u001b[0m | \u001b[1mINFO    \u001b[0m | \u001b[36msidekick.utils\u001b[0m:\u001b[36mis_resource_low\u001b[0m:\u001b[36m324\u001b[0m - \u001b[1mNumber of GPUs: 1\u001b[0m\n",
                        "\u001b[32m2023-12-01 01:19:21.793\u001b[0m | \u001b[34m\u001b[1mDEBUG   \u001b[0m | \u001b[36msidekick.utils\u001b[0m:\u001b[36mis_resource_low\u001b[0m:\u001b[36m328\u001b[0m - \u001b[34m\u001b[1mInformation on device: 0\u001b[0m\n",
                        "\u001b[32m2023-12-01 01:19:21.794\u001b[0m | \u001b[1mINFO    \u001b[0m | \u001b[36msidekick.utils\u001b[0m:\u001b[36mis_resource_low\u001b[0m:\u001b[36m331\u001b[0m - \u001b[1mTotal Memory: 23GB\u001b[0m\n",
                        "\u001b[32m2023-12-01 01:19:21.795\u001b[0m | \u001b[1mINFO    \u001b[0m | \u001b[36msidekick.utils\u001b[0m:\u001b[36mis_resource_low\u001b[0m:\u001b[36m332\u001b[0m - \u001b[1mFree GPU memory: 9GB\u001b[0m\n",
                        "\u001b[32m2023-12-01 01:19:21.817\u001b[0m | \u001b[1mINFO    \u001b[0m | \u001b[36msidekick.utils\u001b[0m:\u001b[36m_check_file_info\u001b[0m:\u001b[36m438\u001b[0m - \u001b[1mUsing information info from path /home/pramit/testing/q/apps/system/sql-sidekick/var/lib/tmp/sleep_health_eda_demo_table_info.jsonl\u001b[0m\n",
                        "\u001b[32m2023-12-01 01:19:21.831\u001b[0m | \u001b[34m\u001b[1mDEBUG   \u001b[0m | \u001b[36msidekick.utils\u001b[0m:\u001b[36msemantic_search\u001b[0m:\u001b[36m125\u001b[0m - \u001b[34m\u001b[1mInput questions: # query: what is the average sleep duration for each gender?\u001b[0m\n"
                    ]
                },
                {
                    "data": {
                        "application/vnd.jupyter.widget-view+json": {
                            "model_id": "12b2a514ddd14f358e0fb4dd1e984a11",
                            "version_major": 2,
                            "version_minor": 0
                        },
                        "text/plain": [
                            "Batches:   0%|          | 0/1 [00:00<?, ?it/s]"
                        ]
                    },
                    "metadata": {},
                    "output_type": "display_data"
                },
                {
                    "name": "stderr",
                    "output_type": "stream",
                    "text": [
                        "\u001b[32m2023-12-01 01:19:21.862\u001b[0m | \u001b[34m\u001b[1mDEBUG   \u001b[0m | \u001b[36msidekick.utils\u001b[0m:\u001b[36msemantic_search\u001b[0m:\u001b[36m130\u001b[0m - \u001b[34m\u001b[1mProbable context: [\"if patterns like 'current time' or 'now' occurs in question\", \"if patterns like 'total number', or 'list' occurs in question\", 'detailed summary', 'summary']\u001b[0m\n"
                    ]
                },
                {
                    "data": {
                        "application/vnd.jupyter.widget-view+json": {
                            "model_id": "54b25e54e68f43d4a9c78b126364bf3f",
                            "version_major": 2,
                            "version_minor": 0
                        },
                        "text/plain": [
                            "Batches:   0%|          | 0/1 [00:00<?, ?it/s]"
                        ]
                    },
                    "metadata": {},
                    "output_type": "display_data"
                },
                {
                    "name": "stderr",
                    "output_type": "stream",
                    "text": [
                        "\u001b[32m2023-12-01 01:19:21.893\u001b[0m | \u001b[34m\u001b[1mDEBUG   \u001b[0m | \u001b[36msidekick.utils\u001b[0m:\u001b[36msemantic_search\u001b[0m:\u001b[36m138\u001b[0m - \u001b[34m\u001b[1mSimilarity score for: if patterns like 'current time' or 'now' occurs in question: 0.8459207869447033\u001b[0m\n",
                        "\u001b[32m2023-12-01 01:19:21.896\u001b[0m | \u001b[34m\u001b[1mDEBUG   \u001b[0m | \u001b[36msidekick.utils\u001b[0m:\u001b[36msemantic_search\u001b[0m:\u001b[36m138\u001b[0m - \u001b[34m\u001b[1mSimilarity score for: if patterns like 'total number', or 'list' occurs in question: 0.8319947353454415\u001b[0m\n",
                        "\u001b[32m2023-12-01 01:19:21.897\u001b[0m | \u001b[34m\u001b[1mDEBUG   \u001b[0m | \u001b[36msidekick.utils\u001b[0m:\u001b[36msemantic_search\u001b[0m:\u001b[36m138\u001b[0m - \u001b[34m\u001b[1mSimilarity score for: detailed summary: 0.8346069603076574\u001b[0m\n",
                        "\u001b[32m2023-12-01 01:19:21.899\u001b[0m | \u001b[34m\u001b[1mDEBUG   \u001b[0m | \u001b[36msidekick.utils\u001b[0m:\u001b[36msemantic_search\u001b[0m:\u001b[36m138\u001b[0m - \u001b[34m\u001b[1mSimilarity score for: summary: 0.8394152180082535\u001b[0m\n",
                        "\u001b[32m2023-12-01 01:19:21.900\u001b[0m | \u001b[34m\u001b[1mDEBUG   \u001b[0m | \u001b[36msidekick.utils\u001b[0m:\u001b[36msemantic_search\u001b[0m:\u001b[36m154\u001b[0m - \u001b[34m\u001b[1mSorted context: []\u001b[0m\n",
                        "\u001b[32m2023-12-01 01:19:21.901\u001b[0m | \u001b[34m\u001b[1mDEBUG   \u001b[0m | \u001b[36msidekick.query\u001b[0m:\u001b[36mgenerate_sql\u001b[0m:\u001b[36m402\u001b[0m - \u001b[34m\u001b[1mFilter Context: []\u001b[0m\n",
                        "\u001b[32m2023-12-01 01:19:21.902\u001b[0m | \u001b[1mINFO    \u001b[0m | \u001b[36msidekick.query\u001b[0m:\u001b[36mgenerate_sql\u001b[0m:\u001b[36m410\u001b[0m - \u001b[1mFiltering Question/Query pairs ...\u001b[0m\n",
                        "\u001b[32m2023-12-01 01:19:21.903\u001b[0m | \u001b[1mINFO    \u001b[0m | \u001b[36msidekick.query\u001b[0m:\u001b[36mgenerate_sql\u001b[0m:\u001b[36m412\u001b[0m - \u001b[1mNumber of context queries found: 0\u001b[0m\n",
                        "\u001b[32m2023-12-01 01:19:21.904\u001b[0m | \u001b[1mINFO    \u001b[0m | \u001b[36msidekick.query\u001b[0m:\u001b[36mgenerate_sql\u001b[0m:\u001b[36m432\u001b[0m - \u001b[1mNumber of possible contextual queries to question: 0\u001b[0m\n",
                        "\u001b[32m2023-12-01 01:19:21.904\u001b[0m | \u001b[34m\u001b[1mDEBUG   \u001b[0m | \u001b[36msidekick.utils\u001b[0m:\u001b[36mre_rank\u001b[0m:\u001b[36m108\u001b[0m - \u001b[34m\u001b[1mQuestion length: 9\u001b[0m\n",
                        "\u001b[32m2023-12-01 01:19:21.905\u001b[0m | \u001b[34m\u001b[1mDEBUG   \u001b[0m | \u001b[36msidekick.query\u001b[0m:\u001b[36mgenerate_sql\u001b[0m:\u001b[36m477\u001b[0m - \u001b[34m\u001b[1mRelevant sample column values: {'sleep_health_eda_demo': [\"'Gender' contains values similar to Male,Female.\", \"'Occupation' contains values similar to Accountant,Lawyer,Teacher,Salesperson,Doctor,Manager,Software Engineer,Nurse,Sales Representative,Scientist.\", \"'BMI_Category' contains values similar to Overweight,Normal,Obese,Normal Weight.\", \"'Sleep_Disorder' contains values similar to None,Sleep Apnea,Insomnia.\"]}\u001b[0m\n",
                        "\u001b[32m2023-12-01 01:19:21.906\u001b[0m | \u001b[34m\u001b[1mDEBUG   \u001b[0m | \u001b[36msidekick.query\u001b[0m:\u001b[36mgenerate_sql\u001b[0m:\u001b[36m493\u001b[0m - \u001b[34m\u001b[1mQuery Text:\n",
                        " \n",
                        "For SQL TABLE 'sleep_health_eda_demo' with sample question/answer pairs,\n",
                        "()\n",
                        "\n",
                        "CREATE TABLE 'sleep_health_eda_demo'(['Person_ID (NUMERIC), Gender (TEXT), Age (NUMERIC), Occupation (TEXT), Sleep_Duration (NUMERIC), Quality_of_Sleep (NUMERIC), Physical_Activity_Level (NUMERIC), Stress_Level (NUMERIC), BMI_Category (TEXT), Blood_Pressure (TEXT), Heart_Rate (NUMERIC), Daily_Steps (NUMERIC), Sleep_Disorder (TEXT),']\n",
                        ")\n",
                        "\n",
                        "Table 'sleep_health_eda_demo' has sample values ({'sleep_health_eda_demo': [\"'Gender' contains values similar to Male,Female.\", \"'Occupation' contains values similar to Accountant,Lawyer,Teacher,Salesperson,Doctor,Manager,Software Engineer,Nurse,Sales Representative,Scientist.\", \"'BMI_Category' contains values similar to Overweight,Normal,Obese,Normal Weight.\", \"'Sleep_Disorder' contains values similar to None,Sleep Apnea,Insomnia.\"]})\n",
                        "\n",
                        "\n",
                        "\n",
                        "-- Using valid and syntactically correct SQLite query, answer the following questions (check for typos, grammatical and spelling errors and fix them) with the information for 'sleep_health_eda_demo' provided above; for final SQL only use column names from the CREATE TABLE (Do not query for columns that do not exist).\n",
                        "\n",
                        "\n",
                        "-- Using reference for TABLES 'sleep_health_eda_demo' ; What is the average sleep duration for each gender??\n",
                        "\n",
                        "SELECT\u001b[0m\n",
                        "\u001b[32m2023-12-01 01:19:21.908\u001b[0m | \u001b[1mINFO    \u001b[0m | \u001b[36msidekick.query\u001b[0m:\u001b[36mgenerate_sql\u001b[0m:\u001b[36m499\u001b[0m - \u001b[1mContext length: 392\u001b[0m\n",
                        "\u001b[32m2023-12-01 01:19:21.912\u001b[0m | \u001b[1mINFO    \u001b[0m | \u001b[36msidekick.query\u001b[0m:\u001b[36mgenerate_sql\u001b[0m:\u001b[36m570\u001b[0m - \u001b[1mRegeneration with options requested on previous query ...\u001b[0m\n",
                        "\u001b[32m2023-12-01 01:19:21.913\u001b[0m | \u001b[34m\u001b[1mDEBUG   \u001b[0m | \u001b[36msidekick.query\u001b[0m:\u001b[36mgenerate_sql\u001b[0m:\u001b[36m572\u001b[0m - \u001b[34m\u001b[1mSelected temperature for diverse beam search: 0.75\u001b[0m\n",
                        "/home/pramit/.jupyterven/lib/python3.8/site-packages/transformers/generation/configuration_utils.py:381: UserWarning: `do_sample` is set to `False`. However, `temperature` is set to `0.75` -- this flag is only used in sample-based generation modes. You should set `do_sample=True` or unset `temperature`.\n",
                        "  warnings.warn(\n",
                        "/home/pramit/.jupyterven/lib/python3.8/site-packages/transformers/generation/configuration_utils.py:386: UserWarning: `do_sample` is set to `False`. However, `top_p` is set to `0.9` -- this flag is only used in sample-based generation modes. You should set `do_sample=True` or unset `top_p`.\n",
                        "  warnings.warn(\n",
                        "/home/pramit/.jupyterven/lib/python3.8/site-packages/transformers/generation/configuration_utils.py:396: UserWarning: `do_sample` is set to `False`. However, `top_k` is set to `5` -- this flag is only used in sample-based generation modes. You should set `do_sample=True` or unset `top_k`.\n",
                        "  warnings.warn(\n",
                        "\u001b[32m2023-12-01 01:19:27.724\u001b[0m | \u001b[1mINFO    \u001b[0m | \u001b[36msidekick.query\u001b[0m:\u001b[36mgenerate_sql\u001b[0m:\u001b[36m607\u001b[0m - \u001b[1mGenerated options:\n",
                        "\u001b[0m\n",
                        "\u001b[32m2023-12-01 01:19:27.731\u001b[0m | \u001b[1mINFO    \u001b[0m | \u001b[36msidekick.query\u001b[0m:\u001b[36mgenerate_sql\u001b[0m:\u001b[36m630\u001b[0m - \u001b[1mOption 1: (_probability_: 0.24343933165073395)\n",
                        "``` sql\n",
                        "SELECT AVG(Gender),\n",
                        "       AVG(Sleep_Duration)\n",
                        "FROM sleep_health_eda_demo\n",
                        "LIMIT 100;\n",
                        "```\n",
                        "\n",
                        "\n",
                        "\u001b[0m\n",
                        "\u001b[32m2023-12-01 01:19:27.734\u001b[0m | \u001b[1mINFO    \u001b[0m | \u001b[36msidekick.query\u001b[0m:\u001b[36mgenerate_sql\u001b[0m:\u001b[36m630\u001b[0m - \u001b[1mOption 2: (_probability_: 0.21723678708076477)\n",
                        "``` sql\n",
                        "SELECT Gender,\n",
                        "       AVG(Sleep_Duration)\n",
                        "FROM sleep_health_eda_demo\n",
                        "GROUP BY Gender\n",
                        "LIMIT 100;\n",
                        "```\n",
                        "\n",
                        "\n",
                        "\u001b[0m\n",
                        "\u001b[32m2023-12-01 01:19:27.737\u001b[0m | \u001b[1mINFO    \u001b[0m | \u001b[36msidekick.query\u001b[0m:\u001b[36mgenerate_sql\u001b[0m:\u001b[36m630\u001b[0m - \u001b[1mOption 3: (_probability_: 0.21618281304836273)\n",
                        "``` sql\n",
                        "SELECT AVG(Sleep_Duration),\n",
                        "       Gender\n",
                        "FROM sleep_health_eda_demo\n",
                        "GROUP BY Gender\n",
                        "LIMIT 100;\n",
                        "```\n",
                        "\n",
                        "\n",
                        "\u001b[0m\n",
                        "\u001b[32m2023-12-01 01:19:27.740\u001b[0m | \u001b[1mINFO    \u001b[0m | \u001b[36msidekick.query\u001b[0m:\u001b[36mgenerate_sql\u001b[0m:\u001b[36m630\u001b[0m - \u001b[1mOption 4: (_probability_: 0.17697547376155853)\n",
                        "``` sql\n",
                        "SELECT AVG(Sleep_Duration),\n",
                        "       Gender (TEXT)\n",
                        "FROM sleep_health_eda_demo\n",
                        "GROUP BY Gender (TEXT)\n",
                        "LIMIT 100;\n",
                        "```\n",
                        "\n",
                        "\n",
                        "\u001b[0m\n",
                        "\u001b[32m2023-12-01 01:19:27.743\u001b[0m | \u001b[1mINFO    \u001b[0m | \u001b[36msidekick.query\u001b[0m:\u001b[36mgenerate_sql\u001b[0m:\u001b[36m630\u001b[0m - \u001b[1mOption 5: (_probability_: 0.14616547524929047)\n",
                        "``` sql\n",
                        "SELECT Gender (TEXT),\n",
                        "       AVG(Sleep_Duration) (NUMERIC)\n",
                        "FROM 'sleep_health_eda_demo'\n",
                        "GROUP BY Gender (TEXT)\n",
                        "LIMIT 100;\n",
                        "```\n",
                        "\n",
                        "\n",
                        "\u001b[0m\n",
                        "\u001b[32m2023-12-01 01:19:27.749\u001b[0m | \u001b[1mINFO    \u001b[0m | \u001b[36msidekick.prompter\u001b[0m:\u001b[36mask\u001b[0m:\u001b[36m523\u001b[0m - \u001b[1mInput query: What is the average sleep duration for each gender?\u001b[0m\n",
                        "\u001b[32m2023-12-01 01:19:27.750\u001b[0m | \u001b[1mINFO    \u001b[0m | \u001b[36msidekick.prompter\u001b[0m:\u001b[36mask\u001b[0m:\u001b[36m524\u001b[0m - \u001b[1mGenerated response:\n",
                        "\n",
                        "SELECT AVG(\"Gender\"), AVG(\"Sleep_Duration\") FROM \"sleep_health_eda_demo\" LIMIT 100\u001b[0m\n",
                        "\u001b[32m2023-12-01 01:19:27.752\u001b[0m | \u001b[1mINFO    \u001b[0m | \u001b[36msidekick.prompter\u001b[0m:\u001b[36mask\u001b[0m:\u001b[36m550\u001b[0m - \u001b[1mAlternate responses:\n",
                        "\n",
                        "['Option 1: (_probability_: 0.24343933165073395)\\n``` sql\\nSELECT AVG(Gender),\\n       AVG(Sleep_Duration)\\nFROM sleep_health_eda_demo\\nLIMIT 100;\\n```\\n\\n\\n', 'Option 2: (_probability_: 0.21723678708076477)\\n``` sql\\nSELECT Gender,\\n       AVG(Sleep_Duration)\\nFROM sleep_health_eda_demo\\nGROUP BY Gender\\nLIMIT 100;\\n```\\n\\n\\n', 'Option 3: (_probability_: 0.21618281304836273)\\n``` sql\\nSELECT AVG(Sleep_Duration),\\n       Gender\\nFROM sleep_health_eda_demo\\nGROUP BY Gender\\nLIMIT 100;\\n```\\n\\n\\n', 'Option 4: (_probability_: 0.17697547376155853)\\n``` sql\\nSELECT AVG(Sleep_Duration),\\n       Gender (TEXT)\\nFROM sleep_health_eda_demo\\nGROUP BY Gender (TEXT)\\nLIMIT 100;\\n```\\n\\n\\n', \"Option 5: (_probability_: 0.14616547524929047)\\n``` sql\\nSELECT Gender (TEXT),\\n       AVG(Sleep_Duration) (NUMERIC)\\nFROM 'sleep_health_eda_demo'\\nGROUP BY Gender (TEXT)\\nLIMIT 100;\\n```\\n\\n\\n\"]\u001b[0m\n"
                    ]
                },
                {
                    "name": "stdout",
                    "output_type": "stream",
                    "text": [
                        "Exiting...\n"
                    ]
                }
            ],
            "source": [
                "# Alternate options\n",
                "res = query(\"What is the average sleep duration for each gender?\", table_name=\"sleep_health_eda_demo\", \n",
                "            table_info_path=table_info_path, sample_qna_path=None, regenerate_with_options=True)"
            ]
        },
        {
            "cell_type": "code",
            "execution_count": 67,
            "id": "80b129e0-c7bb-4564-aa44-c6403d9e4723",
            "metadata": {},
            "outputs": [
                {
                    "name": "stdout",
                    "output_type": "stream",
                    "text": [
                        "question = **Generated response for question,**\n",
                        "What is the average sleep duration for each gender?\n",
                        "\n",
                        "----Options----\n",
                        "Option 1: (_probability_: 0.24343933165073395)\n",
                        "``` sql\n",
                        "SELECT AVG(Gender),\n",
                        "       AVG(Sleep_Duration)\n",
                        "FROM sleep_health_eda_demo\n",
                        "LIMIT 100;\n",
                        "```\n",
                        "\n",
                        "\n",
                        "\n",
                        "Option 2: (_probability_: 0.21723678708076477)\n",
                        "``` sql\n",
                        "SELECT Gender,\n",
                        "       AVG(Sleep_Duration)\n",
                        "FROM sleep_health_eda_demo\n",
                        "GROUP BY Gender\n",
                        "LIMIT 100;\n",
                        "```\n",
                        "\n",
                        "\n",
                        "\n",
                        "Option 3: (_probability_: 0.21618281304836273)\n",
                        "``` sql\n",
                        "SELECT AVG(Sleep_Duration),\n",
                        "       Gender\n",
                        "FROM sleep_health_eda_demo\n",
                        "GROUP BY Gender\n",
                        "LIMIT 100;\n",
                        "```\n",
                        "\n",
                        "\n",
                        "\n",
                        "Option 4: (_probability_: 0.17697547376155853)\n",
                        "``` sql\n",
                        "SELECT AVG(Sleep_Duration),\n",
                        "       Gender (TEXT)\n",
                        "FROM sleep_health_eda_demo\n",
                        "GROUP BY Gender (TEXT)\n",
                        "LIMIT 100;\n",
                        "```\n",
                        "\n",
                        "\n",
                        "\n",
                        "Option 5: (_probability_: 0.14616547524929047)\n",
                        "``` sql\n",
                        "SELECT Gender (TEXT),\n",
                        "       AVG(Sleep_Duration) (NUMERIC)\n",
                        "FROM 'sleep_health_eda_demo'\n",
                        "GROUP BY Gender (TEXT)\n",
                        "LIMIT 100;\n",
                        "```\n",
                        "\n",
                        "\n",
                        "\n"
                    ]
                }
            ],
            "source": [
                "print(f\"Question = {res[0][0]}\")\n",
                "print(\"----Options----\")\n",
                "for _r in res[1]:\n",
                "    print(_r)"
            ]
        },
        {
            "cell_type": "code",
            "execution_count": null,
            "id": "844b1079",
            "metadata": {},
            "outputs": [],
            "source": [
                "# Some times, we are not sure on what Qs to ask.\n",
                "import os\n",
                "from sidekick.prompter import recommend_suggestions\n",
                "\n",
                "os.environ[\"RECOMMENDATION_MODEL_REMOTE_URL\"] = \"https://playground.h2ogpte.h2o.ai\"\n",
                "os.environ[\"RECOMMENDATION_MODEL_API_KEY\"] = \"\"\n",
                "\n",
                "g_eqs = recommend_suggestions(table_info_path, table_name=\"sleep_health_eda_demo\", n_qs=3)"
            ]
        },
        {
            "cell_type": "code",
            "execution_count": null,
            "id": "eb79e4d6-292a-4e69-a448-d365bcf72d7e",
            "metadata": {},
            "outputs": [],
            "source": [
                "# Example 2:\n",
                "# Sample QnA pair is supplied\n",
                "\n",
                "# Given .csv file, auto-generate schema\n",
                "# Replace with relevant dataset path\n",
                "data_path = \"<example.csv>\"\n",
                "# Replace table_name as needed\n",
                "table_name = \"test_demo\"\n",
                "\n",
                "r, table_info_path_test_demo = generate_schema(data_path, f\"{cache_path}/{table_name}_table_info.jsonl\")\n",
                "\n",
                "# Set add_sample=False if no need to add rows to the table (default: = True)\n",
                "llm_response, err = db_setup(\n",
                "                db_name=DB_NAME,\n",
                "                hostname=HOST_NAME,\n",
                "                user_name=USER_NAME,\n",
                "                password=PASSWORD,\n",
                "                port=PORT,\n",
                "                table_info_path=table_info_path_test_demo,\n",
                "                table_samples_path=data_path,\n",
                "                table_name=table_name,\n",
                "                local_base_path=base_path\n",
                "            )"
            ]
        },
        {
            "cell_type": "code",
            "execution_count": 71,
            "id": "a02bf930-7937-43a8-a554-f5d4c39f3153",
            "metadata": {},
            "outputs": [],
            "source": [
                "def query(question: str, table_name, table_info_path: str, sample_qna_path: str, regenerate=False, regenerate_with_options=False):\n",
                "    \"\"\"Asks question and returns SQL.\"\"\"\n",
                "    base_path = \"./\"\n",
                "    res = ask(\n",
                "        question=question,\n",
                "        table_info_path=table_info_path,\n",
                "        sample_queries_path=sample_qna_path,\n",
                "        table_name=table_name,\n",
                "        is_command=False,\n",
                "        model_name=\"h2ogpt-sql-sqlcoder2\",\n",
                "        is_regenerate=regenerate,\n",
                "        is_regen_with_options=regenerate_with_options,\n",
                "        execute_query=False,\n",
                "        local_base_path=base_path\n",
                "    )\n",
                "    return res"
            ]
        },
        {
            "cell_type": "code",
            "execution_count": null,
            "id": "16b7626a-cd5e-407f-bb7f-94ceb6c8c1ec",
            "metadata": {},
            "outputs": [],
            "source": [
                "samples_path = \"samples_qna_pairs.csv\"\n",
                "table_name = \"test_demo\"\n",
                "# Default temperature for generation = 0.5\n",
                "res = query(\"...\", table_name=table_name, table_info_path=table_info_path_test_demo,\n",
                "            sample_qna_path=samples_path)"
            ]
        },
        {
            "cell_type": "code",
            "execution_count": null,
            "id": "7d69e8ad-b431-439c-9ad8-4c4ac5f66646",
            "metadata": {},
            "outputs": [],
            "source": [
                "print(f\"Question = {res[0][0]}\")\n",
                "print(\"----\")\n",
                "print(f\"Generated SQL = {res[0][1]}\")"
            ]
        },
        {
            "cell_type": "code",
            "execution_count": null,
            "id": "7d545fcd-e92d-4533-abd2-f776bdb08244",
            "metadata": {},
            "outputs": [],
            "source": [
                "# With regeneration\n",
                "res = query(\"...\", table_name=table_name, table_info_path=table_info_path_test_demo,\n",
                "            sample_qna_path=samples_path, regenerate=True)"
            ]
        },
        {
            "cell_type": "code",
            "execution_count": null,
            "id": "aa4fb910-40aa-4356-adb5-9fc1e69e8b50",
            "metadata": {},
            "outputs": [],
            "source": [
                "res = query(\"...\", table_name=table_name, table_info_path=table_info_path_test_demo,\n",
                "            sample_qna_path=samples_path, regenerate_with_options=True)"
            ]
        },
        {
            "cell_type": "code",
            "execution_count": null,
            "id": "e14f943d-3fc7-46ff-b375-f0650f9511ea",
            "metadata": {},
            "outputs": [],
            "source": [
                "print(f\"Question = {res[0][0]}\")\n",
                "print(\"----\")\n",
                "for _r in res[1]:\n",
                "    print(_r)"
            ]
        }
    ],
    "metadata": {
        "kernelspec": {
            "display_name": "Python 3 (ipykernel)",
            "language": "python",
            "name": "python3"
        },
        "language_info": {
            "codemirror_mode": {
                "name": "ipython",
                "version": 3
            },
            "file_extension": ".py",
            "mimetype": "text/x-python",
            "name": "python",
            "nbconvert_exporter": "python",
            "pygments_lexer": "ipython3",
            "version": "3.8.16"
        }
    },
    "nbformat": 4,
    "nbformat_minor": 5
}
