{
 "cells": [
  {
   "cell_type": "markdown",
   "id": "8cc48531-3715-4285-b941-6c5c400cc399",
   "metadata": {},
   "source": [
    "**Guardrails:** are important to prevent misuse and mitigate concerns on bad actors. Within sql-sidekick, we have added support for scanning malicious patterns that might occur in generated SELECT statements that might destroy the database or compromise sensitive information. \n",
    "We adopted a 2-step approach, using pattern matching and LLM prompting to ensure safety and compliance in a product setting. The self-corrective loop with external feedback helps maintain syntactical integrity.\n",
    "\n",
    "_Reference:_\n",
    "1. https://github.com/payloadbox/sql-injection-payload-list#generic-sql-injection-payloads\n",
    "2. https://www.invicti.com/blog/web-security/sql-injection-cheat-sheet/#InlineSamples"
   ]
  },
  {
   "cell_type": "code",
   "execution_count": null,
   "id": "ed26aaa3-ec95-4ef9-9a93-05f3c629fe90",
   "metadata": {},
   "outputs": [],
   "source": [
    "# !pip install --force-reinstall sql_sidekick-0.x.x-py3-none-any.whl"
   ]
  },
  {
   "cell_type": "code",
   "execution_count": 1,
   "id": "b336798f-43c6-4ad8-96ba-0cd43ccd8c9d",
   "metadata": {},
   "outputs": [],
   "source": [
    "%load_ext autoreload\n",
    "%autoreload 2"
   ]
  },
  {
   "cell_type": "code",
   "execution_count": 2,
   "id": "337f3cf7-a366-4a2e-9746-3a0b8c5e5a1a",
   "metadata": {},
   "outputs": [
    {
     "data": {
      "text/plain": [
       "'0.2.0'"
      ]
     },
     "execution_count": 2,
     "metadata": {},
     "output_type": "execute_result"
    }
   ],
   "source": [
    "from sidekick import prompter\n",
    "prompter.__version__"
   ]
  },
  {
   "cell_type": "code",
   "execution_count": 3,
   "id": "0a55a6ac-65c3-47e3-ab3e-0818800ba437",
   "metadata": {},
   "outputs": [],
   "source": [
    "import os\n",
    "import pandas as pd\n",
    "from pathlib import Path\n",
    "\n",
    "\n",
    "from sidekick.prompter import ask, db_setup\n",
    "from sidekick.query import SQLGenerator\n",
    "from sidekick.schema_generator import generate_schema\n",
    "from sidekick.utils import setup_dir\n",
    "\n",
    "import warnings\n",
    "warnings.filterwarnings(\"ignore\")"
   ]
  },
  {
   "cell_type": "code",
   "execution_count": 4,
   "id": "78cd0f95-5366-4b3e-b82a-3d5162ab218d",
   "metadata": {},
   "outputs": [],
   "source": [
    "# env variables\n",
    "\n",
    "os.environ['OPENAI_API_KEY'] = \"\"\n",
    "os.environ['H2OGPT_URL'] = ''\n",
    "os.environ['H2OGPT_API_TOKEN'] = \"\"\n",
    "os.environ['H2OGPTE_URL'] = \"https://h2ogpte.genai.h2o.ai\"  # e.g. https://<>.h2ogpte.h2o.ai\n",
    "os.environ['H2OGPTE_API_TOKEN'] = \"\"\n",
    "\n",
    "\n",
    "base_path = \".\"\n",
    "cache_path = f\"{base_path}/var/lib/tmp\"\n",
    "setup_dir(base_path)\n",
    "\n",
    "HOST_NAME = \"localhost\"\n",
    "USER_NAME = \"sqlite\"\n",
    "PASSWORD = \"abc\"\n",
    "DB_NAME = \"query_test\"\n",
    "PORT = \"5432\""
   ]
  },
  {
   "cell_type": "code",
   "execution_count": 5,
   "id": "93071d24-acfa-45e2-9f96-14c6ba87fa82",
   "metadata": {},
   "outputs": [],
   "source": [
    "data_path = \"./sleep_health_and_lifestyle_dataset.csv\"\n",
    "# Replace table_name as needed\n",
    "table_name = \"sleep_health_and_lifestyle\"\n",
    "table_schema, table_info_path = generate_schema(data_path=data_path, output_path=f\"{cache_path}/{table_name}_table_info.jsonl\")\n",
    "\n",
    "# Initialize DB\n",
    "if Path(f\"{base_path}/db/sqlite/{DB_NAME}.db\").exists():\n",
    "    os.remove(f\"{base_path}/db/sqlite/{DB_NAME}.db\")"
   ]
  },
  {
   "cell_type": "code",
   "execution_count": 6,
   "id": "67ea24ce-c170-4977-beb3-f7471c90003c",
   "metadata": {},
   "outputs": [
    {
     "name": "stdout",
     "output_type": "stream",
     "text": [
      " Information supplied:\n",
      " query_test, localhost, sqlite, abc, 5432\n"
     ]
    },
    {
     "name": "stderr",
     "output_type": "stream",
     "text": [
      "\u001b[32m2024-01-19 22:24:26.138\u001b[0m | \u001b[34m\u001b[1mDEBUG   \u001b[0m | \u001b[36msidekick.db_config\u001b[0m:\u001b[36mcreate_db\u001b[0m:\u001b[36m108\u001b[0m - \u001b[34m\u001b[1mSQLite DB is created successfully.\u001b[0m\n"
     ]
    },
    {
     "name": "stdout",
     "output_type": "stream",
     "text": [
      "Database created successfully!\n",
      "Table name: sleep_health_and_lifestyle\n"
     ]
    },
    {
     "name": "stderr",
     "output_type": "stream",
     "text": [
      "\u001b[32m2024-01-19 22:24:26.142\u001b[0m | \u001b[34m\u001b[1mDEBUG   \u001b[0m | \u001b[36msidekick.db_config\u001b[0m:\u001b[36m_extract_schema_info\u001b[0m:\u001b[36m162\u001b[0m - \u001b[34m\u001b[1mUsing schema information from: ./var/lib/tmp/sleep_health_and_lifestyle_table_info.jsonl\u001b[0m\n",
      "\u001b[32m2024-01-19 22:24:26.144\u001b[0m | \u001b[34m\u001b[1mDEBUG   \u001b[0m | \u001b[36msidekick.db_config\u001b[0m:\u001b[36mcreate_table\u001b[0m:\u001b[36m186\u001b[0m - \u001b[34m\u001b[1mSchema info used for creating table:\n",
      " Person_ID NUMERIC,\n",
      "Gender TEXT COLLATE NOCASE,\n",
      "Age NUMERIC,\n",
      "Occupation TEXT COLLATE NOCASE,\n",
      "Sleep_Duration NUMERIC,\n",
      "Quality_of_Sleep NUMERIC,\n",
      "Physical_Activity_Level NUMERIC,\n",
      "Stress_Level NUMERIC,\n",
      "BMI_Category TEXT COLLATE NOCASE,\n",
      "Blood_Pressure TEXT COLLATE NOCASE,\n",
      "Heart_Rate NUMERIC,\n",
      "Daily_Steps NUMERIC,\n",
      "Sleep_Disorder TEXT COLLATE NOCASE\u001b[0m\n",
      "\u001b[32m2024-01-19 22:24:26.155\u001b[0m | \u001b[1mINFO    \u001b[0m | \u001b[36msidekick.db_config\u001b[0m:\u001b[36mcreate_table\u001b[0m:\u001b[36m198\u001b[0m - \u001b[1mTable created: sleep_health_and_lifestyle\u001b[0m\n"
     ]
    },
    {
     "name": "stdout",
     "output_type": "stream",
     "text": [
      "Checked table sleep_health_and_lifestyle exists in the DB.\n"
     ]
    },
    {
     "name": "stderr",
     "output_type": "stream",
     "text": [
      "\u001b[32m2024-01-19 22:24:26.159\u001b[0m | \u001b[34m\u001b[1mDEBUG   \u001b[0m | \u001b[36msidekick.db_config\u001b[0m:\u001b[36madd_samples\u001b[0m:\u001b[36m222\u001b[0m - \u001b[34m\u001b[1mAdding sample values to table: ./sleep_health_and_lifestyle_dataset.csv\u001b[0m\n",
      "\u001b[32m2024-01-19 22:24:26.164\u001b[0m | \u001b[34m\u001b[1mDEBUG   \u001b[0m | \u001b[36msidekick.db_config\u001b[0m:\u001b[36madd_samples\u001b[0m:\u001b[36m228\u001b[0m - \u001b[34m\u001b[1mInserting chunk: 0\u001b[0m\n",
      "\u001b[32m2024-01-19 22:24:26.264\u001b[0m | \u001b[1mINFO    \u001b[0m | \u001b[36msidekick.db_config\u001b[0m:\u001b[36madd_samples\u001b[0m:\u001b[36m233\u001b[0m - \u001b[1mData inserted into table: sleep_health_and_lifestyle\u001b[0m\n",
      "\u001b[32m2024-01-19 22:24:26.267\u001b[0m | \u001b[1mINFO    \u001b[0m | \u001b[36msidekick.db_config\u001b[0m:\u001b[36madd_samples\u001b[0m:\u001b[36m238\u001b[0m - \u001b[1mNumber of rows inserted: 374\u001b[0m\n"
     ]
    },
    {
     "name": "stdout",
     "output_type": "stream",
     "text": [
      "Created a Database query_test. Inserted sample values from ./sleep_health_and_lifestyle_dataset.csv into table sleep_health_and_lifestyle, please ask questions!\n"
     ]
    }
   ],
   "source": [
    "# Set add_sample=False if no need to add rows to the table\n",
    "response , err = db_setup(\n",
    "                db_name=DB_NAME,\n",
    "                hostname=HOST_NAME,\n",
    "                user_name=USER_NAME,\n",
    "                password=PASSWORD,\n",
    "                port=PORT,\n",
    "                table_info_path=table_info_path,\n",
    "                table_samples_path=data_path,\n",
    "                table_name=table_name,\n",
    "                local_base_path=base_path,\n",
    "                add_sample=True\n",
    "            )"
   ]
  },
  {
   "cell_type": "markdown",
   "id": "1760df87-0a90-48be-a226-984d082a2481",
   "metadata": {},
   "source": [
    "## Example 1:"
   ]
  },
  {
   "cell_type": "code",
   "execution_count": 7,
   "id": "b1349eb7-4ba8-4a44-9956-02ed3b1b4c63",
   "metadata": {},
   "outputs": [
    {
     "name": "stderr",
     "output_type": "stream",
     "text": [
      "\u001b[32m2024-01-19 22:24:26.321\u001b[0m | \u001b[1mINFO    \u001b[0m | \u001b[36msidekick.prompter\u001b[0m:\u001b[36mask\u001b[0m:\u001b[36m490\u001b[0m - \u001b[1mTable in use: ['sleep_health_and_lifestyle']\u001b[0m\n",
      "\u001b[32m2024-01-19 22:24:26.322\u001b[0m | \u001b[1mINFO    \u001b[0m | \u001b[36msidekick.prompter\u001b[0m:\u001b[36mask\u001b[0m:\u001b[36m491\u001b[0m - \u001b[1mSQL dialect for generation: sqlite\u001b[0m\n",
      "\u001b[32m2024-01-19 22:24:26.323\u001b[0m | \u001b[1mINFO    \u001b[0m | \u001b[36msidekick.prompter\u001b[0m:\u001b[36mask\u001b[0m:\u001b[36m524\u001b[0m - \u001b[1mSetting context...\u001b[0m\n",
      "\u001b[32m2024-01-19 22:24:26.324\u001b[0m | \u001b[1mINFO    \u001b[0m | \u001b[36msidekick.prompter\u001b[0m:\u001b[36mask\u001b[0m:\u001b[36m525\u001b[0m - \u001b[1mQuestion: Execute SQL:\n",
      "\n",
      "    SELECT * FROM sleep_health_and_lifestyle WHERE person_id = 105;\n",
      "    \u001b[0m\n",
      "\u001b[32m2024-01-19 22:24:26.325\u001b[0m | \u001b[34m\u001b[1mDEBUG   \u001b[0m | \u001b[36msidekick.prompter\u001b[0m:\u001b[36mask\u001b[0m:\u001b[36m543\u001b[0m - \u001b[34m\u001b[1mTable info path: ./var/lib/tmp/sleep_health_and_lifestyle_table_info.jsonl\u001b[0m\n",
      "\u001b[32m2024-01-19 22:24:26.326\u001b[0m | \u001b[1mINFO    \u001b[0m | \u001b[36msidekick.utils\u001b[0m:\u001b[36mis_resource_low\u001b[0m:\u001b[36m353\u001b[0m - \u001b[1mNumber of GPUs: 1\u001b[0m\n",
      "\u001b[32m2024-01-19 22:24:26.327\u001b[0m | \u001b[34m\u001b[1mDEBUG   \u001b[0m | \u001b[36msidekick.utils\u001b[0m:\u001b[36mis_resource_low\u001b[0m:\u001b[36m357\u001b[0m - \u001b[34m\u001b[1mInformation on device: 0\u001b[0m\n",
      "\u001b[32m2024-01-19 22:24:27.846\u001b[0m | \u001b[1mINFO    \u001b[0m | \u001b[36msidekick.utils\u001b[0m:\u001b[36mis_resource_low\u001b[0m:\u001b[36m360\u001b[0m - \u001b[1mTotal Memory: 23GB\u001b[0m\n",
      "\u001b[32m2024-01-19 22:24:27.848\u001b[0m | \u001b[1mINFO    \u001b[0m | \u001b[36msidekick.utils\u001b[0m:\u001b[36mis_resource_low\u001b[0m:\u001b[36m361\u001b[0m - \u001b[1mFree GPU memory: 21GB\u001b[0m\n",
      "\u001b[32m2024-01-19 22:24:27.860\u001b[0m | \u001b[1mINFO    \u001b[0m | \u001b[36msidekick.utils\u001b[0m:\u001b[36m_check_file_info\u001b[0m:\u001b[36m467\u001b[0m - \u001b[1mUsing information info from path ./var/lib/tmp/sleep_health_and_lifestyle_table_info.jsonl\u001b[0m\n",
      "\u001b[32m2024-01-19 22:24:27.861\u001b[0m | \u001b[1mINFO    \u001b[0m | \u001b[36msidekick.prompter\u001b[0m:\u001b[36mask\u001b[0m:\u001b[36m590\u001b[0m - \u001b[1mExecuting user provided SQL without generation...\u001b[0m\n",
      "\u001b[32m2024-01-19 22:24:27.862\u001b[0m | \u001b[1mINFO    \u001b[0m | \u001b[36msidekick.prompter\u001b[0m:\u001b[36mask\u001b[0m:\u001b[36m598\u001b[0m - \u001b[1mInput query: Execute SQL:\n",
      "\n",
      "    SELECT * FROM sleep_health_and_lifestyle WHERE person_id = 105;\n",
      "    \u001b[0m\n",
      "\u001b[32m2024-01-19 22:24:27.863\u001b[0m | \u001b[1mINFO    \u001b[0m | \u001b[36msidekick.prompter\u001b[0m:\u001b[36mask\u001b[0m:\u001b[36m599\u001b[0m - \u001b[1mGenerated response:\n",
      "\n",
      "select * from sleep_health_and_lifestyle where person_id = 105;\u001b[0m\n",
      "\u001b[32m2024-01-19 22:24:27.872\u001b[0m | \u001b[1mINFO    \u001b[0m | \u001b[36msidekick.prompter\u001b[0m:\u001b[36mask\u001b[0m:\u001b[36m625\u001b[0m - \u001b[1mAlternate responses:\n",
      "\n",
      "None\u001b[0m\n",
      "\u001b[32m2024-01-19 22:24:27.874\u001b[0m | \u001b[34m\u001b[1mDEBUG   \u001b[0m | \u001b[36msidekick.db_config\u001b[0m:\u001b[36mexecute_query\u001b[0m:\u001b[36m269\u001b[0m - \u001b[34m\u001b[1mExecuting query:\n",
      " select * from sleep_health_and_lifestyle where person_id = 105;\u001b[0m\n"
     ]
    },
    {
     "name": "stdout",
     "output_type": "stream",
     "text": [
      "The results are:\n",
      " [(105, 'Female', 36, 'Teacher', 7.2, 8, 60, 4, 'Normal', '115/75', 68, 7000, 'Sleep Apnea')]\n",
      "Exiting...\n"
     ]
    }
   ],
   "source": [
    "# Example lets consider a simple query as mentioned below,\n",
    "# Expected output: a single row having information about person_id=105\n",
    "\n",
    "input_q = \"\"\"\n",
    "    SELECT * FROM sleep_health_and_lifestyle WHERE person_id = 105;\n",
    "    \"\"\"\n",
    "\n",
    "# We are running in Debug Mode as we are validating SQL statements directly `debug_mode=True`\n",
    "result = None\n",
    "question = f\"Execute SQL:\\n{input_q}\"\n",
    "\n",
    "result, _, error = ask(\n",
    "    question=question,\n",
    "    table_info_path=table_info_path,\n",
    "    sample_queries_path=None,\n",
    "    table_name=table_name,\n",
    "    is_command=False,\n",
    "    model_name=\"h2ogpt-sql-nsql-llama-2-7B\",\n",
    "    is_regenerate=False,\n",
    "    is_regen_with_options=False,\n",
    "    execute_query=True,\n",
    "    guardrails=False,\n",
    "    local_base_path=base_path,\n",
    "    debug_mode=True,\n",
    "    self_correction=False\n",
    ")"
   ]
  },
  {
   "cell_type": "code",
   "execution_count": 8,
   "id": "3bbbd22f-a65e-4864-8ff6-716ace096e4a",
   "metadata": {},
   "outputs": [
    {
     "name": "stderr",
     "output_type": "stream",
     "text": [
      "\u001b[32m2024-01-19 22:24:27.939\u001b[0m | \u001b[1mINFO    \u001b[0m | \u001b[36msidekick.prompter\u001b[0m:\u001b[36mask\u001b[0m:\u001b[36m490\u001b[0m - \u001b[1mTable in use: ['sleep_health_and_lifestyle']\u001b[0m\n",
      "\u001b[32m2024-01-19 22:24:27.941\u001b[0m | \u001b[1mINFO    \u001b[0m | \u001b[36msidekick.prompter\u001b[0m:\u001b[36mask\u001b[0m:\u001b[36m491\u001b[0m - \u001b[1mSQL dialect for generation: sqlite\u001b[0m\n",
      "\u001b[32m2024-01-19 22:24:27.942\u001b[0m | \u001b[1mINFO    \u001b[0m | \u001b[36msidekick.prompter\u001b[0m:\u001b[36mask\u001b[0m:\u001b[36m524\u001b[0m - \u001b[1mSetting context...\u001b[0m\n",
      "\u001b[32m2024-01-19 22:24:27.942\u001b[0m | \u001b[1mINFO    \u001b[0m | \u001b[36msidekick.prompter\u001b[0m:\u001b[36mask\u001b[0m:\u001b[36m525\u001b[0m - \u001b[1mQuestion: Execute SQL:\n",
      "\n",
      "    SELECT * FROM sleep_health_and_lifestyle WHERE person_id = 105 OR 1=1;\n",
      "    \u001b[0m\n",
      "\u001b[32m2024-01-19 22:24:27.943\u001b[0m | \u001b[34m\u001b[1mDEBUG   \u001b[0m | \u001b[36msidekick.prompter\u001b[0m:\u001b[36mask\u001b[0m:\u001b[36m543\u001b[0m - \u001b[34m\u001b[1mTable info path: ./var/lib/tmp/sleep_health_and_lifestyle_table_info.jsonl\u001b[0m\n",
      "\u001b[32m2024-01-19 22:24:27.944\u001b[0m | \u001b[1mINFO    \u001b[0m | \u001b[36msidekick.utils\u001b[0m:\u001b[36mis_resource_low\u001b[0m:\u001b[36m353\u001b[0m - \u001b[1mNumber of GPUs: 1\u001b[0m\n",
      "\u001b[32m2024-01-19 22:24:27.945\u001b[0m | \u001b[34m\u001b[1mDEBUG   \u001b[0m | \u001b[36msidekick.utils\u001b[0m:\u001b[36mis_resource_low\u001b[0m:\u001b[36m357\u001b[0m - \u001b[34m\u001b[1mInformation on device: 0\u001b[0m\n",
      "\u001b[32m2024-01-19 22:24:27.946\u001b[0m | \u001b[1mINFO    \u001b[0m | \u001b[36msidekick.utils\u001b[0m:\u001b[36mis_resource_low\u001b[0m:\u001b[36m360\u001b[0m - \u001b[1mTotal Memory: 23GB\u001b[0m\n",
      "\u001b[32m2024-01-19 22:24:27.947\u001b[0m | \u001b[1mINFO    \u001b[0m | \u001b[36msidekick.utils\u001b[0m:\u001b[36mis_resource_low\u001b[0m:\u001b[36m361\u001b[0m - \u001b[1mFree GPU memory: 21GB\u001b[0m\n",
      "\u001b[32m2024-01-19 22:24:27.957\u001b[0m | \u001b[1mINFO    \u001b[0m | \u001b[36msidekick.utils\u001b[0m:\u001b[36m_check_file_info\u001b[0m:\u001b[36m467\u001b[0m - \u001b[1mUsing information info from path ./var/lib/tmp/sleep_health_and_lifestyle_table_info.jsonl\u001b[0m\n",
      "\u001b[32m2024-01-19 22:24:27.958\u001b[0m | \u001b[1mINFO    \u001b[0m | \u001b[36msidekick.prompter\u001b[0m:\u001b[36mask\u001b[0m:\u001b[36m590\u001b[0m - \u001b[1mExecuting user provided SQL without generation...\u001b[0m\n",
      "\u001b[32m2024-01-19 22:24:27.959\u001b[0m | \u001b[1mINFO    \u001b[0m | \u001b[36msidekick.prompter\u001b[0m:\u001b[36mask\u001b[0m:\u001b[36m598\u001b[0m - \u001b[1mInput query: Execute SQL:\n",
      "\n",
      "    SELECT * FROM sleep_health_and_lifestyle WHERE person_id = 105 OR 1=1;\n",
      "    \u001b[0m\n",
      "\u001b[32m2024-01-19 22:24:27.960\u001b[0m | \u001b[1mINFO    \u001b[0m | \u001b[36msidekick.prompter\u001b[0m:\u001b[36mask\u001b[0m:\u001b[36m599\u001b[0m - \u001b[1mGenerated response:\n",
      "\n",
      "select * from sleep_health_and_lifestyle where person_id = 105 or 1=1;\u001b[0m\n",
      "\u001b[32m2024-01-19 22:24:27.962\u001b[0m | \u001b[1mINFO    \u001b[0m | \u001b[36msidekick.prompter\u001b[0m:\u001b[36mask\u001b[0m:\u001b[36m625\u001b[0m - \u001b[1mAlternate responses:\n",
      "\n",
      "None\u001b[0m\n",
      "\u001b[32m2024-01-19 22:24:27.964\u001b[0m | \u001b[34m\u001b[1mDEBUG   \u001b[0m | \u001b[36msidekick.db_config\u001b[0m:\u001b[36mexecute_query\u001b[0m:\u001b[36m269\u001b[0m - \u001b[34m\u001b[1mExecuting query:\n",
      " select * from sleep_health_and_lifestyle where person_id = 105 or 1=1;\u001b[0m\n"
     ]
    },
    {
     "name": "stdout",
     "output_type": "stream",
     "text": [
      "Preview of the result:\n",
      "    Person_ID Gender  Age         Occupation  Sleep_Duration  Quality_of_Sleep  \\\n",
      "0          1   Male   27  Software Engineer             6.1                 6   \n",
      "1          2   Male   28             Doctor             6.2                 6   \n",
      "\n",
      "   Physical_Activity_Level  Stress_Level BMI_Category Blood_Pressure  \\\n",
      "0                       42             6   Overweight         126/83   \n",
      "1                       60             8       Normal         125/80   \n",
      "\n",
      "   Heart_Rate  Daily_Steps Sleep_Disorder  \n",
      "0          77         4200           None  \n",
      "1          75        10000           None  \n",
      "Exiting...\n",
      "Number of rows returned: (101, 13)\n"
     ]
    }
   ],
   "source": [
    "# Injecting malicious tokens\n",
    "# Example: OR 1=1\n",
    "# Below user input is a syntactically valid SQL statement but since `0R 1=1` is always true, instead of returning information\n",
    "# about person_id=105; a bad actor might get information about all user.\n",
    "\n",
    "# Built-in guardrails is disabled\n",
    "# Result contains more than one rows\n",
    "\n",
    "result = None\n",
    "input_q = \"\"\"\n",
    "    SELECT * FROM sleep_health_and_lifestyle WHERE person_id = 105 OR 1=1;\n",
    "    \"\"\"\n",
    "question = f\"Execute SQL:\\n{input_q}\"\n",
    "#1. Self correction is disabled\n",
    "result, _, error = ask(\n",
    "    question=question,\n",
    "    table_info_path=table_info_path,\n",
    "    sample_queries_path=None,\n",
    "    table_name=table_name,\n",
    "    is_command=False,\n",
    "    model_name=\"h2ogpt-sql-nsql-llama-2-7B\",\n",
    "    is_regenerate=False,\n",
    "    is_regen_with_options=False,\n",
    "    execute_query=True,\n",
    "    guardrails=False,\n",
    "    local_base_path=base_path,\n",
    "    debug_mode=True,\n",
    "    self_correction=False\n",
    ")\n",
    "\n",
    "# format final output\n",
    "import ast\n",
    "\n",
    "res = ast.literal_eval(result[4])\n",
    "final_res = pd.DataFrame(res)\n",
    "\n",
    "print(f\"Number of rows returned: {final_res.shape}\") "
   ]
  },
  {
   "cell_type": "code",
   "execution_count": 9,
   "id": "72112ca3-4894-40d0-8115-9aef1e98205b",
   "metadata": {},
   "outputs": [
    {
     "name": "stderr",
     "output_type": "stream",
     "text": [
      "\u001b[32m2024-01-19 22:24:28.043\u001b[0m | \u001b[1mINFO    \u001b[0m | \u001b[36msidekick.prompter\u001b[0m:\u001b[36mask\u001b[0m:\u001b[36m490\u001b[0m - \u001b[1mTable in use: ['sleep_health_and_lifestyle']\u001b[0m\n",
      "\u001b[32m2024-01-19 22:24:28.044\u001b[0m | \u001b[1mINFO    \u001b[0m | \u001b[36msidekick.prompter\u001b[0m:\u001b[36mask\u001b[0m:\u001b[36m491\u001b[0m - \u001b[1mSQL dialect for generation: sqlite\u001b[0m\n",
      "\u001b[32m2024-01-19 22:24:28.046\u001b[0m | \u001b[1mINFO    \u001b[0m | \u001b[36msidekick.prompter\u001b[0m:\u001b[36mask\u001b[0m:\u001b[36m524\u001b[0m - \u001b[1mSetting context...\u001b[0m\n",
      "\u001b[32m2024-01-19 22:24:28.047\u001b[0m | \u001b[1mINFO    \u001b[0m | \u001b[36msidekick.prompter\u001b[0m:\u001b[36mask\u001b[0m:\u001b[36m525\u001b[0m - \u001b[1mQuestion: Execute SQL:\n",
      "\n",
      "    SELECT * FROM sleep_health_and_lifestyle WHERE person_id = 105 OR 1=1;\n",
      "    \u001b[0m\n",
      "\u001b[32m2024-01-19 22:24:28.048\u001b[0m | \u001b[34m\u001b[1mDEBUG   \u001b[0m | \u001b[36msidekick.prompter\u001b[0m:\u001b[36mask\u001b[0m:\u001b[36m543\u001b[0m - \u001b[34m\u001b[1mTable info path: ./var/lib/tmp/sleep_health_and_lifestyle_table_info.jsonl\u001b[0m\n",
      "\u001b[32m2024-01-19 22:24:28.049\u001b[0m | \u001b[1mINFO    \u001b[0m | \u001b[36msidekick.utils\u001b[0m:\u001b[36mis_resource_low\u001b[0m:\u001b[36m353\u001b[0m - \u001b[1mNumber of GPUs: 1\u001b[0m\n",
      "\u001b[32m2024-01-19 22:24:28.051\u001b[0m | \u001b[34m\u001b[1mDEBUG   \u001b[0m | \u001b[36msidekick.utils\u001b[0m:\u001b[36mis_resource_low\u001b[0m:\u001b[36m357\u001b[0m - \u001b[34m\u001b[1mInformation on device: 0\u001b[0m\n",
      "\u001b[32m2024-01-19 22:24:28.052\u001b[0m | \u001b[1mINFO    \u001b[0m | \u001b[36msidekick.utils\u001b[0m:\u001b[36mis_resource_low\u001b[0m:\u001b[36m360\u001b[0m - \u001b[1mTotal Memory: 23GB\u001b[0m\n",
      "\u001b[32m2024-01-19 22:24:28.053\u001b[0m | \u001b[1mINFO    \u001b[0m | \u001b[36msidekick.utils\u001b[0m:\u001b[36mis_resource_low\u001b[0m:\u001b[36m361\u001b[0m - \u001b[1mFree GPU memory: 21GB\u001b[0m\n",
      "\u001b[32m2024-01-19 22:24:28.062\u001b[0m | \u001b[1mINFO    \u001b[0m | \u001b[36msidekick.utils\u001b[0m:\u001b[36m_check_file_info\u001b[0m:\u001b[36m467\u001b[0m - \u001b[1mUsing information info from path ./var/lib/tmp/sleep_health_and_lifestyle_table_info.jsonl\u001b[0m\n",
      "\u001b[32m2024-01-19 22:24:28.063\u001b[0m | \u001b[1mINFO    \u001b[0m | \u001b[36msidekick.prompter\u001b[0m:\u001b[36mask\u001b[0m:\u001b[36m590\u001b[0m - \u001b[1mExecuting user provided SQL without generation...\u001b[0m\n",
      "\u001b[32m2024-01-19 22:24:28.064\u001b[0m | \u001b[1mINFO    \u001b[0m | \u001b[36msidekick.prompter\u001b[0m:\u001b[36mask\u001b[0m:\u001b[36m598\u001b[0m - \u001b[1mInput query: Execute SQL:\n",
      "\n",
      "    SELECT * FROM sleep_health_and_lifestyle WHERE person_id = 105 OR 1=1;\n",
      "    \u001b[0m\n",
      "\u001b[32m2024-01-19 22:24:28.065\u001b[0m | \u001b[1mINFO    \u001b[0m | \u001b[36msidekick.prompter\u001b[0m:\u001b[36mask\u001b[0m:\u001b[36m599\u001b[0m - \u001b[1mGenerated response:\n",
      "\n",
      "select * from sleep_health_and_lifestyle where person_id = 105 or 1=1;\u001b[0m\n",
      "\u001b[32m2024-01-19 22:24:28.067\u001b[0m | \u001b[1mINFO    \u001b[0m | \u001b[36msidekick.prompter\u001b[0m:\u001b[36mask\u001b[0m:\u001b[36m625\u001b[0m - \u001b[1mAlternate responses:\n",
      "\n",
      "None\u001b[0m\n",
      "\u001b[32m2024-01-19 22:24:28.068\u001b[0m | \u001b[1mINFO    \u001b[0m | \u001b[36msidekick.prompter\u001b[0m:\u001b[36mask\u001b[0m:\u001b[36m638\u001b[0m - \u001b[1mChecking for vulnerabilities in the provided SQL: select * from sleep_health_and_lifestyle where person_id = 105 or 1=1;\u001b[0m\n",
      "\u001b[32m2024-01-19 22:24:28.075\u001b[0m | \u001b[34m\u001b[1mDEBUG   \u001b[0m | \u001b[36msidekick.utils\u001b[0m:\u001b[36mcheck_vulnerability\u001b[0m:\u001b[36m548\u001b[0m - \u001b[34m\u001b[1mRequesting additional scan using configured models\u001b[0m\n"
     ]
    },
    {
     "name": "stdout",
     "output_type": "stream",
     "text": [
      "Warning: Server version 1.3.0-dev5 doesn't match client version 1.2.7: unexpected errors may occur.\n",
      "Please install the correct version of H2OGPTE with `pip install h2ogpte==1.3.0-dev5`.\n",
      "You can enable strict version checking by passing strict_version_check=True.\n",
      "The results are:\n",
      " The input question has malicious patterns, **('or', '', ''), or 1=1** that could lead to SQL Injection.\n",
      "Sorry, I will not be able to provide an answer.\n",
      "Please try rephrasing the question. The query is vulnerable to SQL injection. The use of the OR clause with a constant value (1=1) is a common indicator of an injection attack. This suggests that an attacker may be able to manipulate the query to execute arbitrary SQL code, potentially leading to unauthorized access or modification of data.\n",
      "Exiting...\n"
     ]
    }
   ],
   "source": [
    "# With guardrails 'ON', we are able prevent such ambigious intent\n",
    "# Enabling quardrails is configurable by setting the `guardrails=True/false`\n",
    "\n",
    "result = None\n",
    "input_q = \"\"\"\n",
    "    SELECT * FROM sleep_health_and_lifestyle WHERE person_id = 105 OR 1=1;\n",
    "    \"\"\"\n",
    "question = f\"Execute SQL:\\n{input_q}\"\n",
    "\n",
    "result, _, error = ask(\n",
    "    question=question,\n",
    "    table_info_path=table_info_path,\n",
    "    sample_queries_path=None,\n",
    "    table_name=table_name,\n",
    "    is_command=False,\n",
    "    model_name=\"h2ogpt-sql-nsql-llama-2-7B\",\n",
    "    is_regenerate=False,\n",
    "    is_regen_with_options=False,\n",
    "    execute_query=True,\n",
    "    guardrails=True,\n",
    "    local_base_path=base_path,\n",
    "    debug_mode=True,\n",
    "    self_correction=False\n",
    ")"
   ]
  },
  {
   "cell_type": "markdown",
   "id": "62492d4f-72e8-4bb6-8d17-520dc0645b1a",
   "metadata": {},
   "source": [
    "## Example 2:\n",
    "Classic Inline Comment SQL Injection Attack"
   ]
  },
  {
   "cell_type": "code",
   "execution_count": 10,
   "id": "2fd7f05d-ce44-4b45-90c5-4c077dddacdf",
   "metadata": {},
   "outputs": [
    {
     "name": "stderr",
     "output_type": "stream",
     "text": [
      "\u001b[32m2024-01-19 22:24:37.276\u001b[0m | \u001b[1mINFO    \u001b[0m | \u001b[36msidekick.prompter\u001b[0m:\u001b[36mask\u001b[0m:\u001b[36m490\u001b[0m - \u001b[1mTable in use: ['sleep_health_and_lifestyle']\u001b[0m\n",
      "\u001b[32m2024-01-19 22:24:37.277\u001b[0m | \u001b[1mINFO    \u001b[0m | \u001b[36msidekick.prompter\u001b[0m:\u001b[36mask\u001b[0m:\u001b[36m491\u001b[0m - \u001b[1mSQL dialect for generation: sqlite\u001b[0m\n",
      "\u001b[32m2024-01-19 22:24:37.278\u001b[0m | \u001b[1mINFO    \u001b[0m | \u001b[36msidekick.prompter\u001b[0m:\u001b[36mask\u001b[0m:\u001b[36m524\u001b[0m - \u001b[1mSetting context...\u001b[0m\n",
      "\u001b[32m2024-01-19 22:24:37.279\u001b[0m | \u001b[1mINFO    \u001b[0m | \u001b[36msidekick.prompter\u001b[0m:\u001b[36mask\u001b[0m:\u001b[36m525\u001b[0m - \u001b[1mQuestion: Execute SQL:\n",
      "\n",
      "    10; DROP TABLE sleep_health_and_lifestyle /*;\n",
      "    \u001b[0m\n",
      "\u001b[32m2024-01-19 22:24:37.280\u001b[0m | \u001b[34m\u001b[1mDEBUG   \u001b[0m | \u001b[36msidekick.prompter\u001b[0m:\u001b[36mask\u001b[0m:\u001b[36m543\u001b[0m - \u001b[34m\u001b[1mTable info path: ./var/lib/tmp/sleep_health_and_lifestyle_table_info.jsonl\u001b[0m\n",
      "\u001b[32m2024-01-19 22:24:37.281\u001b[0m | \u001b[1mINFO    \u001b[0m | \u001b[36msidekick.utils\u001b[0m:\u001b[36mis_resource_low\u001b[0m:\u001b[36m353\u001b[0m - \u001b[1mNumber of GPUs: 1\u001b[0m\n",
      "\u001b[32m2024-01-19 22:24:37.282\u001b[0m | \u001b[34m\u001b[1mDEBUG   \u001b[0m | \u001b[36msidekick.utils\u001b[0m:\u001b[36mis_resource_low\u001b[0m:\u001b[36m357\u001b[0m - \u001b[34m\u001b[1mInformation on device: 0\u001b[0m\n",
      "\u001b[32m2024-01-19 22:24:37.283\u001b[0m | \u001b[1mINFO    \u001b[0m | \u001b[36msidekick.utils\u001b[0m:\u001b[36mis_resource_low\u001b[0m:\u001b[36m360\u001b[0m - \u001b[1mTotal Memory: 23GB\u001b[0m\n",
      "\u001b[32m2024-01-19 22:24:37.284\u001b[0m | \u001b[1mINFO    \u001b[0m | \u001b[36msidekick.utils\u001b[0m:\u001b[36mis_resource_low\u001b[0m:\u001b[36m361\u001b[0m - \u001b[1mFree GPU memory: 21GB\u001b[0m\n",
      "\u001b[32m2024-01-19 22:24:37.294\u001b[0m | \u001b[1mINFO    \u001b[0m | \u001b[36msidekick.utils\u001b[0m:\u001b[36m_check_file_info\u001b[0m:\u001b[36m467\u001b[0m - \u001b[1mUsing information info from path ./var/lib/tmp/sleep_health_and_lifestyle_table_info.jsonl\u001b[0m\n",
      "\u001b[32m2024-01-19 22:24:37.295\u001b[0m | \u001b[1mINFO    \u001b[0m | \u001b[36msidekick.prompter\u001b[0m:\u001b[36mask\u001b[0m:\u001b[36m590\u001b[0m - \u001b[1mExecuting user provided SQL without generation...\u001b[0m\n",
      "\u001b[32m2024-01-19 22:24:37.296\u001b[0m | \u001b[1mINFO    \u001b[0m | \u001b[36msidekick.prompter\u001b[0m:\u001b[36mask\u001b[0m:\u001b[36m598\u001b[0m - \u001b[1mInput query: Execute SQL:\n",
      "\n",
      "    10; DROP TABLE sleep_health_and_lifestyle /*;\n",
      "    \u001b[0m\n",
      "\u001b[32m2024-01-19 22:24:37.298\u001b[0m | \u001b[1mINFO    \u001b[0m | \u001b[36msidekick.prompter\u001b[0m:\u001b[36mask\u001b[0m:\u001b[36m599\u001b[0m - \u001b[1mGenerated response:\n",
      "\n",
      "10; drop table sleep_health_and_lifestyle /*;\u001b[0m\n",
      "\u001b[32m2024-01-19 22:24:37.300\u001b[0m | \u001b[1mINFO    \u001b[0m | \u001b[36msidekick.prompter\u001b[0m:\u001b[36mask\u001b[0m:\u001b[36m625\u001b[0m - \u001b[1mAlternate responses:\n",
      "\n",
      "None\u001b[0m\n",
      "\u001b[32m2024-01-19 22:24:37.302\u001b[0m | \u001b[1mINFO    \u001b[0m | \u001b[36msidekick.prompter\u001b[0m:\u001b[36mask\u001b[0m:\u001b[36m638\u001b[0m - \u001b[1mChecking for vulnerabilities in the provided SQL: 10; drop table sleep_health_and_lifestyle /*;\u001b[0m\n",
      "\u001b[32m2024-01-19 22:24:37.303\u001b[0m | \u001b[34m\u001b[1mDEBUG   \u001b[0m | \u001b[36msidekick.utils\u001b[0m:\u001b[36mcheck_vulnerability\u001b[0m:\u001b[36m548\u001b[0m - \u001b[34m\u001b[1mRequesting additional scan using configured models\u001b[0m\n"
     ]
    },
    {
     "name": "stdout",
     "output_type": "stream",
     "text": [
      "Warning: Server version 1.3.0-dev5 doesn't match client version 1.2.7: unexpected errors may occur.\n",
      "Please install the correct version of H2OGPTE with `pip install h2ogpte==1.3.0-dev5`.\n",
      "You can enable strict version checking by passing strict_version_check=True.\n",
      "The results are:\n",
      " The input question has malicious patterns, **SQL keywords does not start with SELECT, only SELECT queries are allowed.** that could lead to SQL Injection.\n",
      "Sorry, I will not be able to provide an answer.\n",
      "Please try rephrasing the question.\n",
      "Exiting...\n"
     ]
    }
   ],
   "source": [
    "result = None\n",
    "input_q = \"\"\"\n",
    "    10; DROP TABLE sleep_health_and_lifestyle /*;\n",
    "    \"\"\"\n",
    "question = f\"Execute SQL:\\n{input_q}\"\n",
    "\n",
    "result, _, error = ask(\n",
    "    question=question,\n",
    "    table_info_path=table_info_path,\n",
    "    sample_queries_path=None,\n",
    "    table_name=table_name,\n",
    "    is_command=False,\n",
    "    model_name=\"h2ogpt-sql-nsql-llama-2-7B\",\n",
    "    is_regenerate=False,\n",
    "    is_regen_with_options=False,\n",
    "    execute_query=True,\n",
    "    guardrails=True,\n",
    "    local_base_path=base_path,\n",
    "    debug_mode=True,\n",
    "    self_correction=False\n",
    ")"
   ]
  },
  {
   "cell_type": "code",
   "execution_count": 11,
   "id": "3d3c8150-7bb7-45bf-84e7-99a5d4607817",
   "metadata": {},
   "outputs": [
    {
     "name": "stderr",
     "output_type": "stream",
     "text": [
      "\u001b[32m2024-01-19 22:32:45.505\u001b[0m | \u001b[1mINFO    \u001b[0m | \u001b[36msidekick.prompter\u001b[0m:\u001b[36mask\u001b[0m:\u001b[36m490\u001b[0m - \u001b[1mTable in use: ['sleep_health_and_lifestyle']\u001b[0m\n",
      "\u001b[32m2024-01-19 22:32:45.506\u001b[0m | \u001b[1mINFO    \u001b[0m | \u001b[36msidekick.prompter\u001b[0m:\u001b[36mask\u001b[0m:\u001b[36m491\u001b[0m - \u001b[1mSQL dialect for generation: sqlite\u001b[0m\n",
      "\u001b[32m2024-01-19 22:32:45.508\u001b[0m | \u001b[1mINFO    \u001b[0m | \u001b[36msidekick.prompter\u001b[0m:\u001b[36mask\u001b[0m:\u001b[36m524\u001b[0m - \u001b[1mSetting context...\u001b[0m\n",
      "\u001b[32m2024-01-19 22:32:45.509\u001b[0m | \u001b[1mINFO    \u001b[0m | \u001b[36msidekick.prompter\u001b[0m:\u001b[36mask\u001b[0m:\u001b[36m525\u001b[0m - \u001b[1mQuestion: Execute SQL:\n",
      "\n",
      "    SELECT /*!32302 1/0, */ 1 FROM sleep_health_and_lifestyle;\n",
      "    \u001b[0m\n",
      "\u001b[32m2024-01-19 22:32:45.509\u001b[0m | \u001b[34m\u001b[1mDEBUG   \u001b[0m | \u001b[36msidekick.prompter\u001b[0m:\u001b[36mask\u001b[0m:\u001b[36m543\u001b[0m - \u001b[34m\u001b[1mTable info path: ./var/lib/tmp/sleep_health_and_lifestyle_table_info.jsonl\u001b[0m\n",
      "\u001b[32m2024-01-19 22:32:45.510\u001b[0m | \u001b[1mINFO    \u001b[0m | \u001b[36msidekick.utils\u001b[0m:\u001b[36mis_resource_low\u001b[0m:\u001b[36m353\u001b[0m - \u001b[1mNumber of GPUs: 1\u001b[0m\n",
      "\u001b[32m2024-01-19 22:32:45.511\u001b[0m | \u001b[34m\u001b[1mDEBUG   \u001b[0m | \u001b[36msidekick.utils\u001b[0m:\u001b[36mis_resource_low\u001b[0m:\u001b[36m357\u001b[0m - \u001b[34m\u001b[1mInformation on device: 0\u001b[0m\n",
      "\u001b[32m2024-01-19 22:32:45.512\u001b[0m | \u001b[1mINFO    \u001b[0m | \u001b[36msidekick.utils\u001b[0m:\u001b[36mis_resource_low\u001b[0m:\u001b[36m360\u001b[0m - \u001b[1mTotal Memory: 23GB\u001b[0m\n",
      "\u001b[32m2024-01-19 22:32:45.513\u001b[0m | \u001b[1mINFO    \u001b[0m | \u001b[36msidekick.utils\u001b[0m:\u001b[36mis_resource_low\u001b[0m:\u001b[36m361\u001b[0m - \u001b[1mFree GPU memory: 21GB\u001b[0m\n",
      "\u001b[32m2024-01-19 22:32:45.524\u001b[0m | \u001b[1mINFO    \u001b[0m | \u001b[36msidekick.utils\u001b[0m:\u001b[36m_check_file_info\u001b[0m:\u001b[36m467\u001b[0m - \u001b[1mUsing information info from path ./var/lib/tmp/sleep_health_and_lifestyle_table_info.jsonl\u001b[0m\n",
      "\u001b[32m2024-01-19 22:32:45.525\u001b[0m | \u001b[1mINFO    \u001b[0m | \u001b[36msidekick.prompter\u001b[0m:\u001b[36mask\u001b[0m:\u001b[36m590\u001b[0m - \u001b[1mExecuting user provided SQL without generation...\u001b[0m\n",
      "\u001b[32m2024-01-19 22:32:45.526\u001b[0m | \u001b[1mINFO    \u001b[0m | \u001b[36msidekick.prompter\u001b[0m:\u001b[36mask\u001b[0m:\u001b[36m598\u001b[0m - \u001b[1mInput query: Execute SQL:\n",
      "\n",
      "    SELECT /*!32302 1/0, */ 1 FROM sleep_health_and_lifestyle;\n",
      "    \u001b[0m\n",
      "\u001b[32m2024-01-19 22:32:45.527\u001b[0m | \u001b[1mINFO    \u001b[0m | \u001b[36msidekick.prompter\u001b[0m:\u001b[36mask\u001b[0m:\u001b[36m599\u001b[0m - \u001b[1mGenerated response:\n",
      "\n",
      "select /*!32302 1/0, */ 1 from sleep_health_and_lifestyle;\u001b[0m\n",
      "\u001b[32m2024-01-19 22:32:45.530\u001b[0m | \u001b[1mINFO    \u001b[0m | \u001b[36msidekick.prompter\u001b[0m:\u001b[36mask\u001b[0m:\u001b[36m625\u001b[0m - \u001b[1mAlternate responses:\n",
      "\n",
      "None\u001b[0m\n",
      "\u001b[32m2024-01-19 22:32:45.531\u001b[0m | \u001b[1mINFO    \u001b[0m | \u001b[36msidekick.prompter\u001b[0m:\u001b[36mask\u001b[0m:\u001b[36m638\u001b[0m - \u001b[1mChecking for vulnerabilities in the provided SQL: select /*!32302 1/0, */ 1 from sleep_health_and_lifestyle;\u001b[0m\n",
      "\u001b[32m2024-01-19 22:32:45.533\u001b[0m | \u001b[34m\u001b[1mDEBUG   \u001b[0m | \u001b[36msidekick.utils\u001b[0m:\u001b[36mcheck_vulnerability\u001b[0m:\u001b[36m548\u001b[0m - \u001b[34m\u001b[1mRequesting additional scan using configured models\u001b[0m\n"
     ]
    },
    {
     "name": "stdout",
     "output_type": "stream",
     "text": [
      "Warning: Server version 1.3.0-dev5 doesn't match client version 1.2.7: unexpected errors may occur.\n",
      "Please install the correct version of H2OGPTE with `pip install h2ogpte==1.3.0-dev5`.\n",
      "You can enable strict version checking by passing strict_version_check=True.\n",
      "The results are:\n",
      " The input question has malicious patterns, **/*!32302 1/0, */** that could lead to SQL Injection.\n",
      "Sorry, I will not be able to provide an answer.\n",
      "Please try rephrasing the question. The query contains a comment with a SQL injection vulnerability. The comment `/*!32302 1/0, */` is not properly formatted and could be used to inject malicious SQL code.\n",
      "Exiting...\n"
     ]
    }
   ],
   "source": [
    "result = None\n",
    "input_q = \"\"\"\n",
    "    SELECT /*!32302 1/0, */ 1 FROM sleep_health_and_lifestyle;\n",
    "    \"\"\"\n",
    "question = f\"Execute SQL:\\n{input_q}\"\n",
    "\n",
    "result, _, error = ask(\n",
    "    question=question,\n",
    "    table_info_path=table_info_path,\n",
    "    sample_queries_path=None,\n",
    "    table_name=table_name,\n",
    "    is_command=False,\n",
    "    model_name=\"h2ogpt-sql-nsql-llama-2-7B\",\n",
    "    is_regenerate=False,\n",
    "    is_regen_with_options=False,\n",
    "    execute_query=True,\n",
    "    guardrails=True,\n",
    "    local_base_path=base_path,\n",
    "    debug_mode=True,\n",
    "    self_correction=False\n",
    ")"
   ]
  },
  {
   "cell_type": "markdown",
   "id": "5260a38a-8fa1-4ac1-96e3-b1108cb1eee9",
   "metadata": {},
   "source": [
    "**Note:**\n",
    "\n",
    "Examples shown above are not an exhaustive list but a WIP.\n",
    "We have differrent levels of guardrails enabled for safe execution but at the same time we are updating/improving them as we learn further.\n",
    "Don't hesitate to reach out."
   ]
  }
 ],
 "metadata": {
  "kernelspec": {
   "display_name": "Python 3 (ipykernel)",
   "language": "python",
   "name": "python3"
  },
  "language_info": {
   "codemirror_mode": {
    "name": "ipython",
    "version": 3
   },
   "file_extension": ".py",
   "mimetype": "text/x-python",
   "name": "python",
   "nbconvert_exporter": "python",
   "pygments_lexer": "ipython3",
   "version": "3.8.16"
  }
 },
 "nbformat": 4,
 "nbformat_minor": 5
}
