{
 "cells": [
  {
   "cell_type": "code",
   "execution_count": null,
   "id": "b69aaf22-a0c1-4f9d-b5b1-2ca0aa7130db",
   "metadata": {},
   "outputs": [],
   "source": [
    "#!pip install --force-reinstall sql_sidekick-0.1.9-py3-none-any.whl"
   ]
  },
  {
   "cell_type": "code",
   "execution_count": 2,
   "id": "746d5a53-4ca8-445d-b795-4f79c77dffcb",
   "metadata": {},
   "outputs": [],
   "source": [
    "%load_ext autoreload\n",
    "%autoreload 2"
   ]
  },
  {
   "cell_type": "code",
   "execution_count": 3,
   "id": "032a240c-5e9b-4982-b6e9-398ee6ce001e",
   "metadata": {},
   "outputs": [],
   "source": [
    "from sidekick import prompter"
   ]
  },
  {
   "cell_type": "code",
   "execution_count": 4,
   "id": "5173aef9-0e2d-4789-8c16-eff0c043c747",
   "metadata": {},
   "outputs": [
    {
     "data": {
      "text/plain": [
       "'0.1.9'"
      ]
     },
     "execution_count": 4,
     "metadata": {},
     "output_type": "execute_result"
    }
   ],
   "source": [
    "prompter.__version__"
   ]
  },
  {
   "cell_type": "code",
   "execution_count": 5,
   "id": "4c92083f-c2d3-4bb9-a22d-479b4f40695a",
   "metadata": {},
   "outputs": [],
   "source": [
    "import logging\n",
    "import sys\n",
    "\n",
    "logging.basicConfig(stream=sys.stdout, level=logging.INFO)\n",
    "logging.getLogger().addHandler(logging.StreamHandler(stream=sys.stdout))"
   ]
  },
  {
   "cell_type": "code",
   "execution_count": 6,
   "id": "023038c9-5758-45ec-a11d-99a64fe423b7",
   "metadata": {},
   "outputs": [],
   "source": [
    "from sidekick.prompter import db_setup, ask\n",
    "from sidekick.schema_generator import generate_schema\n",
    "from sidekick.utils import setup_dir, list_db_dialects"
   ]
  },
  {
   "cell_type": "code",
   "execution_count": 7,
   "id": "4bcb8e59-cd09-4f82-8606-0ad481953c04",
   "metadata": {},
   "outputs": [],
   "source": [
    "base_path = \"./\"\n",
    "cache_path = f\"{base_path}/var/lib/tmp\"\n",
    "setup_dir(base_path)"
   ]
  },
  {
   "cell_type": "code",
   "execution_count": 8,
   "id": "57217aea-cf04-4710-9784-3fd1eba1970e",
   "metadata": {},
   "outputs": [
    {
     "data": {
      "text/plain": [
       "['bigquery',\n",
       " 'clickhouse',\n",
       " 'duckdb',\n",
       " 'hive',\n",
       " 'mysql',\n",
       " 'oracle',\n",
       " 'postgres',\n",
       " 'presto',\n",
       " 'redshift',\n",
       " 'snowflake',\n",
       " 'spark',\n",
       " 'spark2',\n",
       " 'sqlite',\n",
       " 'starrocks',\n",
       " 'tableau',\n",
       " 'trino',\n",
       " 'tsql',\n",
       " 'databricks',\n",
       " 'drill',\n",
       " 'teradata']"
      ]
     },
     "execution_count": 8,
     "metadata": {},
     "output_type": "execute_result"
    }
   ],
   "source": [
    "list_db_dialects()"
   ]
  },
  {
   "cell_type": "code",
   "execution_count": 17,
   "id": "304da340-1e5f-4562-a9b8-f0bd9dee59ff",
   "metadata": {},
   "outputs": [],
   "source": [
    "# env variables\n",
    "import os\n",
    "\n",
    "os.environ['DATABRICKS_HOST'] = \"\"\n",
    "os.environ['DATABRICKS_CLUSTER_ID'] = \"\"\n",
    "os.environ['DATABRICKS_TOKEN'] = \"\"\n",
    "os.environ['OPENAI_API_KEY'] = \"\" # Needed only for openAI models\n",
    "\n",
    "os.environ['H2O_BASE_MODEL_URL'] = ''\n",
    "os.environ['H2O_BASE_MODEL_API_KEY'] = \"\"\n",
    "os.environ['RECOMMENDATION_MODEL_REMOTE_URL'] = \"\"\n",
    "os.environ['RECOMMENDATION_MODEL_API_KEY'] = \"\""
   ]
  },
  {
   "cell_type": "code",
   "execution_count": 18,
   "id": "0b3c4683-8d1f-42f3-8118-25ebdc0ca1e1",
   "metadata": {},
   "outputs": [
    {
     "name": "stdout",
     "output_type": "stream",
     "text": [
      " Information supplied:\n",
      " querydb, localhost, sqlite, abc, 5432\n",
      "Database already exists!\n",
      "Table name: sleep_health_eda_demo_9\n"
     ]
    },
    {
     "name": "stderr",
     "output_type": "stream",
     "text": [
      "\u001b[32m2024-01-18 09:59:32.837\u001b[0m | \u001b[34m\u001b[1mDEBUG   \u001b[0m | \u001b[36msidekick.db_config\u001b[0m:\u001b[36m_extract_schema_info\u001b[0m:\u001b[36m163\u001b[0m - \u001b[34m\u001b[1mUsing schema information from: /home/pramit/testing/q/apps/system/sql-sidekick/var/lib/tmp/sleep_health_eda_demo_9_table_info.jsonl\u001b[0m\n",
      "\u001b[32m2024-01-18 09:59:32.843\u001b[0m | \u001b[34m\u001b[1mDEBUG   \u001b[0m | \u001b[36msidekick.db_config\u001b[0m:\u001b[36mcreate_table\u001b[0m:\u001b[36m187\u001b[0m - \u001b[34m\u001b[1mSchema info used for creating table:\n",
      " Person_ID NUMERIC,\n",
      "Gender TEXT COLLATE NOCASE,\n",
      "Age NUMERIC,\n",
      "Occupation TEXT COLLATE NOCASE,\n",
      "Sleep_Duration NUMERIC,\n",
      "Quality_of_Sleep NUMERIC,\n",
      "Physical_Activity_Level NUMERIC,\n",
      "Stress_Level NUMERIC,\n",
      "BMI_Category TEXT COLLATE NOCASE,\n",
      "Blood_Pressure TEXT COLLATE NOCASE,\n",
      "Heart_Rate NUMERIC,\n",
      "Daily_Steps NUMERIC,\n",
      "Sleep_Disorder TEXT COLLATE NOCASE\u001b[0m\n",
      "\u001b[32m2024-01-18 09:59:32.847\u001b[0m | \u001b[1mINFO    \u001b[0m | \u001b[36msidekick.db_config\u001b[0m:\u001b[36mcreate_table\u001b[0m:\u001b[36m199\u001b[0m - \u001b[1mTable created: sleep_health_eda_demo_9\u001b[0m\n"
     ]
    },
    {
     "name": "stdout",
     "output_type": "stream",
     "text": [
      "Checked table sleep_health_eda_demo_9 exists in the DB.\n"
     ]
    },
    {
     "name": "stderr",
     "output_type": "stream",
     "text": [
      "\u001b[32m2024-01-18 09:59:32.853\u001b[0m | \u001b[34m\u001b[1mDEBUG   \u001b[0m | \u001b[36msidekick.db_config\u001b[0m:\u001b[36madd_samples\u001b[0m:\u001b[36m223\u001b[0m - \u001b[34m\u001b[1mAdding sample values to table: /home/pramit/testing/q/apps/system/sql-sidekick/examples/demo/sleep_health_and_lifestyle_dataset.csv\u001b[0m\n",
      "\u001b[32m2024-01-18 09:59:32.861\u001b[0m | \u001b[34m\u001b[1mDEBUG   \u001b[0m | \u001b[36msidekick.db_config\u001b[0m:\u001b[36madd_samples\u001b[0m:\u001b[36m229\u001b[0m - \u001b[34m\u001b[1mInserting chunk: 0\u001b[0m\n",
      "\u001b[32m2024-01-18 09:59:33.000\u001b[0m | \u001b[1mINFO    \u001b[0m | \u001b[36msidekick.db_config\u001b[0m:\u001b[36madd_samples\u001b[0m:\u001b[36m234\u001b[0m - \u001b[1mData inserted into table: sleep_health_eda_demo_9\u001b[0m\n",
      "\u001b[32m2024-01-18 09:59:33.003\u001b[0m | \u001b[1mINFO    \u001b[0m | \u001b[36msidekick.db_config\u001b[0m:\u001b[36madd_samples\u001b[0m:\u001b[36m239\u001b[0m - \u001b[1mNumber of rows inserted: 2618\u001b[0m\n"
     ]
    },
    {
     "name": "stdout",
     "output_type": "stream",
     "text": [
      "Created a Database querydb. Inserted sample values from /home/pramit/testing/q/apps/system/sql-sidekick/examples/demo/sleep_health_and_lifestyle_dataset.csv into table sleep_health_eda_demo_9, please ask questions!\n"
     ]
    }
   ],
   "source": [
    "# Scenario 1\n",
    "# 1. New dataset for QnA\n",
    "# 2. Generate SQL syntax, but no access to Databricks cluster for runtime validation.\n",
    "\n",
    "HOST_NAME = \"localhost\"\n",
    "USER_NAME = \"sqlite\"\n",
    "PASSWORD = \"abc\"\n",
    "DB_NAME = \"querydb\"\n",
    "PORT = \"5432\"\n",
    "\n",
    "\n",
    "# Given .csv file, auto-generate schema\n",
    "# Download dataset --> https://www.kaggle.com/datasets/uom190346a/sleep-health-and-lifestyle-dataset\n",
    "data_path = \"./demo/sleep_health_and_lifestyle_dataset.csv\"\n",
    "table_name = \"sleep_health_eda_demo\"\n",
    "\n",
    "table_schema, table_info_path = generate_schema(data_path=data_path, output_path=f\"{cache_path}/{table_name}_table_info.jsonl\")\n",
    " \n",
    "# Set add_sample=False if no need to add rows to the table\n",
    "response , err = db_setup(\n",
    "                db_name=DB_NAME,\n",
    "                hostname=HOST_NAME,\n",
    "                user_name=USER_NAME,\n",
    "                password=PASSWORD,\n",
    "                port=PORT,\n",
    "                table_info_path=table_info_path,\n",
    "                table_samples_path=data_path,\n",
    "                table_name=table_name,\n",
    "                local_base_path=base_path,\n",
    "                add_sample=True\n",
    "            )"
   ]
  },
  {
   "cell_type": "code",
   "execution_count": 10,
   "id": "fd3de067-1e85-4869-b5fc-9504dca7d273",
   "metadata": {},
   "outputs": [
    {
     "data": {
      "text/plain": [
       "'/home/pramit/testing/q/apps/system/sql-sidekick/var/lib/tmp/sleep_health_eda_demo_9_table_info.jsonl'"
      ]
     },
     "execution_count": 10,
     "metadata": {},
     "output_type": "execute_result"
    }
   ],
   "source": [
    "table_info_path"
   ]
  },
  {
   "cell_type": "code",
   "execution_count": 11,
   "id": "3a8859c2-20e2-43d9-9dff-72519a786e31",
   "metadata": {},
   "outputs": [
    {
     "data": {
      "text/plain": [
       "[{'Column Name': 'Person_ID', 'Column Type': 'NUMERIC'},\n",
       " {'Column Name': 'Gender',\n",
       "  'Column Type': 'TEXT',\n",
       "  'Sample Values': ['Male', 'Female']},\n",
       " {'Column Name': 'Age', 'Column Type': 'NUMERIC'},\n",
       " {'Column Name': 'Occupation',\n",
       "  'Column Type': 'TEXT',\n",
       "  'Sample Values': ['Engineer',\n",
       "   'Salesperson',\n",
       "   'Sales Representative',\n",
       "   'Nurse',\n",
       "   'Accountant',\n",
       "   'Teacher',\n",
       "   'Software Engineer',\n",
       "   'Lawyer',\n",
       "   'Manager',\n",
       "   'Doctor']},\n",
       " {'Column Name': 'Sleep_Duration', 'Column Type': 'NUMERIC'},\n",
       " {'Column Name': 'Quality_of_Sleep', 'Column Type': 'NUMERIC'},\n",
       " {'Column Name': 'Physical_Activity_Level', 'Column Type': 'NUMERIC'},\n",
       " {'Column Name': 'Stress_Level', 'Column Type': 'NUMERIC'},\n",
       " {'Column Name': 'BMI_Category',\n",
       "  'Column Type': 'TEXT',\n",
       "  'Sample Values': ['Overweight', 'Normal', 'Obese', 'Normal Weight']},\n",
       " {'Column Name': 'Blood_Pressure', 'Column Type': 'TEXT'},\n",
       " {'Column Name': 'Heart_Rate', 'Column Type': 'NUMERIC'},\n",
       " {'Column Name': 'Daily_Steps', 'Column Type': 'NUMERIC'},\n",
       " {'Column Name': 'Sleep_Disorder',\n",
       "  'Column Type': 'TEXT',\n",
       "  'Sample Values': ['None', 'Sleep Apnea', 'Insomnia']}]"
      ]
     },
     "execution_count": 11,
     "metadata": {},
     "output_type": "execute_result"
    }
   ],
   "source": [
    "table_schema"
   ]
  },
  {
   "cell_type": "code",
   "execution_count": 12,
   "id": "606933f5-ecfb-4671-b9bf-cb531f4143e1",
   "metadata": {},
   "outputs": [],
   "source": [
    "# One could also decide to pass pre-configured table schema via for table creation\n",
    "# Schema format:\n",
    "\n",
    "# [{'Column Name': 'Person_ID', 'Column Type': 'NUMERIC'},\n",
    "#  {'Column Name': 'Gender',\n",
    "#   'Column Type': 'TEXT',\n",
    "#   'Sample Values': ['Male', 'Female']},\n",
    "#  {'Column Name': 'Age', 'Column Type': 'NUMERIC'},\n",
    "#  {'Column Name': 'Occupation',\n",
    "#   'Column Type': 'TEXT',\n",
    "#   'Sample Values': ['Accountant',\n",
    "#    'Manager',\n",
    "#    'Sales Representative',\n",
    "#    'Salesperson',\n",
    "#    'Lawyer',\n",
    "#    'Nurse',\n",
    "#    'Teacher',\n",
    "#    'Software Engineer',\n",
    "#    'Doctor',\n",
    "#    'Scientist']},\n",
    "#  {'Column Name': 'Sleep_Duration', 'Column Type': 'NUMERIC'},\n",
    "#  {'Column Name': 'Quality_of_Sleep', 'Column Type': 'NUMERIC'},\n",
    "#  {'Column Name': 'Physical_Activity_Level', 'Column Type': 'NUMERIC'},\n",
    "#  {'Column Name': 'Stress_Level', 'Column Type': 'NUMERIC'},\n",
    "#  {'Column Name': 'BMI_Category',\n",
    "#   'Column Type': 'TEXT',\n",
    "#   'Sample Values': ['Overweight', 'Normal', 'Obese', 'Normal Weight']},\n",
    "#  {'Column Name': 'Blood_Pressure', 'Column Type': 'TEXT'},\n",
    "#  {'Column Name': 'Heart_Rate', 'Column Type': 'NUMERIC'},\n",
    "#  {'Column Name': 'Daily_Steps', 'Column Type': 'NUMERIC'},\n",
    "#  {'Column Name': 'Sleep_Disorder',\n",
    "#   'Column Type': 'TEXT',\n",
    "#   'Sample Values': ['None', 'Sleep Apnea', 'Insomnia']}]\n",
    "\n",
    "\n",
    "\n",
    "\n",
    "# response, err = db_setup(\n",
    "#                 db_name=DB_NAME,\n",
    "#                 hostname=HOST_NAME,\n",
    "#                 user_name=USER_NAME,\n",
    "#                 password=PASSWORD,\n",
    "#                 port=PORT,\n",
    "#                 table_name=table_name,\n",
    "#                 table_schema = r,\n",
    "#                 local_base_path=base_path,\n",
    "#                 add_sample=False\n",
    "#             )"
   ]
  },
  {
   "cell_type": "code",
   "execution_count": 19,
   "id": "045271a5-a9b3-4b4d-b439-a84d5e4d93fe",
   "metadata": {},
   "outputs": [],
   "source": [
    "def query(question: str, table_name, table_info_path: str, sample_qna_path: str, regenerate=False, regenerate_with_options=False):\n",
    "    \"\"\"Asks question and returns SQL.\"\"\"\n",
    "    base_path = \"./\"\n",
    "    # self_correction is enabled by default, set to False if not needed.\n",
    "    res = ask(\n",
    "        question=question,\n",
    "        table_info_path=table_info_path,\n",
    "        sample_queries_path=sample_qna_path,\n",
    "        table_name=table_name,\n",
    "        db_dialect=\"databricks\",\n",
    "        is_command=False,\n",
    "        model_name=\"h2ogpt-sql-sqlcoder-34b-alpha\",\n",
    "        is_regenerate=regenerate,\n",
    "        is_regen_with_options=regenerate_with_options,\n",
    "        execute_query=False,\n",
    "        local_base_path=base_path,\n",
    "    )\n",
    "    _tmp = res[0][1].split(\"```\")[1].replace(\"sql\", '')\n",
    "    sql_str = ' '.join(_tmp.split())\n",
    "    return sql_str"
   ]
  },
  {
   "cell_type": "code",
   "execution_count": 23,
   "id": "389a0464-c834-44dd-84fb-fb0c438e2a2d",
   "metadata": {},
   "outputs": [
    {
     "name": "stderr",
     "output_type": "stream",
     "text": [
      "\u001b[32m2024-01-18 10:03:24.958\u001b[0m | \u001b[1mINFO    \u001b[0m | \u001b[36msidekick.prompter\u001b[0m:\u001b[36mask\u001b[0m:\u001b[36m490\u001b[0m - \u001b[1mTable in use: ['sleep_health_eda_demo_9']\u001b[0m\n",
      "\u001b[32m2024-01-18 10:03:24.959\u001b[0m | \u001b[1mINFO    \u001b[0m | \u001b[36msidekick.prompter\u001b[0m:\u001b[36mask\u001b[0m:\u001b[36m491\u001b[0m - \u001b[1mSQL dialect for generation: databricks\u001b[0m\n",
      "\u001b[32m2024-01-18 10:03:24.960\u001b[0m | \u001b[1mINFO    \u001b[0m | \u001b[36msidekick.prompter\u001b[0m:\u001b[36mask\u001b[0m:\u001b[36m524\u001b[0m - \u001b[1mSetting context...\u001b[0m\n",
      "\u001b[32m2024-01-18 10:03:24.961\u001b[0m | \u001b[1mINFO    \u001b[0m | \u001b[36msidekick.prompter\u001b[0m:\u001b[36mask\u001b[0m:\u001b[36m525\u001b[0m - \u001b[1mQuestion: What is the average sleep duration for each gender?\u001b[0m\n",
      "\u001b[32m2024-01-18 10:03:24.962\u001b[0m | \u001b[34m\u001b[1mDEBUG   \u001b[0m | \u001b[36msidekick.prompter\u001b[0m:\u001b[36mask\u001b[0m:\u001b[36m543\u001b[0m - \u001b[34m\u001b[1mTable info path: /home/pramit/testing/q/apps/system/sql-sidekick/var/lib/tmp/sleep_health_eda_demo_9_table_info.jsonl\u001b[0m\n",
      "\u001b[32m2024-01-18 10:03:24.963\u001b[0m | \u001b[1mINFO    \u001b[0m | \u001b[36msidekick.utils\u001b[0m:\u001b[36mis_resource_low\u001b[0m:\u001b[36m347\u001b[0m - \u001b[1mNumber of GPUs: 1\u001b[0m\n",
      "\u001b[32m2024-01-18 10:03:24.964\u001b[0m | \u001b[34m\u001b[1mDEBUG   \u001b[0m | \u001b[36msidekick.utils\u001b[0m:\u001b[36mis_resource_low\u001b[0m:\u001b[36m351\u001b[0m - \u001b[34m\u001b[1mInformation on device: 0\u001b[0m\n",
      "\u001b[32m2024-01-18 10:03:24.965\u001b[0m | \u001b[1mINFO    \u001b[0m | \u001b[36msidekick.utils\u001b[0m:\u001b[36mis_resource_low\u001b[0m:\u001b[36m354\u001b[0m - \u001b[1mTotal Memory: 23GB\u001b[0m\n",
      "\u001b[32m2024-01-18 10:03:24.966\u001b[0m | \u001b[1mINFO    \u001b[0m | \u001b[36msidekick.utils\u001b[0m:\u001b[36mis_resource_low\u001b[0m:\u001b[36m355\u001b[0m - \u001b[1mFree GPU memory: 22GB\u001b[0m\n",
      "\u001b[32m2024-01-18 10:03:24.967\u001b[0m | \u001b[34m\u001b[1mDEBUG   \u001b[0m | \u001b[36msidekick.utils\u001b[0m:\u001b[36mload_embedding_model\u001b[0m:\u001b[36m97\u001b[0m - \u001b[34m\u001b[1mLoading embedding model from: /home/pramit/testing/q/apps/system/sql-sidekick/models/sentence_transformers\u001b[0m\n"
     ]
    },
    {
     "name": "stdout",
     "output_type": "stream",
     "text": [
      "INFO:sentence_transformers.SentenceTransformer:Load pretrained SentenceTransformer: /home/pramit/testing/q/apps/system/sql-sidekick/models/sentence_transformers/models--BAAI--bge-base-en/snapshots/17d124a4b773c4c9248ca816b0b0901e3c49a243/\n",
      "Load pretrained SentenceTransformer: /home/pramit/testing/q/apps/system/sql-sidekick/models/sentence_transformers/models--BAAI--bge-base-en/snapshots/17d124a4b773c4c9248ca816b0b0901e3c49a243/\n"
     ]
    },
    {
     "name": "stderr",
     "output_type": "stream",
     "text": [
      "\u001b[32m2024-01-18 10:03:25.148\u001b[0m | \u001b[1mINFO    \u001b[0m | \u001b[36msidekick.utils\u001b[0m:\u001b[36m_check_file_info\u001b[0m:\u001b[36m461\u001b[0m - \u001b[1mUsing information info from path /home/pramit/testing/q/apps/system/sql-sidekick/var/lib/tmp/sleep_health_eda_demo_9_table_info.jsonl\u001b[0m\n",
      "\u001b[32m2024-01-18 10:03:25.149\u001b[0m | \u001b[1mINFO    \u001b[0m | \u001b[36msidekick.prompter\u001b[0m:\u001b[36mask\u001b[0m:\u001b[36m593\u001b[0m - \u001b[1mComputing user request ...\u001b[0m\n",
      "\u001b[32m2024-01-18 10:03:25.222\u001b[0m | \u001b[34m\u001b[1mDEBUG   \u001b[0m | \u001b[36msidekick.utils\u001b[0m:\u001b[36msemantic_search\u001b[0m:\u001b[36m147\u001b[0m - \u001b[34m\u001b[1mInput questions: # query: what is the average sleep duration for each gender?\u001b[0m\n"
     ]
    },
    {
     "data": {
      "application/vnd.jupyter.widget-view+json": {
       "model_id": "3773e5f9e9814e368234097b2106a019",
       "version_major": 2,
       "version_minor": 0
      },
      "text/plain": [
       "Batches:   0%|          | 0/1 [00:00<?, ?it/s]"
      ]
     },
     "metadata": {},
     "output_type": "display_data"
    },
    {
     "name": "stderr",
     "output_type": "stream",
     "text": [
      "\u001b[32m2024-01-18 10:03:25.380\u001b[0m | \u001b[34m\u001b[1mDEBUG   \u001b[0m | \u001b[36msidekick.utils\u001b[0m:\u001b[36msemantic_search\u001b[0m:\u001b[36m152\u001b[0m - \u001b[34m\u001b[1mProbable context: [\"if patterns like 'current time' or 'now' occurs in question\", \"if patterns like 'total number', or 'list' occurs in question\", 'detailed summary', 'summary']\u001b[0m\n"
     ]
    },
    {
     "data": {
      "application/vnd.jupyter.widget-view+json": {
       "model_id": "318b63ac827749c3aaa0c7f5c50d0d8e",
       "version_major": 2,
       "version_minor": 0
      },
      "text/plain": [
       "Batches:   0%|          | 0/1 [00:00<?, ?it/s]"
      ]
     },
     "metadata": {},
     "output_type": "display_data"
    },
    {
     "name": "stderr",
     "output_type": "stream",
     "text": [
      "\u001b[32m2024-01-18 10:03:25.412\u001b[0m | \u001b[34m\u001b[1mDEBUG   \u001b[0m | \u001b[36msidekick.utils\u001b[0m:\u001b[36msemantic_search\u001b[0m:\u001b[36m160\u001b[0m - \u001b[34m\u001b[1mSimilarity score for: if patterns like 'current time' or 'now' occurs in question: 0.8459207869447033\u001b[0m\n",
      "\u001b[32m2024-01-18 10:03:25.414\u001b[0m | \u001b[34m\u001b[1mDEBUG   \u001b[0m | \u001b[36msidekick.utils\u001b[0m:\u001b[36msemantic_search\u001b[0m:\u001b[36m160\u001b[0m - \u001b[34m\u001b[1mSimilarity score for: if patterns like 'total number', or 'list' occurs in question: 0.8319947353454415\u001b[0m\n",
      "\u001b[32m2024-01-18 10:03:25.416\u001b[0m | \u001b[34m\u001b[1mDEBUG   \u001b[0m | \u001b[36msidekick.utils\u001b[0m:\u001b[36msemantic_search\u001b[0m:\u001b[36m160\u001b[0m - \u001b[34m\u001b[1mSimilarity score for: detailed summary: 0.8346069603076574\u001b[0m\n",
      "\u001b[32m2024-01-18 10:03:25.417\u001b[0m | \u001b[34m\u001b[1mDEBUG   \u001b[0m | \u001b[36msidekick.utils\u001b[0m:\u001b[36msemantic_search\u001b[0m:\u001b[36m160\u001b[0m - \u001b[34m\u001b[1mSimilarity score for: summary: 0.8394152180082535\u001b[0m\n",
      "\u001b[32m2024-01-18 10:03:25.418\u001b[0m | \u001b[34m\u001b[1mDEBUG   \u001b[0m | \u001b[36msidekick.utils\u001b[0m:\u001b[36msemantic_search\u001b[0m:\u001b[36m176\u001b[0m - \u001b[34m\u001b[1mSorted context: []\u001b[0m\n",
      "\u001b[32m2024-01-18 10:03:25.419\u001b[0m | \u001b[34m\u001b[1mDEBUG   \u001b[0m | \u001b[36msidekick.query\u001b[0m:\u001b[36mgenerate_sql\u001b[0m:\u001b[36m469\u001b[0m - \u001b[34m\u001b[1mFilter Context: []\u001b[0m\n",
      "\u001b[32m2024-01-18 10:03:25.420\u001b[0m | \u001b[1mINFO    \u001b[0m | \u001b[36msidekick.query\u001b[0m:\u001b[36mgenerate_sql\u001b[0m:\u001b[36m477\u001b[0m - \u001b[1mFiltering Question/Query pairs ...\u001b[0m\n",
      "\u001b[32m2024-01-18 10:03:25.421\u001b[0m | \u001b[1mINFO    \u001b[0m | \u001b[36msidekick.query\u001b[0m:\u001b[36mgenerate_sql\u001b[0m:\u001b[36m479\u001b[0m - \u001b[1mNumber of context queries found: 0\u001b[0m\n",
      "\u001b[32m2024-01-18 10:03:25.422\u001b[0m | \u001b[1mINFO    \u001b[0m | \u001b[36msidekick.query\u001b[0m:\u001b[36mgenerate_sql\u001b[0m:\u001b[36m499\u001b[0m - \u001b[1mNumber of possible contextual queries to question: 0\u001b[0m\n",
      "\u001b[32m2024-01-18 10:03:25.423\u001b[0m | \u001b[34m\u001b[1mDEBUG   \u001b[0m | \u001b[36msidekick.utils\u001b[0m:\u001b[36mre_rank\u001b[0m:\u001b[36m130\u001b[0m - \u001b[34m\u001b[1mQuestion length: 9\u001b[0m\n",
      "\u001b[32m2024-01-18 10:03:25.424\u001b[0m | \u001b[34m\u001b[1mDEBUG   \u001b[0m | \u001b[36msidekick.query\u001b[0m:\u001b[36mgenerate_sql\u001b[0m:\u001b[36m544\u001b[0m - \u001b[34m\u001b[1mRelevant sample column values: {'sleep_health_eda_demo_9': [\"'Gender' contains values similar to Male,Female.\", \"'Occupation' contains values similar to Teacher,Lawyer,Accountant,Manager,Salesperson,Doctor,Software Engineer,Scientist,Engineer,Nurse.\", \"'BMI_Category' contains values similar to Overweight,Normal,Obese,Normal Weight.\", \"'Sleep_Disorder' contains values similar to None,Sleep Apnea,Insomnia.\"]}\u001b[0m\n",
      "\u001b[32m2024-01-18 10:03:25.425\u001b[0m | \u001b[34m\u001b[1mDEBUG   \u001b[0m | \u001b[36msidekick.query\u001b[0m:\u001b[36mgenerate_sql\u001b[0m:\u001b[36m561\u001b[0m - \u001b[34m\u001b[1mQuery Text:\n",
      " \n",
      "### Instructions:\n",
      "Your task is convert a question into a valid databricks syntax SQL query, given a databricks database schema. Let's work this out step by step to be sure we have the right answer.\n",
      "Only use the column names from the CREATE TABLE statement.\n",
      "Adhere to these rules:\n",
      "- **Deliberately go through the question and database schema word by word** to appropriately answer the question\n",
      "- **Use Table Aliases** to prevent ambiguity. For example, `SELECT table1.col1, table2.col1 FROM table1 JOIN table2 ON table1.id = table2.id`.\n",
      "- Only use supplied table names: **sleep_health_eda_demo_9** for generation\n",
      "- Only use column names from the CREATE TABLE statement: **['Person_ID NUMERIC, Gender TEXT, Age NUMERIC, Occupation TEXT, Sleep_Duration NUMERIC, Quality_of_Sleep NUMERIC, Physical_Activity_Level NUMERIC, Stress_Level NUMERIC, BMI_Category TEXT, Blood_Pressure TEXT, Heart_Rate NUMERIC, Daily_Steps NUMERIC, Sleep_Disorder TEXT,']** for generation. DO NOT USE any other column names outside of this.\n",
      "- Avoid overly complex SQL queries, favor concise human readable SQL queries which are easy to understand and debug\n",
      "- Avoid patterns that might be vulnerable to SQL injection, e.g. sanitize inputs\n",
      "- Always cast the numerator as float when computing ratios\n",
      "- Always use COUNT(1) instead of COUNT(*)\n",
      "- If the question is asking for a rate, use COUNT to compute percentage\n",
      "- Avoid using the WITH statement\n",
      "- DO NOT USE aggregate and window function together\n",
      "- Prefer NOT EXISTS to LEFT JOIN ON null id\n",
      "- When using DESC keep NULLs at the end\n",
      "- If JSONB format found in Table schema, do pattern matching on keywords from the question and use SQL functions such as ->> or ->\n",
      "- Use prepared statements with parameterized queries to prevent SQL injection\n",
      "\n",
      "\n",
      "### Input:\n",
      "For SQL TABLE 'sleep_health_eda_demo_9' with sample question/answer pairs,\n",
      "(), create a valid SQL (dialect:databricks) query to answer the following question:\n",
      "What is the average sleep duration for each gender?.\n",
      "This query will run on a database whose schema is represented in this string:\n",
      "CREATE TABLE 'sleep_health_eda_demo_9' (['Person_ID NUMERIC, Gender TEXT, Age NUMERIC, Occupation TEXT, Sleep_Duration NUMERIC, Quality_of_Sleep NUMERIC, Physical_Activity_Level NUMERIC, Stress_Level NUMERIC, BMI_Category TEXT, Blood_Pressure TEXT, Heart_Rate NUMERIC, Daily_Steps NUMERIC, Sleep_Disorder TEXT,']\n",
      ");\n",
      "\n",
      "-- Table 'sleep_health_eda_demo_9', , has sample values ({'sleep_health_eda_demo_9': [\"'Gender' contains values similar to Male,Female.\", \"'Occupation' contains values similar to Teacher,Lawyer,Accountant,Manager,Salesperson,Doctor,Software Engineer,Scientist,Engineer,Nurse.\", \"'BMI_Category' contains values similar to Overweight,Normal,Obese,Normal Weight.\", \"'Sleep_Disorder' contains values similar to None,Sleep Apnea,Insomnia.\"]})\n",
      "\n",
      "### Response:\n",
      "Based on your instructions, here is the SELECT SQL query I have generated to answer the question `What is the average sleep duration for each gender?`:\n",
      "```SELECT\u001b[0m\n",
      "\u001b[32m2024-01-18 10:03:25.426\u001b[0m | \u001b[34m\u001b[1mDEBUG   \u001b[0m | \u001b[36msidekick.query\u001b[0m:\u001b[36mgenerate_sql\u001b[0m:\u001b[36m600\u001b[0m - \u001b[34m\u001b[1mGeneration with default temperature : 0.5\u001b[0m\n"
     ]
    },
    {
     "name": "stdout",
     "output_type": "stream",
     "text": [
      "INFO:httpx:HTTP Request: POST http://38.128.233.247:5000/v1/chat/completions \"HTTP/1.1 200 OK\"\n",
      "HTTP Request: POST http://38.128.233.247:5000/v1/chat/completions \"HTTP/1.1 200 OK\"\n"
     ]
    },
    {
     "name": "stderr",
     "output_type": "stream",
     "text": [
      "\u001b[32m2024-01-18 10:03:28.779\u001b[0m | \u001b[34m\u001b[1mDEBUG   \u001b[0m | \u001b[36msidekick.query\u001b[0m:\u001b[36mgenerate_sql\u001b[0m:\u001b[36m617\u001b[0m - \u001b[34m\u001b[1mGenerated tokens: Gender, AVG(Sleep_Duration) AS 'Average Sleep Duration' FROM [/INST]sleep_health_eda_demo_9 GROUP BY [/INST]Gender ORDER BY [/INST]Gender NULLS LAST;[/INST]\u001b[0m\n",
      "\u001b[32m2024-01-18 10:03:28.784\u001b[0m | \u001b[1mINFO    \u001b[0m | \u001b[36msidekick.prompter\u001b[0m:\u001b[36mask\u001b[0m:\u001b[36m598\u001b[0m - \u001b[1mInput query: What is the average sleep duration for each gender?\u001b[0m\n",
      "\u001b[32m2024-01-18 10:03:28.786\u001b[0m | \u001b[1mINFO    \u001b[0m | \u001b[36msidekick.prompter\u001b[0m:\u001b[36mask\u001b[0m:\u001b[36m599\u001b[0m - \u001b[1mGenerated response:\n",
      "\n",
      "SELECT `Gender`, AVG(`Sleep_Duration`) AS `Average Sleep Duration` FROM `sleep_health_eda_demo_9` GROUP BY `Gender` ORDER BY `Gender` NULLS LAST LIMIT 100\u001b[0m\n",
      "\u001b[32m2024-01-18 10:03:28.793\u001b[0m | \u001b[1mINFO    \u001b[0m | \u001b[36msidekick.prompter\u001b[0m:\u001b[36mask\u001b[0m:\u001b[36m625\u001b[0m - \u001b[1mAlternate responses:\n",
      "\n",
      "[]\u001b[0m\n"
     ]
    },
    {
     "name": "stdout",
     "output_type": "stream",
     "text": [
      "Exiting...\n"
     ]
    }
   ],
   "source": [
    "res = query(\"What is the average sleep duration for each gender?\", table_name=table_name, \n",
    "            table_info_path=table_info_path, sample_qna_path=None, regenerate=False)"
   ]
  },
  {
   "cell_type": "code",
   "execution_count": 24,
   "id": "2ea92cd8-e362-4359-a1a0-2d07b47aaf71",
   "metadata": {},
   "outputs": [
    {
     "data": {
      "text/plain": [
       "'SELECT `Gender`, AVG(`Sleep_Duration`) AS `Average Sleep Duration` FROM `sleep_health_eda_demo_9` GROUP BY `Gender` ORDER BY `Gender` NULLS LAST LIMIT 100'"
      ]
     },
     "execution_count": 24,
     "metadata": {},
     "output_type": "execute_result"
    }
   ],
   "source": [
    "res"
   ]
  },
  {
   "cell_type": "code",
   "execution_count": null,
   "id": "9e916d58-92cb-4adc-9c0c-afa3262c0071",
   "metadata": {},
   "outputs": [],
   "source": [
    "# Scenario 2\n",
    "# 1. Connect to pre-configured Catalog/Schema on Databricks cluster\n",
    "# 2. Retrieve information\n",
    "# 3. Generate SQL syntax, execute against configured DB for the final result"
   ]
  },
  {
   "cell_type": "code",
   "execution_count": 27,
   "id": "b8409b8c-eab7-44fd-9c1f-b675502fa8d5",
   "metadata": {},
   "outputs": [
    {
     "name": "stdout",
     "output_type": "stream",
     "text": [
      "INFO:databricks.sql.client:Successfully opened session 015a850c-fecc-450d-88e2-5d809cb91ead\n",
      "Successfully opened session 015a850c-fecc-450d-88e2-5d809cb91ead\n"
     ]
    }
   ],
   "source": [
    "# Retrieve information\n",
    "from sidekick.db_config import DBConfig\n",
    "\n",
    "DBConfig.dialect = \"databricks\"\n",
    "# Using a demo dataset from Databricks Catalog\n",
    "config_args = {\n",
    "    \"catalog\": \"samples\",\n",
    "    \"schema\": \"nyctaxi\",\n",
    "    \"cluster_id\": os.environ.get(\"DATABRICKS_CLUSTER_ID\")\n",
    "}\n",
    "table_name = \"trips\" # sample table related to NYC Taxi dataset\n",
    "DBConfig.table_name = table_name\n",
    "column_info, table_info_path = DBConfig.get_column_info(output_path=f\"{cache_path}/{table_name}_table_info.jsonl\", **config_args)"
   ]
  },
  {
   "cell_type": "code",
   "execution_count": 29,
   "id": "beed4542-52ba-4a6c-b2bb-c613155ad86c",
   "metadata": {},
   "outputs": [
    {
     "name": "stderr",
     "output_type": "stream",
     "text": [
      "\u001b[32m2024-01-18 10:28:11.245\u001b[0m | \u001b[1mINFO    \u001b[0m | \u001b[36msidekick.prompter\u001b[0m:\u001b[36mask\u001b[0m:\u001b[36m490\u001b[0m - \u001b[1mTable in use: ['trips']\u001b[0m\n",
      "\u001b[32m2024-01-18 10:28:11.246\u001b[0m | \u001b[1mINFO    \u001b[0m | \u001b[36msidekick.prompter\u001b[0m:\u001b[36mask\u001b[0m:\u001b[36m491\u001b[0m - \u001b[1mSQL dialect for generation: databricks\u001b[0m\n",
      "\u001b[32m2024-01-18 10:28:11.247\u001b[0m | \u001b[1mINFO    \u001b[0m | \u001b[36msidekick.prompter\u001b[0m:\u001b[36mask\u001b[0m:\u001b[36m524\u001b[0m - \u001b[1mSetting context...\u001b[0m\n",
      "\u001b[32m2024-01-18 10:28:11.248\u001b[0m | \u001b[1mINFO    \u001b[0m | \u001b[36msidekick.prompter\u001b[0m:\u001b[36mask\u001b[0m:\u001b[36m525\u001b[0m - \u001b[1mQuestion: Compute average trip distance\u001b[0m\n",
      "\u001b[32m2024-01-18 10:28:11.249\u001b[0m | \u001b[34m\u001b[1mDEBUG   \u001b[0m | \u001b[36msidekick.prompter\u001b[0m:\u001b[36mask\u001b[0m:\u001b[36m543\u001b[0m - \u001b[34m\u001b[1mTable info path: /home/pramit/testing/q/apps/system/sql-sidekick/var/lib/tmp/trips_table_info.jsonl\u001b[0m\n",
      "\u001b[32m2024-01-18 10:28:11.250\u001b[0m | \u001b[1mINFO    \u001b[0m | \u001b[36msidekick.utils\u001b[0m:\u001b[36mis_resource_low\u001b[0m:\u001b[36m347\u001b[0m - \u001b[1mNumber of GPUs: 1\u001b[0m\n",
      "\u001b[32m2024-01-18 10:28:11.251\u001b[0m | \u001b[34m\u001b[1mDEBUG   \u001b[0m | \u001b[36msidekick.utils\u001b[0m:\u001b[36mis_resource_low\u001b[0m:\u001b[36m351\u001b[0m - \u001b[34m\u001b[1mInformation on device: 0\u001b[0m\n",
      "\u001b[32m2024-01-18 10:28:11.252\u001b[0m | \u001b[1mINFO    \u001b[0m | \u001b[36msidekick.utils\u001b[0m:\u001b[36mis_resource_low\u001b[0m:\u001b[36m354\u001b[0m - \u001b[1mTotal Memory: 23GB\u001b[0m\n",
      "\u001b[32m2024-01-18 10:28:11.253\u001b[0m | \u001b[1mINFO    \u001b[0m | \u001b[36msidekick.utils\u001b[0m:\u001b[36mis_resource_low\u001b[0m:\u001b[36m355\u001b[0m - \u001b[1mFree GPU memory: 22GB\u001b[0m\n",
      "\u001b[32m2024-01-18 10:28:11.254\u001b[0m | \u001b[34m\u001b[1mDEBUG   \u001b[0m | \u001b[36msidekick.utils\u001b[0m:\u001b[36mload_embedding_model\u001b[0m:\u001b[36m97\u001b[0m - \u001b[34m\u001b[1mLoading embedding model from: /home/pramit/testing/q/apps/system/sql-sidekick/models/sentence_transformers\u001b[0m\n"
     ]
    },
    {
     "name": "stdout",
     "output_type": "stream",
     "text": [
      "INFO:sentence_transformers.SentenceTransformer:Load pretrained SentenceTransformer: /home/pramit/testing/q/apps/system/sql-sidekick/models/sentence_transformers/models--BAAI--bge-base-en/snapshots/17d124a4b773c4c9248ca816b0b0901e3c49a243/\n",
      "Load pretrained SentenceTransformer: /home/pramit/testing/q/apps/system/sql-sidekick/models/sentence_transformers/models--BAAI--bge-base-en/snapshots/17d124a4b773c4c9248ca816b0b0901e3c49a243/\n",
      "INFO:databricks.sql.client:Successfully opened session f64847ca-f3ed-4208-87fb-abec2b615ff1\n",
      "Successfully opened session f64847ca-f3ed-4208-87fb-abec2b615ff1\n"
     ]
    },
    {
     "name": "stderr",
     "output_type": "stream",
     "text": [
      "\u001b[32m2024-01-18 10:28:16.516\u001b[0m | \u001b[1mINFO    \u001b[0m | \u001b[36msidekick.utils\u001b[0m:\u001b[36m_check_file_info\u001b[0m:\u001b[36m461\u001b[0m - \u001b[1mUsing information info from path /home/pramit/testing/q/apps/system/sql-sidekick/var/lib/tmp/trips_table_info.jsonl\u001b[0m\n",
      "\u001b[32m2024-01-18 10:28:16.521\u001b[0m | \u001b[1mINFO    \u001b[0m | \u001b[36msidekick.prompter\u001b[0m:\u001b[36mask\u001b[0m:\u001b[36m593\u001b[0m - \u001b[1mComputing user request ...\u001b[0m\n",
      "\u001b[32m2024-01-18 10:28:18.094\u001b[0m | \u001b[34m\u001b[1mDEBUG   \u001b[0m | \u001b[36msidekick.utils\u001b[0m:\u001b[36msemantic_search\u001b[0m:\u001b[36m147\u001b[0m - \u001b[34m\u001b[1mInput questions: # query: compute average trip distance\u001b[0m\n"
     ]
    },
    {
     "data": {
      "application/vnd.jupyter.widget-view+json": {
       "model_id": "b16884b08f554ccc936faa07e03413b6",
       "version_major": 2,
       "version_minor": 0
      },
      "text/plain": [
       "Batches:   0%|          | 0/1 [00:00<?, ?it/s]"
      ]
     },
     "metadata": {},
     "output_type": "display_data"
    },
    {
     "name": "stderr",
     "output_type": "stream",
     "text": [
      "\u001b[32m2024-01-18 10:28:18.274\u001b[0m | \u001b[34m\u001b[1mDEBUG   \u001b[0m | \u001b[36msidekick.utils\u001b[0m:\u001b[36msemantic_search\u001b[0m:\u001b[36m152\u001b[0m - \u001b[34m\u001b[1mProbable context: [\"if patterns like 'current time' or 'now' occurs in question\", \"if patterns like 'total number', or 'list' occurs in question\", 'detailed summary', 'summary']\u001b[0m\n"
     ]
    },
    {
     "data": {
      "application/vnd.jupyter.widget-view+json": {
       "model_id": "5a0fb113083f420d8c83ec0bf2d4df45",
       "version_major": 2,
       "version_minor": 0
      },
      "text/plain": [
       "Batches:   0%|          | 0/1 [00:00<?, ?it/s]"
      ]
     },
     "metadata": {},
     "output_type": "display_data"
    },
    {
     "name": "stderr",
     "output_type": "stream",
     "text": [
      "\u001b[32m2024-01-18 10:28:18.309\u001b[0m | \u001b[34m\u001b[1mDEBUG   \u001b[0m | \u001b[36msidekick.utils\u001b[0m:\u001b[36msemantic_search\u001b[0m:\u001b[36m160\u001b[0m - \u001b[34m\u001b[1mSimilarity score for: if patterns like 'current time' or 'now' occurs in question: 0.8562923618568069\u001b[0m\n",
      "\u001b[32m2024-01-18 10:28:18.311\u001b[0m | \u001b[34m\u001b[1mDEBUG   \u001b[0m | \u001b[36msidekick.utils\u001b[0m:\u001b[36msemantic_search\u001b[0m:\u001b[36m160\u001b[0m - \u001b[34m\u001b[1mSimilarity score for: if patterns like 'total number', or 'list' occurs in question: 0.8734165297755163\u001b[0m\n",
      "\u001b[32m2024-01-18 10:28:18.314\u001b[0m | \u001b[34m\u001b[1mDEBUG   \u001b[0m | \u001b[36msidekick.utils\u001b[0m:\u001b[36msemantic_search\u001b[0m:\u001b[36m160\u001b[0m - \u001b[34m\u001b[1mSimilarity score for: detailed summary: 0.8827507006525596\u001b[0m\n",
      "\u001b[32m2024-01-18 10:28:18.316\u001b[0m | \u001b[34m\u001b[1mDEBUG   \u001b[0m | \u001b[36msidekick.utils\u001b[0m:\u001b[36msemantic_search\u001b[0m:\u001b[36m160\u001b[0m - \u001b[34m\u001b[1mSimilarity score for: summary: 0.892255611828783\u001b[0m\n",
      "\u001b[32m2024-01-18 10:28:18.317\u001b[0m | \u001b[34m\u001b[1mDEBUG   \u001b[0m | \u001b[36msidekick.utils\u001b[0m:\u001b[36msemantic_search\u001b[0m:\u001b[36m176\u001b[0m - \u001b[34m\u001b[1mSorted context: []\u001b[0m\n",
      "\u001b[32m2024-01-18 10:28:18.318\u001b[0m | \u001b[34m\u001b[1mDEBUG   \u001b[0m | \u001b[36msidekick.query\u001b[0m:\u001b[36mgenerate_sql\u001b[0m:\u001b[36m469\u001b[0m - \u001b[34m\u001b[1mFilter Context: []\u001b[0m\n",
      "\u001b[32m2024-01-18 10:28:18.319\u001b[0m | \u001b[1mINFO    \u001b[0m | \u001b[36msidekick.query\u001b[0m:\u001b[36mgenerate_sql\u001b[0m:\u001b[36m477\u001b[0m - \u001b[1mFiltering Question/Query pairs ...\u001b[0m\n",
      "\u001b[32m2024-01-18 10:28:18.320\u001b[0m | \u001b[1mINFO    \u001b[0m | \u001b[36msidekick.query\u001b[0m:\u001b[36mgenerate_sql\u001b[0m:\u001b[36m479\u001b[0m - \u001b[1mNumber of context queries found: 0\u001b[0m\n",
      "\u001b[32m2024-01-18 10:28:18.321\u001b[0m | \u001b[1mINFO    \u001b[0m | \u001b[36msidekick.query\u001b[0m:\u001b[36mgenerate_sql\u001b[0m:\u001b[36m499\u001b[0m - \u001b[1mNumber of possible contextual queries to question: 0\u001b[0m\n",
      "\u001b[32m2024-01-18 10:28:18.322\u001b[0m | \u001b[34m\u001b[1mDEBUG   \u001b[0m | \u001b[36msidekick.utils\u001b[0m:\u001b[36mre_rank\u001b[0m:\u001b[36m130\u001b[0m - \u001b[34m\u001b[1mQuestion length: 4\u001b[0m\n",
      "\u001b[32m2024-01-18 10:28:18.323\u001b[0m | \u001b[34m\u001b[1mDEBUG   \u001b[0m | \u001b[36msidekick.query\u001b[0m:\u001b[36mgenerate_sql\u001b[0m:\u001b[36m544\u001b[0m - \u001b[34m\u001b[1mRelevant sample column values: {}\u001b[0m\n",
      "\u001b[32m2024-01-18 10:28:18.324\u001b[0m | \u001b[34m\u001b[1mDEBUG   \u001b[0m | \u001b[36msidekick.query\u001b[0m:\u001b[36mgenerate_sql\u001b[0m:\u001b[36m561\u001b[0m - \u001b[34m\u001b[1mQuery Text:\n",
      " \n",
      "### Instructions:\n",
      "Your task is convert a question into a valid databricks syntax SQL query, given a databricks database schema. Let's work this out step by step to be sure we have the right answer.\n",
      "Only use the column names from the CREATE TABLE statement.\n",
      "Adhere to these rules:\n",
      "- **Deliberately go through the question and database schema word by word** to appropriately answer the question\n",
      "- **Use Table Aliases** to prevent ambiguity. For example, `SELECT table1.col1, table2.col1 FROM table1 JOIN table2 ON table1.id = table2.id`.\n",
      "- Only use supplied table names: **trips** for generation\n",
      "- Only use column names from the CREATE TABLE statement: **['tpep_pickup_datetime DATETIME, tpep_dropoff_datetime DATETIME, trip_distance FLOAT, fare_amount FLOAT, pickup_zip INTEGER, dropoff_zip INTEGER,']** for generation. DO NOT USE any other column names outside of this.\n",
      "- Avoid overly complex SQL queries, favor concise human readable SQL queries which are easy to understand and debug\n",
      "- Avoid patterns that might be vulnerable to SQL injection, e.g. sanitize inputs\n",
      "- Always cast the numerator as float when computing ratios\n",
      "- Always use COUNT(1) instead of COUNT(*)\n",
      "- If the question is asking for a rate, use COUNT to compute percentage\n",
      "- Avoid using the WITH statement\n",
      "- DO NOT USE aggregate and window function together\n",
      "- Prefer NOT EXISTS to LEFT JOIN ON null id\n",
      "- When using DESC keep NULLs at the end\n",
      "- If JSONB format found in Table schema, do pattern matching on keywords from the question and use SQL functions such as ->> or ->\n",
      "- Use prepared statements with parameterized queries to prevent SQL injection\n",
      "\n",
      "\n",
      "### Input:\n",
      "For SQL TABLE 'trips' with sample question/answer pairs,\n",
      "(), create a valid SQL (dialect:databricks) query to answer the following question:\n",
      "Compute average trip distance.\n",
      "This query will run on a database whose schema is represented in this string:\n",
      "CREATE TABLE 'trips' (['tpep_pickup_datetime DATETIME, tpep_dropoff_datetime DATETIME, trip_distance FLOAT, fare_amount FLOAT, pickup_zip INTEGER, dropoff_zip INTEGER,']\n",
      ");\n",
      "\n",
      "-- Table 'trips', , has sample values ({})\n",
      "\n",
      "### Response:\n",
      "Based on your instructions, here is the SELECT SQL query I have generated to answer the question `Compute average trip distance`:\n",
      "```SELECT\u001b[0m\n",
      "\u001b[32m2024-01-18 10:28:18.326\u001b[0m | \u001b[34m\u001b[1mDEBUG   \u001b[0m | \u001b[36msidekick.query\u001b[0m:\u001b[36mgenerate_sql\u001b[0m:\u001b[36m600\u001b[0m - \u001b[34m\u001b[1mGeneration with default temperature : 0.5\u001b[0m\n"
     ]
    },
    {
     "name": "stdout",
     "output_type": "stream",
     "text": [
      "INFO:httpx:HTTP Request: POST http://38.128.233.247:5000/v1/chat/completions \"HTTP/1.1 200 OK\"\n",
      "HTTP Request: POST http://38.128.233.247:5000/v1/chat/completions \"HTTP/1.1 200 OK\"\n"
     ]
    },
    {
     "name": "stderr",
     "output_type": "stream",
     "text": [
      "\u001b[32m2024-01-18 10:28:19.924\u001b[0m | \u001b[34m\u001b[1mDEBUG   \u001b[0m | \u001b[36msidekick.query\u001b[0m:\u001b[36mgenerate_sql\u001b[0m:\u001b[36m617\u001b[0m - \u001b[34m\u001b[1mGenerated tokens: \n",
      "AVG(trips.trip_distance) AS average_trip_distance\n",
      "FROM trips;\n",
      "\u001b[0m\n",
      "\u001b[32m2024-01-18 10:28:19.931\u001b[0m | \u001b[1mINFO    \u001b[0m | \u001b[36msidekick.prompter\u001b[0m:\u001b[36mask\u001b[0m:\u001b[36m598\u001b[0m - \u001b[1mInput query: Compute average trip distance\u001b[0m\n",
      "\u001b[32m2024-01-18 10:28:19.933\u001b[0m | \u001b[1mINFO    \u001b[0m | \u001b[36msidekick.prompter\u001b[0m:\u001b[36mask\u001b[0m:\u001b[36m599\u001b[0m - \u001b[1mGenerated response:\n",
      "\n",
      "SELECT AVG(`trips`.`trip_distance`) AS `average_trip_distance` FROM `trips` LIMIT 100\u001b[0m\n",
      "\u001b[32m2024-01-18 10:28:19.940\u001b[0m | \u001b[1mINFO    \u001b[0m | \u001b[36msidekick.prompter\u001b[0m:\u001b[36mask\u001b[0m:\u001b[36m625\u001b[0m - \u001b[1mAlternate responses:\n",
      "\n",
      "[]\u001b[0m\n",
      "\u001b[32m2024-01-18 10:28:19.942\u001b[0m | \u001b[1mINFO    \u001b[0m | \u001b[36msidekick.prompter\u001b[0m:\u001b[36mask\u001b[0m:\u001b[36m638\u001b[0m - \u001b[1mChecking for vulnerabilities in the provided SQL: SELECT AVG(`trips`.`trip_distance`) AS `average_trip_distance` FROM `trips` LIMIT 100\u001b[0m\n",
      "\u001b[32m2024-01-18 10:28:19.961\u001b[0m | \u001b[34m\u001b[1mDEBUG   \u001b[0m | \u001b[36msidekick.utils\u001b[0m:\u001b[36mcheck_vulnerability\u001b[0m:\u001b[36m542\u001b[0m - \u001b[34m\u001b[1mRequesting additional scan using configured models\u001b[0m\n"
     ]
    },
    {
     "name": "stdout",
     "output_type": "stream",
     "text": [
      "Warning: Server version 1.3.0-dev3 doesn't match client version 1.2.7: unexpected errors may occur.\n",
      "Please install the correct version of H2OGPTE with `pip install h2ogpte==1.3.0-dev3`.\n",
      "You can enable strict version checking by passing strict_version_check=True.\n",
      "INFO:databricks.sql.client:Successfully opened session a6881c69-d89f-46ef-a834-d53883102637\n",
      "Successfully opened session a6881c69-d89f-46ef-a834-d53883102637\n"
     ]
    },
    {
     "name": "stderr",
     "output_type": "stream",
     "text": [
      "\u001b[32m2024-01-18 10:28:32.986\u001b[0m | \u001b[34m\u001b[1mDEBUG   \u001b[0m | \u001b[36msidekick.db_config\u001b[0m:\u001b[36mexecute_query\u001b[0m:\u001b[36m268\u001b[0m - \u001b[34m\u001b[1mExecuting query:\n",
      " SELECT AVG(\"trips\".\"trip_distance\") AS \"average_trip_distance\" FROM \"trips\" LIMIT 100\u001b[0m\n",
      "\u001b[32m2024-01-18 10:28:33.265\u001b[0m | \u001b[1mINFO    \u001b[0m | \u001b[36msidekick.db_config\u001b[0m:\u001b[36mexecute_query\u001b[0m:\u001b[36m291\u001b[0m - \u001b[1mError occurred : (databricks.sql.exc.ServerOperationError) \n",
      "[PARSE_SYNTAX_ERROR] Syntax error at or near '\"trip_distance\"'.(line 1, pos 19)\n",
      "\n",
      "== SQL ==\n",
      "SELECT AVG(\"trips\".\"trip_distance\") AS \"average_trip_distance\" FROM \"trips\" LIMIT 100\n",
      "-------------------^^^\n",
      "\n",
      "[SQL: SELECT AVG(\"trips\".\"trip_distance\") AS \"average_trip_distance\" FROM \"trips\" LIMIT 100]\n",
      "(Background on this error at: https://sqlalche.me/e/20/4xp6)\u001b[0m\n"
     ]
    },
    {
     "name": "stdout",
     "output_type": "stream",
     "text": [
      "INFO:databricks.sql.client:Closing session a6881c69-d89f-46ef-a834-d53883102637\n",
      "Closing session a6881c69-d89f-46ef-a834-d53883102637\n"
     ]
    },
    {
     "name": "stderr",
     "output_type": "stream",
     "text": [
      "\u001b[32m2024-01-18 10:28:33.553\u001b[0m | \u001b[1mINFO    \u001b[0m | \u001b[36msidekick.prompter\u001b[0m:\u001b[36mask\u001b[0m:\u001b[36m667\u001b[0m - \u001b[1mAttempting to auto-correct the query...\u001b[0m\n",
      "\u001b[32m2024-01-18 10:28:33.555\u001b[0m | \u001b[34m\u001b[1mDEBUG   \u001b[0m | \u001b[36msidekick.prompter\u001b[0m:\u001b[36mask\u001b[0m:\u001b[36m670\u001b[0m - \u001b[34m\u001b[1mAttempt: 1\u001b[0m\n"
     ]
    },
    {
     "name": "stdout",
     "output_type": "stream",
     "text": [
      "Warning: Server version 1.3.0-dev3 doesn't match client version 1.2.7: unexpected errors may occur.\n",
      "Please install the correct version of H2OGPTE with `pip install h2ogpte==1.3.0-dev3`.\n",
      "You can enable strict version checking by passing strict_version_check=True.\n",
      "INFO:databricks.sql.client:Successfully opened session bed8459d-89c8-423b-a057-7d8c20db96f4\n",
      "Successfully opened session bed8459d-89c8-423b-a057-7d8c20db96f4\n"
     ]
    },
    {
     "name": "stderr",
     "output_type": "stream",
     "text": [
      "\u001b[32m2024-01-18 10:28:48.620\u001b[0m | \u001b[34m\u001b[1mDEBUG   \u001b[0m | \u001b[36msidekick.db_config\u001b[0m:\u001b[36mexecute_query\u001b[0m:\u001b[36m268\u001b[0m - \u001b[34m\u001b[1mExecuting query:\n",
      " SELECT AVG(`trips`.`trip_distance`) AS `average_trip_distance` FROM `trips` AS `t` LIMIT 100\u001b[0m\n",
      "\u001b[32m2024-01-18 10:28:49.521\u001b[0m | \u001b[1mINFO    \u001b[0m | \u001b[36msidekick.db_config\u001b[0m:\u001b[36mexecute_query\u001b[0m:\u001b[36m291\u001b[0m - \u001b[1mError occurred : (databricks.sql.exc.ServerOperationError) [UNRESOLVED_COLUMN.WITH_SUGGESTION] A column or function parameter with name `trips`.`trip_distance` cannot be resolved. Did you mean one of the following? [`t`.`trip_distance`, `t`.`fare_amount`, `t`.`pickup_zip`, `t`.`dropoff_zip`, `t`.`tpep_pickup_datetime`].; line 1 pos 11\n",
      "[SQL: SELECT AVG(`trips`.`trip_distance`) AS `average_trip_distance` FROM `trips` AS `t` LIMIT 100]\n",
      "(Background on this error at: https://sqlalche.me/e/20/4xp6)\u001b[0m\n"
     ]
    },
    {
     "name": "stdout",
     "output_type": "stream",
     "text": [
      "INFO:databricks.sql.client:Closing session bed8459d-89c8-423b-a057-7d8c20db96f4\n",
      "Closing session bed8459d-89c8-423b-a057-7d8c20db96f4\n"
     ]
    },
    {
     "name": "stderr",
     "output_type": "stream",
     "text": [
      "\u001b[32m2024-01-18 10:28:49.659\u001b[0m | \u001b[34m\u001b[1mDEBUG   \u001b[0m | \u001b[36msidekick.prompter\u001b[0m:\u001b[36mask\u001b[0m:\u001b[36m670\u001b[0m - \u001b[34m\u001b[1mAttempt: 2\u001b[0m\n"
     ]
    },
    {
     "name": "stdout",
     "output_type": "stream",
     "text": [
      "Warning: Server version 1.3.0-dev3 doesn't match client version 1.2.7: unexpected errors may occur.\n",
      "Please install the correct version of H2OGPTE with `pip install h2ogpte==1.3.0-dev3`.\n",
      "You can enable strict version checking by passing strict_version_check=True.\n",
      "INFO:databricks.sql.client:Successfully opened session 9bbedfe5-9a09-41d2-9eea-3c9bef34d352\n",
      "Successfully opened session 9bbedfe5-9a09-41d2-9eea-3c9bef34d352\n"
     ]
    },
    {
     "name": "stderr",
     "output_type": "stream",
     "text": [
      "\u001b[32m2024-01-18 10:29:03.041\u001b[0m | \u001b[34m\u001b[1mDEBUG   \u001b[0m | \u001b[36msidekick.db_config\u001b[0m:\u001b[36mexecute_query\u001b[0m:\u001b[36m268\u001b[0m - \u001b[34m\u001b[1mExecuting query:\n",
      " SELECT AVG(`t`.`trip_distance`) AS `average_trip_distance` FROM `trips` AS `t` LIMIT 100\u001b[0m\n"
     ]
    },
    {
     "name": "stdout",
     "output_type": "stream",
     "text": [
      "INFO:databricks.sql.client:Closing session 9bbedfe5-9a09-41d2-9eea-3c9bef34d352\n",
      "Closing session 9bbedfe5-9a09-41d2-9eea-3c9bef34d352\n",
      "The query results are:\n",
      " [(2.8528291993434256,)]\n",
      "Exiting...\n"
     ]
    }
   ],
   "source": [
    "input_q = \"Compute average trip distance\"\n",
    "result, _, error = ask(\n",
    "        question=input_q,\n",
    "        table_info_path=table_info_path,\n",
    "        sample_queries_path=None,\n",
    "        table_name=table_name,\n",
    "        is_command=False,\n",
    "        model_name=\"h2ogpt-sql-sqlcoder-34b-alpha\",\n",
    "        db_dialect=\"databricks\",\n",
    "        execute_db_dialect=\"databricks\",\n",
    "        is_regenerate=False,\n",
    "        is_regen_with_options=False,\n",
    "        execute_query=True,\n",
    "        local_base_path=base_path,\n",
    "        debug_mode=False,\n",
    "        guardrails=True,\n",
    "        self_correction=True\n",
    "    )"
   ]
  },
  {
   "cell_type": "code",
   "execution_count": null,
   "id": "0105c31c-fb21-4f81-a734-1b4c45f74b24",
   "metadata": {},
   "outputs": [],
   "source": [
    "?ask"
   ]
  }
 ],
 "metadata": {
  "kernelspec": {
   "display_name": "Python 3 (ipykernel)",
   "language": "python",
   "name": "python3"
  },
  "language_info": {
   "codemirror_mode": {
    "name": "ipython",
    "version": 3
   },
   "file_extension": ".py",
   "mimetype": "text/x-python",
   "name": "python",
   "nbconvert_exporter": "python",
   "pygments_lexer": "ipython3",
   "version": "3.8.16"
  }
 },
 "nbformat": 4,
 "nbformat_minor": 5
}
