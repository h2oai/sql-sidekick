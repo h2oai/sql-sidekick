{
 "cells": [
  {
   "cell_type": "code",
   "execution_count": null,
   "id": "b69aaf22-a0c1-4f9d-b5b1-2ca0aa7130db",
   "metadata": {},
   "outputs": [],
   "source": [
    "#!pip install --force-reinstall sql_sidekick-0.1.8-py3-none-any.whl"
   ]
  },
  {
   "cell_type": "code",
   "execution_count": 1,
   "id": "032a240c-5e9b-4982-b6e9-398ee6ce001e",
   "metadata": {},
   "outputs": [],
   "source": [
    "from sidekick import prompter"
   ]
  },
  {
   "cell_type": "code",
   "execution_count": 2,
   "id": "5173aef9-0e2d-4789-8c16-eff0c043c747",
   "metadata": {},
   "outputs": [
    {
     "data": {
      "text/plain": [
       "'0.1.8'"
      ]
     },
     "execution_count": 2,
     "metadata": {},
     "output_type": "execute_result"
    }
   ],
   "source": [
    "prompter.__version__"
   ]
  },
  {
   "cell_type": "code",
   "execution_count": 3,
   "id": "4c92083f-c2d3-4bb9-a22d-479b4f40695a",
   "metadata": {},
   "outputs": [],
   "source": [
    "import logging\n",
    "import sys\n",
    "\n",
    "logging.basicConfig(stream=sys.stdout, level=logging.INFO)\n",
    "logging.getLogger().addHandler(logging.StreamHandler(stream=sys.stdout))"
   ]
  },
  {
   "cell_type": "code",
   "execution_count": 4,
   "id": "023038c9-5758-45ec-a11d-99a64fe423b7",
   "metadata": {},
   "outputs": [],
   "source": [
    "from sidekick.prompter import db_setup, ask\n",
    "from sidekick.schema_generator import generate_schema\n",
    "from sidekick.utils import setup_dir, list_db_dialects"
   ]
  },
  {
   "cell_type": "code",
   "execution_count": 5,
   "id": "4bcb8e59-cd09-4f82-8606-0ad481953c04",
   "metadata": {},
   "outputs": [],
   "source": [
    "base_path = \"./\"\n",
    "cache_path = f\"{base_path}/var/lib/tmp\"\n",
    "setup_dir(base_path)"
   ]
  },
  {
   "cell_type": "code",
   "execution_count": 6,
   "id": "0b3c4683-8d1f-42f3-8118-25ebdc0ca1e1",
   "metadata": {},
   "outputs": [
    {
     "name": "stdout",
     "output_type": "stream",
     "text": [
      " Information supplied:\n",
      " querydb, localhost, sqlite, abc, 5432\n"
     ]
    },
    {
     "name": "stderr",
     "output_type": "stream",
     "text": [
      "\u001b[32m2023-12-06 03:14:47.117\u001b[0m | \u001b[34m\u001b[1mDEBUG   \u001b[0m | \u001b[36msidekick.db_config\u001b[0m:\u001b[36m__init__\u001b[0m:\u001b[36m42\u001b[0m - \u001b[34m\u001b[1mCreating SQLite DB: sqlite:////home/pramit/testing/q/apps/system/sql-sidekick/db/sqlite/querydb.db\u001b[0m\n"
     ]
    },
    {
     "name": "stdout",
     "output_type": "stream",
     "text": [
      "Database already exists!\n",
      "Table name: sleep_health_eda_demo_6\n"
     ]
    },
    {
     "name": "stderr",
     "output_type": "stream",
     "text": [
      "\u001b[32m2023-12-06 03:14:47.123\u001b[0m | \u001b[34m\u001b[1mDEBUG   \u001b[0m | \u001b[36msidekick.db_config\u001b[0m:\u001b[36m_extract_schema_info\u001b[0m:\u001b[36m100\u001b[0m - \u001b[34m\u001b[1mSchema path: /home/pramit/testing/q/apps/system/sql-sidekick/var/lib/tmp/sleep_health_eda_demo_6_table_info.jsonl\u001b[0m\n",
      "\u001b[32m2023-12-06 03:14:47.125\u001b[0m | \u001b[34m\u001b[1mDEBUG   \u001b[0m | \u001b[36msidekick.db_config\u001b[0m:\u001b[36mcreate_table\u001b[0m:\u001b[36m145\u001b[0m - \u001b[34m\u001b[1mSchema info used for creating table:\n",
      " Person_ID NUMERIC,\n",
      "Gender TEXT COLLATE NOCASE,\n",
      "Age NUMERIC,\n",
      "Occupation TEXT COLLATE NOCASE,\n",
      "Sleep_Duration NUMERIC,\n",
      "Quality_of_Sleep NUMERIC,\n",
      "Physical_Activity_Level NUMERIC,\n",
      "Stress_Level NUMERIC,\n",
      "BMI_Category TEXT COLLATE NOCASE,\n",
      "Blood_Pressure TEXT COLLATE NOCASE,\n",
      "Heart_Rate NUMERIC,\n",
      "Daily_Steps NUMERIC,\n",
      "Sleep_Disorder TEXT COLLATE NOCASE\u001b[0m\n"
     ]
    },
    {
     "name": "stdout",
     "output_type": "stream",
     "text": [
      "Checked table sleep_health_eda_demo_6 exists in the DB.\n",
      "Exiting...\n"
     ]
    }
   ],
   "source": [
    "HOST_NAME = \"localhost\"\n",
    "USER_NAME = \"sqlite\"\n",
    "PASSWORD = \"abc\"\n",
    "DB_NAME = \"querydb\"\n",
    "PORT = \"5432\"\n",
    "\n",
    "\n",
    "# Given .csv file, auto-generate schema\n",
    "# Download dataset --> https://www.kaggle.com/datasets/uom190346a/sleep-health-and-lifestyle-dataset\n",
    "data_path = \"/home/pramit/testing/q/apps/system/sql-sidekick/examples/demo/sleep_health_and_lifestyle_dataset.csv\"\n",
    "table_name = \"sleep_health_eda_demo\"\n",
    "\n",
    "r, table_info_path = generate_schema(data_path, f\"{cache_path}/{table_name}_table_info.jsonl\")\n",
    "\n",
    "# Set add_sample=False if no need to add rows to the table\n",
    "llm_response, err = db_setup(\n",
    "                db_name=DB_NAME,\n",
    "                hostname=HOST_NAME,\n",
    "                user_name=USER_NAME,\n",
    "                password=PASSWORD,\n",
    "                port=PORT,\n",
    "                table_info_path=table_info_path,\n",
    "                table_samples_path=data_path,\n",
    "                table_name=table_name,\n",
    "                local_base_path=base_path,\n",
    "                add_sample=False\n",
    "            )"
   ]
  },
  {
   "cell_type": "code",
   "execution_count": null,
   "id": "73bf9884",
   "metadata": {},
   "outputs": [],
   "source": [
    "# One could also decide to pass the table schema via the API if needed\n",
    "# Schema format:\n",
    "\n",
    "# [{'Column Name': 'Person_ID', 'Column Type': 'NUMERIC'},\n",
    "#  {'Column Name': 'Gender',\n",
    "#   'Column Type': 'TEXT',\n",
    "#   'Sample Values': ['Male', 'Female']},\n",
    "#  {'Column Name': 'Age', 'Column Type': 'NUMERIC'},\n",
    "#  {'Column Name': 'Occupation',\n",
    "#   'Column Type': 'TEXT',\n",
    "#   'Sample Values': ['Accountant',\n",
    "#    'Manager',\n",
    "#    'Sales Representative',\n",
    "#    'Salesperson',\n",
    "#    'Lawyer',\n",
    "#    'Nurse',\n",
    "#    'Teacher',\n",
    "#    'Software Engineer',\n",
    "#    'Doctor',\n",
    "#    'Scientist']},\n",
    "#  {'Column Name': 'Sleep_Duration', 'Column Type': 'NUMERIC'},\n",
    "#  {'Column Name': 'Quality_of_Sleep', 'Column Type': 'NUMERIC'},\n",
    "#  {'Column Name': 'Physical_Activity_Level', 'Column Type': 'NUMERIC'},\n",
    "#  {'Column Name': 'Stress_Level', 'Column Type': 'NUMERIC'},\n",
    "#  {'Column Name': 'BMI_Category',\n",
    "#   'Column Type': 'TEXT',\n",
    "#   'Sample Values': ['Overweight', 'Normal', 'Obese', 'Normal Weight']},\n",
    "#  {'Column Name': 'Blood_Pressure', 'Column Type': 'TEXT'},\n",
    "#  {'Column Name': 'Heart_Rate', 'Column Type': 'NUMERIC'},\n",
    "#  {'Column Name': 'Daily_Steps', 'Column Type': 'NUMERIC'},\n",
    "#  {'Column Name': 'Sleep_Disorder',\n",
    "#   'Column Type': 'TEXT',\n",
    "#   'Sample Values': ['None', 'Sleep Apnea', 'Insomnia']}]\n",
    "\n",
    "input_schema, table_info_path = generate_schema(data_path, f\"{cache_path}/{table_name}_table_info.jsonl\")\n",
    "response, err = db_setup(\n",
    "                db_name=DB_NAME,\n",
    "                hostname=HOST_NAME,\n",
    "                user_name=USER_NAME,\n",
    "                password=PASSWORD,\n",
    "                port=PORT,\n",
    "                table_name=table_name,\n",
    "                table_schema = input_schema,\n",
    "                local_base_path=base_path,\n",
    "                add_sample=False\n",
    "            )"
   ]
  },
  {
   "cell_type": "code",
   "execution_count": null,
   "id": "6f18e661",
   "metadata": {},
   "outputs": [],
   "source": [
    "list_db_dialects()"
   ]
  },
  {
   "cell_type": "code",
   "execution_count": 9,
   "id": "045271a5-a9b3-4b4d-b439-a84d5e4d93fe",
   "metadata": {},
   "outputs": [],
   "source": [
    "def query(question: str, table_name, table_info_path: str, sample_qna_path: str, regenerate=False, regenerate_with_options=False):\n",
    "    \"\"\"Asks question and returns SQL.\"\"\"\n",
    "    base_path = \"./\"\n",
    "    res = ask(\n",
    "        question=question,\n",
    "        table_info_path=table_info_path,\n",
    "        sample_queries_path=sample_qna_path,\n",
    "        table_name=table_name,\n",
    "        db_dialect=\"databricks\",\n",
    "        is_command=False,\n",
    "        model_name=\"h2ogpt-sql-nsql-llama-2-7B\",\n",
    "        is_regenerate=regenerate,\n",
    "        is_regen_with_options=regenerate_with_options,\n",
    "        execute_query=False,\n",
    "        local_base_path=base_path\n",
    "    )\n",
    "    _tmp = res[0][1].split(\"```\")[1].replace(\"sql\", '')\n",
    "    sql_str = ' '.join(_tmp.split())\n",
    "    return sql_str"
   ]
  },
  {
   "cell_type": "code",
   "execution_count": null,
   "id": "389a0464-c834-44dd-84fb-fb0c438e2a2d",
   "metadata": {},
   "outputs": [],
   "source": [
    "res = query(\"What is the average sleep duration for each gender?\", table_name=\"sleep_health_eda_demo_6\", \n",
    "            table_info_path=table_info_path, sample_qna_path=None)"
   ]
  },
  {
   "cell_type": "code",
   "execution_count": null,
   "id": "ea174e6c",
   "metadata": {},
   "outputs": [],
   "source": [
    "#!pip install databricks-sql-connector"
   ]
  },
  {
   "cell_type": "code",
   "execution_count": null,
   "id": "7a72aced",
   "metadata": {},
   "outputs": [],
   "source": [
    "# Not tested yet.\n",
    "# References:\n",
    "# - https://docs.databricks.com/en/dev-tools/python-sql-connector.html\n",
    "# - https://github.com/databricks/databricks-sql-python/blob/main/examples/query_execute.py\n",
    "\n",
    "# export DATABRICKS_HOST=********.databricks.com\n",
    "# export DATABRICKS_HTTP_PATH=/sql/1.0/endpoints/****************\n",
    "# export DATABRICKS_TOKEN=dapi********************************\n",
    "\n",
    "\n",
    "# from databricks import sql\n",
    "# import os\n",
    "\n",
    "# with sql.connect(server_hostname = os.getenv(\"DATABRICKS_SERVER_HOSTNAME\"),\n",
    "#                  http_path       = os.getenv(\"DATABRICKS_HTTP_PATH\"),\n",
    "#                  access_token    = os.getenv(\"DATABRICKS_TOKEN\")) as connection:\n",
    "\n",
    "\n",
    "#   with connection.cursor() as cursor:\n",
    "#     cursor.execute(res)\n",
    "#     result = cursor.fetchall()\n",
    "\n",
    "#     for row in result:\n",
    "#       print(row)"
   ]
  }
 ],
 "metadata": {
  "kernelspec": {
   "display_name": "Python 3 (ipykernel)",
   "language": "python",
   "name": "python3"
  },
  "language_info": {
   "codemirror_mode": {
    "name": "ipython",
    "version": 3
   },
   "file_extension": ".py",
   "mimetype": "text/x-python",
   "name": "python",
   "nbconvert_exporter": "python",
   "pygments_lexer": "ipython3",
   "version": "3.8.16"
  }
 },
 "nbformat": 4,
 "nbformat_minor": 5
}
