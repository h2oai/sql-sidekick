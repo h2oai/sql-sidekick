{
 "cells": [
  {
   "cell_type": "code",
   "execution_count": null,
   "id": "b69aaf22-a0c1-4f9d-b5b1-2ca0aa7130db",
   "metadata": {},
   "outputs": [],
   "source": [
    "# https://github.com/h2oai/sql-sidekick/releases\n",
    "#!pip install --force-reinstall sql_sidekick-0.x.x-py3-none-any.whl"
   ]
  },
  {
   "cell_type": "code",
   "execution_count": null,
   "id": "746d5a53-4ca8-445d-b795-4f79c77dffcb",
   "metadata": {},
   "outputs": [],
   "source": [
    "%load_ext autoreload\n",
    "%autoreload 2"
   ]
  },
  {
   "cell_type": "code",
   "execution_count": 19,
   "id": "032a240c-5e9b-4982-b6e9-398ee6ce001e",
   "metadata": {},
   "outputs": [],
   "source": [
    "from sidekick import prompter"
   ]
  },
  {
   "cell_type": "code",
   "execution_count": 20,
   "id": "5173aef9-0e2d-4789-8c16-eff0c043c747",
   "metadata": {},
   "outputs": [
    {
     "data": {
      "text/plain": [
       "'0.1.9'"
      ]
     },
     "execution_count": 20,
     "metadata": {},
     "output_type": "execute_result"
    }
   ],
   "source": [
    "prompter.__version__"
   ]
  },
  {
   "cell_type": "code",
   "execution_count": 21,
   "id": "4c92083f-c2d3-4bb9-a22d-479b4f40695a",
   "metadata": {},
   "outputs": [],
   "source": [
    "import logging\n",
    "import sys\n",
    "\n",
    "logging.basicConfig(stream=sys.stdout, level=logging.INFO)\n",
    "logging.getLogger().addHandler(logging.StreamHandler(stream=sys.stdout))"
   ]
  },
  {
   "cell_type": "code",
   "execution_count": 22,
   "id": "023038c9-5758-45ec-a11d-99a64fe423b7",
   "metadata": {},
   "outputs": [],
   "source": [
    "from sidekick.prompter import db_setup, ask\n",
    "from sidekick.schema_generator import generate_schema\n",
    "from sidekick.utils import setup_dir, list_db_dialects"
   ]
  },
  {
   "cell_type": "code",
   "execution_count": 41,
   "id": "4bcb8e59-cd09-4f82-8606-0ad481953c04",
   "metadata": {},
   "outputs": [],
   "source": [
    "base_path = \"./\"\n",
    "cache_path = f\"{base_path}/var/lib/tmp\"\n",
    "setup_dir(base_path)"
   ]
  },
  {
   "cell_type": "code",
   "execution_count": 42,
   "id": "57217aea-cf04-4710-9784-3fd1eba1970e",
   "metadata": {},
   "outputs": [
    {
     "data": {
      "text/plain": [
       "['bigquery',\n",
       " 'clickhouse',\n",
       " 'duckdb',\n",
       " 'hive',\n",
       " 'mysql',\n",
       " 'oracle',\n",
       " 'postgres',\n",
       " 'presto',\n",
       " 'redshift',\n",
       " 'snowflake',\n",
       " 'spark',\n",
       " 'spark2',\n",
       " 'sqlite',\n",
       " 'starrocks',\n",
       " 'tableau',\n",
       " 'trino',\n",
       " 'tsql',\n",
       " 'databricks',\n",
       " 'drill',\n",
       " 'teradata']"
      ]
     },
     "execution_count": 42,
     "metadata": {},
     "output_type": "execute_result"
    }
   ],
   "source": [
    "list_db_dialects()"
   ]
  },
  {
   "cell_type": "code",
   "execution_count": 43,
   "id": "304da340-1e5f-4562-a9b8-f0bd9dee59ff",
   "metadata": {},
   "outputs": [],
   "source": [
    "# env variables\n",
    "import os\n",
    "\n",
    "os.environ['DATABRICKS_HOST'] = \"<>.cloud.databricks.com\" # e.g. <>.cloud.databricks.com\n",
    "os.environ['DATABRICKS_CLUSTER_ID'] = \"0112-211956-zzzzz\" # e.g. 0232-316956-tsltsyz5\n",
    "os.environ['DATABRICKS_TOKEN'] = \"\"\n",
    "os.environ['OPENAI_API_KEY'] = \"\"\n",
    "\n",
    "os.environ['H2O_BASE_MODEL_URL'] = 'http://38.128.233.247'\n",
    "os.environ['H2O_BASE_MODEL_API_KEY'] = \"\"\n",
    "os.environ['RECOMMENDATION_MODEL_REMOTE_URL'] = \"https://h2ogpte.genai.h2o.ai\"  # e.g. https://<>.h2ogpte.h2o.ai\n",
    "os.environ['RECOMMENDATION_MODEL_API_KEY'] = \"\""
   ]
  },
  {
   "cell_type": "markdown",
   "id": "81b24fab-049f-48bd-bafa-aa3da2ed2a2a",
   "metadata": {},
   "source": [
    "# Scenario 1"
   ]
  },
  {
   "cell_type": "code",
   "execution_count": null,
   "id": "0b3c4683-8d1f-42f3-8118-25ebdc0ca1e1",
   "metadata": {},
   "outputs": [],
   "source": [
    "# 1. New dataset for QnA\n",
    "# 2. Generate SQL syntax, but no access to Databricks cluster for runtime validation.\n",
    "\n",
    "HOST_NAME = \"localhost\"\n",
    "USER_NAME = \"sqlite\"\n",
    "PASSWORD = \"abc\"\n",
    "DB_NAME = \"querydb\"\n",
    "PORT = \"5432\"\n",
    "\n",
    "\n",
    "# Given .csv file, auto-generate schema\n",
    "# Download dataset --> https://www.kaggle.com/datasets/uom190346a/sleep-health-and-lifestyle-dataset\n",
    "# Adjust data_path as needed.\n",
    "data_path = \"./examples/demo/sleep_health_and_lifestyle_dataset.csv\"\n",
    "table_name = \"sleep_health_eda_demo\"\n",
    "\n",
    "table_schema, table_info_path = generate_schema(data_path=data_path, output_path=f\"{cache_path}/{table_name}_table_info.jsonl\")\n",
    "\n",
    "# Set add_sample=False if no need to add rows to the table\n",
    "response , err = db_setup(\n",
    "                db_name=DB_NAME,\n",
    "                hostname=HOST_NAME,\n",
    "                user_name=USER_NAME,\n",
    "                password=PASSWORD,\n",
    "                port=PORT,\n",
    "                table_info_path=table_info_path,\n",
    "                table_samples_path=data_path,\n",
    "                table_name=table_name,\n",
    "                local_base_path=base_path,\n",
    "                add_sample=True\n",
    "            )"
   ]
  },
  {
   "cell_type": "code",
   "execution_count": 45,
   "id": "fd3de067-1e85-4869-b5fc-9504dca7d273",
   "metadata": {},
   "outputs": [
    {
     "data": {
      "text/plain": [
       "'.//var/lib/tmp/sleep_health_eda_demo_table_info.jsonl'"
      ]
     },
     "execution_count": 45,
     "metadata": {},
     "output_type": "execute_result"
    }
   ],
   "source": [
    "table_info_path"
   ]
  },
  {
   "cell_type": "code",
   "execution_count": 46,
   "id": "3a8859c2-20e2-43d9-9dff-72519a786e31",
   "metadata": {},
   "outputs": [
    {
     "data": {
      "text/plain": [
       "[{'Column Name': 'Person_ID', 'Column Type': 'NUMERIC'},\n",
       " {'Column Name': 'Gender',\n",
       "  'Column Type': 'TEXT',\n",
       "  'Sample Values': ['Male', 'Female']},\n",
       " {'Column Name': 'Age', 'Column Type': 'NUMERIC'},\n",
       " {'Column Name': 'Occupation',\n",
       "  'Column Type': 'TEXT',\n",
       "  'Sample Values': ['Accountant',\n",
       "   'Salesperson',\n",
       "   'Engineer',\n",
       "   'Software Engineer',\n",
       "   'Nurse',\n",
       "   'Teacher',\n",
       "   'Manager',\n",
       "   'Lawyer',\n",
       "   'Doctor',\n",
       "   'Sales Representative']},\n",
       " {'Column Name': 'Sleep_Duration', 'Column Type': 'NUMERIC'},\n",
       " {'Column Name': 'Quality_of_Sleep', 'Column Type': 'NUMERIC'},\n",
       " {'Column Name': 'Physical_Activity_Level', 'Column Type': 'NUMERIC'},\n",
       " {'Column Name': 'Stress_Level', 'Column Type': 'NUMERIC'},\n",
       " {'Column Name': 'BMI_Category',\n",
       "  'Column Type': 'TEXT',\n",
       "  'Sample Values': ['Overweight', 'Normal', 'Obese', 'Normal Weight']},\n",
       " {'Column Name': 'Blood_Pressure', 'Column Type': 'TEXT'},\n",
       " {'Column Name': 'Heart_Rate', 'Column Type': 'NUMERIC'},\n",
       " {'Column Name': 'Daily_Steps', 'Column Type': 'NUMERIC'},\n",
       " {'Column Name': 'Sleep_Disorder',\n",
       "  'Column Type': 'TEXT',\n",
       "  'Sample Values': ['None', 'Sleep Apnea', 'Insomnia']}]"
      ]
     },
     "execution_count": 46,
     "metadata": {},
     "output_type": "execute_result"
    }
   ],
   "source": [
    "table_schema"
   ]
  },
  {
   "cell_type": "code",
   "execution_count": 47,
   "id": "606933f5-ecfb-4671-b9bf-cb531f4143e1",
   "metadata": {},
   "outputs": [],
   "source": [
    "# One could also decide to pass pre-configured table schema via for table creation\n",
    "# Schema format:\n",
    "\n",
    "# [{'Column Name': 'Person_ID', 'Column Type': 'NUMERIC'},\n",
    "#  {'Column Name': 'Gender',\n",
    "#   'Column Type': 'TEXT',\n",
    "#   'Sample Values': ['Male', 'Female']},\n",
    "#  {'Column Name': 'Age', 'Column Type': 'NUMERIC'},\n",
    "#  {'Column Name': 'Occupation',\n",
    "#   'Column Type': 'TEXT',\n",
    "#   'Sample Values': ['Accountant',\n",
    "#    'Manager',\n",
    "#    'Sales Representative',\n",
    "#    'Salesperson',\n",
    "#    'Lawyer',\n",
    "#    'Nurse',\n",
    "#    'Teacher',\n",
    "#    'Software Engineer',\n",
    "#    'Doctor',\n",
    "#    'Scientist']},\n",
    "#  {'Column Name': 'Sleep_Duration', 'Column Type': 'NUMERIC'},\n",
    "#  {'Column Name': 'Quality_of_Sleep', 'Column Type': 'NUMERIC'},\n",
    "#  {'Column Name': 'Physical_Activity_Level', 'Column Type': 'NUMERIC'},\n",
    "#  {'Column Name': 'Stress_Level', 'Column Type': 'NUMERIC'},\n",
    "#  {'Column Name': 'BMI_Category',\n",
    "#   'Column Type': 'TEXT',\n",
    "#   'Sample Values': ['Overweight', 'Normal', 'Obese', 'Normal Weight']},\n",
    "#  {'Column Name': 'Blood_Pressure', 'Column Type': 'TEXT'},\n",
    "#  {'Column Name': 'Heart_Rate', 'Column Type': 'NUMERIC'},\n",
    "#  {'Column Name': 'Daily_Steps', 'Column Type': 'NUMERIC'},\n",
    "#  {'Column Name': 'Sleep_Disorder',\n",
    "#   'Column Type': 'TEXT',\n",
    "#   'Sample Values': ['None', 'Sleep Apnea', 'Insomnia']}]\n",
    "\n",
    "\n",
    "\n",
    "\n",
    "# response, err = db_setup(\n",
    "#                 db_name=DB_NAME,\n",
    "#                 hostname=HOST_NAME,\n",
    "#                 user_name=USER_NAME,\n",
    "#                 password=PASSWORD,\n",
    "#                 port=PORT,\n",
    "#                 table_name=table_name,\n",
    "#                 table_schema = r,\n",
    "#                 local_base_path=base_path,\n",
    "#                 add_sample=False\n",
    "#             )"
   ]
  },
  {
   "cell_type": "code",
   "execution_count": 48,
   "id": "045271a5-a9b3-4b4d-b439-a84d5e4d93fe",
   "metadata": {},
   "outputs": [],
   "source": [
    "def query(question: str, table_name, table_info_path: str, sample_qna_path: str, regenerate=False, regenerate_with_options=False):\n",
    "    \"\"\"Asks question and returns SQL.\"\"\"\n",
    "    base_path = \".\"\n",
    "    # self_correction is enabled by default, set to False if not needed.\n",
    "    res = ask(\n",
    "        question=question,\n",
    "        table_info_path=table_info_path,\n",
    "        sample_queries_path=sample_qna_path,\n",
    "        table_name=table_name,\n",
    "        db_dialect=\"databricks\",\n",
    "        is_command=False,\n",
    "        model_name=\"h2ogpt-sql-sqlcoder-34b-alpha\",\n",
    "        is_regenerate=regenerate,\n",
    "        is_regen_with_options=regenerate_with_options,\n",
    "        execute_query=False,\n",
    "        local_base_path=base_path,\n",
    "    )\n",
    "    sql_str = None\n",
    "    if res:\n",
    "        _tmp = res[0][1].split(\"```\")[1].replace(\"sql\", '')\n",
    "        sql_str = ' '.join(_tmp.split())\n",
    "    return sql_str"
   ]
  },
  {
   "cell_type": "code",
   "execution_count": 49,
   "id": "389a0464-c834-44dd-84fb-fb0c438e2a2d",
   "metadata": {},
   "outputs": [
    {
     "name": "stderr",
     "output_type": "stream",
     "text": [
      "\u001b[32m2024-01-19 09:35:33.851\u001b[0m | \u001b[1mINFO    \u001b[0m | \u001b[36msidekick.prompter\u001b[0m:\u001b[36mask\u001b[0m:\u001b[36m493\u001b[0m - \u001b[1mTable in use: ['sleep_health_eda_demo']\u001b[0m\n",
      "\u001b[32m2024-01-19 09:35:33.852\u001b[0m | \u001b[1mINFO    \u001b[0m | \u001b[36msidekick.prompter\u001b[0m:\u001b[36mask\u001b[0m:\u001b[36m494\u001b[0m - \u001b[1mSQL dialect for generation: databricks\u001b[0m\n",
      "\u001b[32m2024-01-19 09:35:33.854\u001b[0m | \u001b[1mINFO    \u001b[0m | \u001b[36msidekick.prompter\u001b[0m:\u001b[36mask\u001b[0m:\u001b[36m527\u001b[0m - \u001b[1mSetting context...\u001b[0m\n",
      "\u001b[32m2024-01-19 09:35:33.855\u001b[0m | \u001b[1mINFO    \u001b[0m | \u001b[36msidekick.prompter\u001b[0m:\u001b[36mask\u001b[0m:\u001b[36m528\u001b[0m - \u001b[1mQuestion: What is the average sleep duration for each gender?\u001b[0m\n",
      "\u001b[32m2024-01-19 09:35:33.856\u001b[0m | \u001b[34m\u001b[1mDEBUG   \u001b[0m | \u001b[36msidekick.prompter\u001b[0m:\u001b[36mask\u001b[0m:\u001b[36m546\u001b[0m - \u001b[34m\u001b[1mTable info path: .//var/lib/tmp/sleep_health_eda_demo_table_info.jsonl\u001b[0m\n",
      "\u001b[32m2024-01-19 09:35:33.857\u001b[0m | \u001b[1mINFO    \u001b[0m | \u001b[36msidekick.utils\u001b[0m:\u001b[36mis_resource_low\u001b[0m:\u001b[36m353\u001b[0m - \u001b[1mNumber of GPUs: 1\u001b[0m\n",
      "\u001b[32m2024-01-19 09:35:33.857\u001b[0m | \u001b[34m\u001b[1mDEBUG   \u001b[0m | \u001b[36msidekick.utils\u001b[0m:\u001b[36mis_resource_low\u001b[0m:\u001b[36m357\u001b[0m - \u001b[34m\u001b[1mInformation on device: 0\u001b[0m\n",
      "\u001b[32m2024-01-19 09:35:33.859\u001b[0m | \u001b[1mINFO    \u001b[0m | \u001b[36msidekick.utils\u001b[0m:\u001b[36mis_resource_low\u001b[0m:\u001b[36m360\u001b[0m - \u001b[1mTotal Memory: 23GB\u001b[0m\n",
      "\u001b[32m2024-01-19 09:35:33.860\u001b[0m | \u001b[1mINFO    \u001b[0m | \u001b[36msidekick.utils\u001b[0m:\u001b[36mis_resource_low\u001b[0m:\u001b[36m361\u001b[0m - \u001b[1mFree GPU memory: 22GB\u001b[0m\n",
      "\u001b[32m2024-01-19 09:35:33.860\u001b[0m | \u001b[34m\u001b[1mDEBUG   \u001b[0m | \u001b[36msidekick.utils\u001b[0m:\u001b[36mload_embedding_model\u001b[0m:\u001b[36m98\u001b[0m - \u001b[34m\u001b[1mLoading embedding model from: ./models/sentence_transformers\u001b[0m\n"
     ]
    },
    {
     "data": {
      "application/vnd.jupyter.widget-view+json": {
       "model_id": "1c00fb4eba874ab5849de7cb228362b6",
       "version_major": 2,
       "version_minor": 0
      },
      "text/plain": [
       "Fetching 13 files:   0%|          | 0/13 [00:00<?, ?it/s]"
      ]
     },
     "metadata": {},
     "output_type": "display_data"
    },
    {
     "data": {
      "application/vnd.jupyter.widget-view+json": {
       "model_id": "9fbd917b2f9f4825a59ef175d1865d54",
       "version_major": 2,
       "version_minor": 0
      },
      "text/plain": [
       "model.safetensors:   0%|          | 0.00/438M [00:00<?, ?B/s]"
      ]
     },
     "metadata": {},
     "output_type": "display_data"
    },
    {
     "data": {
      "application/vnd.jupyter.widget-view+json": {
       "model_id": "b3002839e21f4ad49b648d40b8f3eeb1",
       "version_major": 2,
       "version_minor": 0
      },
      "text/plain": [
       "pytorch_model.bin:   0%|          | 0.00/438M [00:00<?, ?B/s]"
      ]
     },
     "metadata": {},
     "output_type": "display_data"
    },
    {
     "data": {
      "application/vnd.jupyter.widget-view+json": {
       "model_id": "3998f078fbbc4921bf8696b3428c188c",
       "version_major": 2,
       "version_minor": 0
      },
      "text/plain": [
       "1_Pooling/config.json:   0%|          | 0.00/190 [00:00<?, ?B/s]"
      ]
     },
     "metadata": {},
     "output_type": "display_data"
    },
    {
     "data": {
      "application/vnd.jupyter.widget-view+json": {
       "model_id": "e14c88c2ea2840f7821a1bc398c76cda",
       "version_major": 2,
       "version_minor": 0
      },
      "text/plain": [
       "config_sentence_transformers.json:   0%|          | 0.00/124 [00:00<?, ?B/s]"
      ]
     },
     "metadata": {},
     "output_type": "display_data"
    },
    {
     "data": {
      "application/vnd.jupyter.widget-view+json": {
       "model_id": "c876977c8c784f36bb15b0453b88a03e",
       "version_major": 2,
       "version_minor": 0
      },
      "text/plain": [
       ".gitattributes:   0%|          | 0.00/1.52k [00:00<?, ?B/s]"
      ]
     },
     "metadata": {},
     "output_type": "display_data"
    },
    {
     "data": {
      "application/vnd.jupyter.widget-view+json": {
       "model_id": "6438796c98384b47b82eb3271f726458",
       "version_major": 2,
       "version_minor": 0
      },
      "text/plain": [
       "config.json:   0%|          | 0.00/719 [00:00<?, ?B/s]"
      ]
     },
     "metadata": {},
     "output_type": "display_data"
    },
    {
     "data": {
      "application/vnd.jupyter.widget-view+json": {
       "model_id": "6ecccd4bdaea4ba499d549171cb319dd",
       "version_major": 2,
       "version_minor": 0
      },
      "text/plain": [
       "README.md:   0%|          | 0.00/90.1k [00:00<?, ?B/s]"
      ]
     },
     "metadata": {},
     "output_type": "display_data"
    },
    {
     "data": {
      "application/vnd.jupyter.widget-view+json": {
       "model_id": "d5ea821c6bc3406697e357cf58c95a62",
       "version_major": 2,
       "version_minor": 0
      },
      "text/plain": [
       "modules.json:   0%|          | 0.00/349 [00:00<?, ?B/s]"
      ]
     },
     "metadata": {},
     "output_type": "display_data"
    },
    {
     "data": {
      "application/vnd.jupyter.widget-view+json": {
       "model_id": "77fe6c789de248458a86bfa54476d1b6",
       "version_major": 2,
       "version_minor": 0
      },
      "text/plain": [
       "tokenizer_config.json:   0%|          | 0.00/366 [00:00<?, ?B/s]"
      ]
     },
     "metadata": {},
     "output_type": "display_data"
    },
    {
     "data": {
      "application/vnd.jupyter.widget-view+json": {
       "model_id": "216b420cc76847d1a8f57bf8365fe335",
       "version_major": 2,
       "version_minor": 0
      },
      "text/plain": [
       "sentence_bert_config.json:   0%|          | 0.00/52.0 [00:00<?, ?B/s]"
      ]
     },
     "metadata": {},
     "output_type": "display_data"
    },
    {
     "data": {
      "application/vnd.jupyter.widget-view+json": {
       "model_id": "9fc30fa7dfda40a2a827e5792327b6a5",
       "version_major": 2,
       "version_minor": 0
      },
      "text/plain": [
       "tokenizer.json:   0%|          | 0.00/711k [00:00<?, ?B/s]"
      ]
     },
     "metadata": {},
     "output_type": "display_data"
    },
    {
     "data": {
      "application/vnd.jupyter.widget-view+json": {
       "model_id": "09de5ea1dc5b481d99b0aa22df5b29ab",
       "version_major": 2,
       "version_minor": 0
      },
      "text/plain": [
       "vocab.txt:   0%|          | 0.00/232k [00:00<?, ?B/s]"
      ]
     },
     "metadata": {},
     "output_type": "display_data"
    },
    {
     "data": {
      "application/vnd.jupyter.widget-view+json": {
       "model_id": "cc4ed4c07f3747c8b47061d4228d5e39",
       "version_major": 2,
       "version_minor": 0
      },
      "text/plain": [
       "special_tokens_map.json:   0%|          | 0.00/125 [00:00<?, ?B/s]"
      ]
     },
     "metadata": {},
     "output_type": "display_data"
    },
    {
     "name": "stdout",
     "output_type": "stream",
     "text": [
      "INFO:sentence_transformers.SentenceTransformer:Load pretrained SentenceTransformer: ./models/sentence_transformers/models--BAAI--bge-base-en/snapshots/17d124a4b773c4c9248ca816b0b0901e3c49a243/\n",
      "Load pretrained SentenceTransformer: ./models/sentence_transformers/models--BAAI--bge-base-en/snapshots/17d124a4b773c4c9248ca816b0b0901e3c49a243/\n",
      "Load pretrained SentenceTransformer: ./models/sentence_transformers/models--BAAI--bge-base-en/snapshots/17d124a4b773c4c9248ca816b0b0901e3c49a243/\n"
     ]
    },
    {
     "name": "stderr",
     "output_type": "stream",
     "text": [
      "\u001b[32m2024-01-19 09:35:42.681\u001b[0m | \u001b[1mINFO    \u001b[0m | \u001b[36msidekick.utils\u001b[0m:\u001b[36m_check_file_info\u001b[0m:\u001b[36m467\u001b[0m - \u001b[1mUsing information info from path .//var/lib/tmp/sleep_health_eda_demo_table_info.jsonl\u001b[0m\n",
      "\u001b[32m2024-01-19 09:35:42.682\u001b[0m | \u001b[1mINFO    \u001b[0m | \u001b[36msidekick.prompter\u001b[0m:\u001b[36mask\u001b[0m:\u001b[36m596\u001b[0m - \u001b[1mComputing user request ...\u001b[0m\n",
      "\u001b[32m2024-01-19 09:35:42.759\u001b[0m | \u001b[34m\u001b[1mDEBUG   \u001b[0m | \u001b[36msidekick.utils\u001b[0m:\u001b[36msemantic_search\u001b[0m:\u001b[36m153\u001b[0m - \u001b[34m\u001b[1mInput questions: # query: what is the average sleep duration for each gender?\u001b[0m\n"
     ]
    },
    {
     "data": {
      "application/vnd.jupyter.widget-view+json": {
       "model_id": "28fadee1b2f64362be173663a157117b",
       "version_major": 2,
       "version_minor": 0
      },
      "text/plain": [
       "Batches:   0%|          | 0/1 [00:00<?, ?it/s]"
      ]
     },
     "metadata": {},
     "output_type": "display_data"
    },
    {
     "name": "stderr",
     "output_type": "stream",
     "text": [
      "\u001b[32m2024-01-19 09:35:42.913\u001b[0m | \u001b[34m\u001b[1mDEBUG   \u001b[0m | \u001b[36msidekick.utils\u001b[0m:\u001b[36msemantic_search\u001b[0m:\u001b[36m158\u001b[0m - \u001b[34m\u001b[1mProbable context: [\"if patterns like 'current time' or 'now' occurs in question\", \"if patterns like 'total number', or 'list' occurs in question\", 'detailed summary', 'summary']\u001b[0m\n"
     ]
    },
    {
     "data": {
      "application/vnd.jupyter.widget-view+json": {
       "model_id": "cedf6c4a56bf492dbb218979d3d3c0e3",
       "version_major": 2,
       "version_minor": 0
      },
      "text/plain": [
       "Batches:   0%|          | 0/1 [00:00<?, ?it/s]"
      ]
     },
     "metadata": {},
     "output_type": "display_data"
    },
    {
     "name": "stderr",
     "output_type": "stream",
     "text": [
      "\u001b[32m2024-01-19 09:35:42.948\u001b[0m | \u001b[34m\u001b[1mDEBUG   \u001b[0m | \u001b[36msidekick.utils\u001b[0m:\u001b[36msemantic_search\u001b[0m:\u001b[36m166\u001b[0m - \u001b[34m\u001b[1mSimilarity score for: if patterns like 'current time' or 'now' occurs in question: 0.8459207869447033\u001b[0m\n",
      "\u001b[32m2024-01-19 09:35:42.950\u001b[0m | \u001b[34m\u001b[1mDEBUG   \u001b[0m | \u001b[36msidekick.utils\u001b[0m:\u001b[36msemantic_search\u001b[0m:\u001b[36m166\u001b[0m - \u001b[34m\u001b[1mSimilarity score for: if patterns like 'total number', or 'list' occurs in question: 0.8319947353454415\u001b[0m\n",
      "\u001b[32m2024-01-19 09:35:42.952\u001b[0m | \u001b[34m\u001b[1mDEBUG   \u001b[0m | \u001b[36msidekick.utils\u001b[0m:\u001b[36msemantic_search\u001b[0m:\u001b[36m166\u001b[0m - \u001b[34m\u001b[1mSimilarity score for: detailed summary: 0.8346069603076574\u001b[0m\n",
      "\u001b[32m2024-01-19 09:35:42.953\u001b[0m | \u001b[34m\u001b[1mDEBUG   \u001b[0m | \u001b[36msidekick.utils\u001b[0m:\u001b[36msemantic_search\u001b[0m:\u001b[36m166\u001b[0m - \u001b[34m\u001b[1mSimilarity score for: summary: 0.8394152180082535\u001b[0m\n",
      "\u001b[32m2024-01-19 09:35:42.954\u001b[0m | \u001b[34m\u001b[1mDEBUG   \u001b[0m | \u001b[36msidekick.utils\u001b[0m:\u001b[36msemantic_search\u001b[0m:\u001b[36m182\u001b[0m - \u001b[34m\u001b[1mSorted context: []\u001b[0m\n",
      "\u001b[32m2024-01-19 09:35:42.955\u001b[0m | \u001b[34m\u001b[1mDEBUG   \u001b[0m | \u001b[36msidekick.query\u001b[0m:\u001b[36mgenerate_sql\u001b[0m:\u001b[36m469\u001b[0m - \u001b[34m\u001b[1mFilter Context: []\u001b[0m\n",
      "\u001b[32m2024-01-19 09:35:42.956\u001b[0m | \u001b[1mINFO    \u001b[0m | \u001b[36msidekick.query\u001b[0m:\u001b[36mgenerate_sql\u001b[0m:\u001b[36m477\u001b[0m - \u001b[1mFiltering Question/Query pairs ...\u001b[0m\n",
      "\u001b[32m2024-01-19 09:35:42.959\u001b[0m | \u001b[1mINFO    \u001b[0m | \u001b[36msidekick.query\u001b[0m:\u001b[36mgenerate_sql\u001b[0m:\u001b[36m479\u001b[0m - \u001b[1mNumber of context queries found: 0\u001b[0m\n",
      "\u001b[32m2024-01-19 09:35:42.959\u001b[0m | \u001b[1mINFO    \u001b[0m | \u001b[36msidekick.query\u001b[0m:\u001b[36mgenerate_sql\u001b[0m:\u001b[36m499\u001b[0m - \u001b[1mNumber of possible contextual queries to question: 0\u001b[0m\n",
      "\u001b[32m2024-01-19 09:35:42.960\u001b[0m | \u001b[34m\u001b[1mDEBUG   \u001b[0m | \u001b[36msidekick.utils\u001b[0m:\u001b[36mre_rank\u001b[0m:\u001b[36m136\u001b[0m - \u001b[34m\u001b[1mQuestion length: 9\u001b[0m\n",
      "\u001b[32m2024-01-19 09:35:42.961\u001b[0m | \u001b[34m\u001b[1mDEBUG   \u001b[0m | \u001b[36msidekick.query\u001b[0m:\u001b[36mgenerate_sql\u001b[0m:\u001b[36m544\u001b[0m - \u001b[34m\u001b[1mRelevant sample column values: {'sleep_health_eda_demo': [\"'Gender' contains values similar to Male,Female.\", \"'Occupation' contains values similar to Accountant,Salesperson,Engineer,Software Engineer,Nurse,Teacher,Manager,Lawyer,Doctor,Sales Representative.\", \"'BMI_Category' contains values similar to Overweight,Normal,Obese,Normal Weight.\", \"'Sleep_Disorder' contains values similar to None,Sleep Apnea,Insomnia.\"]}\u001b[0m\n",
      "\u001b[32m2024-01-19 09:35:42.962\u001b[0m | \u001b[34m\u001b[1mDEBUG   \u001b[0m | \u001b[36msidekick.query\u001b[0m:\u001b[36mgenerate_sql\u001b[0m:\u001b[36m561\u001b[0m - \u001b[34m\u001b[1mQuery Text:\n",
      " \n",
      "### Instructions:\n",
      "Your task is convert a question into a valid databricks syntax SQL query, given a databricks database schema. Let's work this out step by step to be sure we have the right answer.\n",
      "Only use the column names from the CREATE TABLE statement.\n",
      "Adhere to these rules:\n",
      "- **Deliberately go through the question and database schema word by word** to appropriately answer the question\n",
      "- **Use Table Aliases** to prevent ambiguity. For example, `SELECT table1.col1, table2.col1 FROM table1 JOIN table2 ON table1.id = table2.id`.\n",
      "- Only use supplied table names: **sleep_health_eda_demo** for generation\n",
      "- Only use column names from the CREATE TABLE statement: **['Person_ID NUMERIC, Gender TEXT, Age NUMERIC, Occupation TEXT, Sleep_Duration NUMERIC, Quality_of_Sleep NUMERIC, Physical_Activity_Level NUMERIC, Stress_Level NUMERIC, BMI_Category TEXT, Blood_Pressure TEXT, Heart_Rate NUMERIC, Daily_Steps NUMERIC, Sleep_Disorder TEXT,']** for generation. DO NOT USE any other column names outside of this.\n",
      "- Avoid overly complex SQL queries, favor concise human readable SQL queries which are easy to understand and debug\n",
      "- Avoid patterns that might be vulnerable to SQL injection, e.g. sanitize inputs\n",
      "- Always cast the numerator as float when computing ratios\n",
      "- Always use COUNT(1) instead of COUNT(*)\n",
      "- If the question is asking for a rate, use COUNT to compute percentage\n",
      "- Avoid using the WITH statement\n",
      "- DO NOT USE aggregate and window function together\n",
      "- Prefer NOT EXISTS to LEFT JOIN ON null id\n",
      "- When using DESC keep NULLs at the end\n",
      "- If JSONB format found in Table schema, do pattern matching on keywords from the question and use SQL functions such as ->> or ->\n",
      "- Use prepared statements with parameterized queries to prevent SQL injection\n",
      "\n",
      "\n",
      "### Input:\n",
      "For SQL TABLE 'sleep_health_eda_demo' with sample question/answer pairs,\n",
      "(), create a valid SQL (dialect:databricks) query to answer the following question:\n",
      "What is the average sleep duration for each gender?.\n",
      "This query will run on a database whose schema is represented in this string:\n",
      "CREATE TABLE 'sleep_health_eda_demo' (['Person_ID NUMERIC, Gender TEXT, Age NUMERIC, Occupation TEXT, Sleep_Duration NUMERIC, Quality_of_Sleep NUMERIC, Physical_Activity_Level NUMERIC, Stress_Level NUMERIC, BMI_Category TEXT, Blood_Pressure TEXT, Heart_Rate NUMERIC, Daily_Steps NUMERIC, Sleep_Disorder TEXT,']\n",
      ");\n",
      "\n",
      "-- Table 'sleep_health_eda_demo', , has sample values ({'sleep_health_eda_demo': [\"'Gender' contains values similar to Male,Female.\", \"'Occupation' contains values similar to Accountant,Salesperson,Engineer,Software Engineer,Nurse,Teacher,Manager,Lawyer,Doctor,Sales Representative.\", \"'BMI_Category' contains values similar to Overweight,Normal,Obese,Normal Weight.\", \"'Sleep_Disorder' contains values similar to None,Sleep Apnea,Insomnia.\"]})\n",
      "\n",
      "### Response:\n",
      "Based on your instructions, here is the SELECT SQL query I have generated to answer the question `What is the average sleep duration for each gender?`:\n",
      "```SELECT\u001b[0m\n",
      "\u001b[32m2024-01-19 09:35:42.964\u001b[0m | \u001b[34m\u001b[1mDEBUG   \u001b[0m | \u001b[36msidekick.query\u001b[0m:\u001b[36mgenerate_sql\u001b[0m:\u001b[36m609\u001b[0m - \u001b[34m\u001b[1mGeneration with default temperature : 0.5\u001b[0m\n"
     ]
    },
    {
     "name": "stdout",
     "output_type": "stream",
     "text": [
      "INFO:httpx:HTTP Request: POST http://38.128.233.247:5000/v1/chat/completions \"HTTP/1.1 200 OK\"\n",
      "HTTP Request: POST http://38.128.233.247:5000/v1/chat/completions \"HTTP/1.1 200 OK\"\n",
      "HTTP Request: POST http://38.128.233.247:5000/v1/chat/completions \"HTTP/1.1 200 OK\"\n"
     ]
    },
    {
     "name": "stderr",
     "output_type": "stream",
     "text": [
      "\u001b[32m2024-01-19 09:35:45.369\u001b[0m | \u001b[34m\u001b[1mDEBUG   \u001b[0m | \u001b[36msidekick.query\u001b[0m:\u001b[36mgenerate_sql\u001b[0m:\u001b[36m618\u001b[0m - \u001b[34m\u001b[1mGenerated tokens: \n",
      "Gender, AVG(Sleep_Duration) AS Average_Sleep_Duration FROM sleep_health_eda_demo GROUP BY Gender ORDER BY Gender DESC;\n",
      "\u001b[0m\n",
      "\u001b[32m2024-01-19 09:35:45.375\u001b[0m | \u001b[1mINFO    \u001b[0m | \u001b[36msidekick.prompter\u001b[0m:\u001b[36mask\u001b[0m:\u001b[36m601\u001b[0m - \u001b[1mInput query: What is the average sleep duration for each gender?\u001b[0m\n",
      "\u001b[32m2024-01-19 09:35:45.377\u001b[0m | \u001b[1mINFO    \u001b[0m | \u001b[36msidekick.prompter\u001b[0m:\u001b[36mask\u001b[0m:\u001b[36m602\u001b[0m - \u001b[1mGenerated response:\n",
      "\n",
      "SELECT `Gender`, AVG(`Sleep_Duration`) AS `Average_Sleep_Duration` FROM `sleep_health_eda_demo` GROUP BY `Gender` ORDER BY `Gender` DESC LIMIT 100\u001b[0m\n",
      "\u001b[32m2024-01-19 09:35:45.384\u001b[0m | \u001b[1mINFO    \u001b[0m | \u001b[36msidekick.prompter\u001b[0m:\u001b[36mask\u001b[0m:\u001b[36m628\u001b[0m - \u001b[1mAlternate responses:\n",
      "\n",
      "[]\u001b[0m\n"
     ]
    },
    {
     "name": "stdout",
     "output_type": "stream",
     "text": [
      "Exiting...\n"
     ]
    }
   ],
   "source": [
    "res = query(\"What is the average sleep duration for each gender?\", table_name=table_name, \n",
    "            table_info_path=table_info_path, sample_qna_path=None, regenerate=False)"
   ]
  },
  {
   "cell_type": "code",
   "execution_count": 50,
   "id": "2ea92cd8-e362-4359-a1a0-2d07b47aaf71",
   "metadata": {},
   "outputs": [
    {
     "data": {
      "text/plain": [
       "'SELECT `Gender`, AVG(`Sleep_Duration`) AS `Average_Sleep_Duration` FROM `sleep_health_eda_demo` GROUP BY `Gender` ORDER BY `Gender` DESC LIMIT 100'"
      ]
     },
     "execution_count": 50,
     "metadata": {},
     "output_type": "execute_result"
    }
   ],
   "source": [
    "res"
   ]
  },
  {
   "cell_type": "markdown",
   "id": "58cf9a8d-d162-416e-8e13-714ecee2a179",
   "metadata": {},
   "source": [
    "# Scenario 2"
   ]
  },
  {
   "cell_type": "code",
   "execution_count": 51,
   "id": "9e916d58-92cb-4adc-9c0c-afa3262c0071",
   "metadata": {},
   "outputs": [],
   "source": [
    "# 1. Connect to pre-configured Catalog/Schema on Databricks cluster\n",
    "# 2. Retrieve information\n",
    "# 3. Generate SQL syntax, execute against configured DB for the final result"
   ]
  },
  {
   "cell_type": "code",
   "execution_count": 52,
   "id": "b8409b8c-eab7-44fd-9c1f-b675502fa8d5",
   "metadata": {},
   "outputs": [
    {
     "name": "stdout",
     "output_type": "stream",
     "text": [
      "INFO:databricks.sql.client:Successfully opened session 89def2e0-902d-4230-91f3-0b2f8404e628\n",
      "Successfully opened session 89def2e0-902d-4230-91f3-0b2f8404e628\n",
      "Successfully opened session 89def2e0-902d-4230-91f3-0b2f8404e628\n"
     ]
    }
   ],
   "source": [
    "# Retrieve information\n",
    "from sidekick.db_config import DBConfig\n",
    "\n",
    "DBConfig.dialect = \"databricks\"\n",
    "# Using a demo dataset from Databricks Catalog\n",
    "config_args = {\n",
    "    \"catalog\": \"samples\",\n",
    "    \"schema\": \"nyctaxi\",\n",
    "    \"cluster_id\": os.environ.get(\"DATABRICKS_CLUSTER_ID\")\n",
    "}\n",
    "table_name = \"trips\" # sample table related to NYC Taxi dataset\n",
    "DBConfig.table_name = table_name\n",
    "column_info, table_info_path = DBConfig.get_column_info(output_path=f\"{cache_path}/{table_name}_table_info.jsonl\", **config_args)"
   ]
  },
  {
   "cell_type": "code",
   "execution_count": 53,
   "id": "beed4542-52ba-4a6c-b2bb-c613155ad86c",
   "metadata": {},
   "outputs": [
    {
     "name": "stderr",
     "output_type": "stream",
     "text": [
      "\u001b[32m2024-01-19 09:36:07.870\u001b[0m | \u001b[1mINFO    \u001b[0m | \u001b[36msidekick.prompter\u001b[0m:\u001b[36mask\u001b[0m:\u001b[36m493\u001b[0m - \u001b[1mTable in use: ['trips']\u001b[0m\n",
      "\u001b[32m2024-01-19 09:36:07.871\u001b[0m | \u001b[1mINFO    \u001b[0m | \u001b[36msidekick.prompter\u001b[0m:\u001b[36mask\u001b[0m:\u001b[36m494\u001b[0m - \u001b[1mSQL dialect for generation: databricks\u001b[0m\n",
      "\u001b[32m2024-01-19 09:36:07.873\u001b[0m | \u001b[1mINFO    \u001b[0m | \u001b[36msidekick.prompter\u001b[0m:\u001b[36mask\u001b[0m:\u001b[36m527\u001b[0m - \u001b[1mSetting context...\u001b[0m\n",
      "\u001b[32m2024-01-19 09:36:07.874\u001b[0m | \u001b[1mINFO    \u001b[0m | \u001b[36msidekick.prompter\u001b[0m:\u001b[36mask\u001b[0m:\u001b[36m528\u001b[0m - \u001b[1mQuestion: Compute average trip distance\u001b[0m\n",
      "\u001b[32m2024-01-19 09:36:07.875\u001b[0m | \u001b[34m\u001b[1mDEBUG   \u001b[0m | \u001b[36msidekick.prompter\u001b[0m:\u001b[36mask\u001b[0m:\u001b[36m546\u001b[0m - \u001b[34m\u001b[1mTable info path: .//var/lib/tmp/trips_table_info.jsonl\u001b[0m\n",
      "\u001b[32m2024-01-19 09:36:07.876\u001b[0m | \u001b[1mINFO    \u001b[0m | \u001b[36msidekick.utils\u001b[0m:\u001b[36mis_resource_low\u001b[0m:\u001b[36m353\u001b[0m - \u001b[1mNumber of GPUs: 1\u001b[0m\n",
      "\u001b[32m2024-01-19 09:36:07.877\u001b[0m | \u001b[34m\u001b[1mDEBUG   \u001b[0m | \u001b[36msidekick.utils\u001b[0m:\u001b[36mis_resource_low\u001b[0m:\u001b[36m357\u001b[0m - \u001b[34m\u001b[1mInformation on device: 0\u001b[0m\n",
      "\u001b[32m2024-01-19 09:36:07.878\u001b[0m | \u001b[1mINFO    \u001b[0m | \u001b[36msidekick.utils\u001b[0m:\u001b[36mis_resource_low\u001b[0m:\u001b[36m360\u001b[0m - \u001b[1mTotal Memory: 23GB\u001b[0m\n",
      "\u001b[32m2024-01-19 09:36:07.879\u001b[0m | \u001b[1mINFO    \u001b[0m | \u001b[36msidekick.utils\u001b[0m:\u001b[36mis_resource_low\u001b[0m:\u001b[36m361\u001b[0m - \u001b[1mFree GPU memory: 22GB\u001b[0m\n",
      "\u001b[32m2024-01-19 09:36:07.880\u001b[0m | \u001b[34m\u001b[1mDEBUG   \u001b[0m | \u001b[36msidekick.utils\u001b[0m:\u001b[36mload_embedding_model\u001b[0m:\u001b[36m98\u001b[0m - \u001b[34m\u001b[1mLoading embedding model from: .//models/sentence_transformers\u001b[0m\n"
     ]
    },
    {
     "data": {
      "application/vnd.jupyter.widget-view+json": {
       "model_id": "9fc31d9146bc4ccb849762069ae003c1",
       "version_major": 2,
       "version_minor": 0
      },
      "text/plain": [
       "Fetching 13 files:   0%|          | 0/13 [00:00<?, ?it/s]"
      ]
     },
     "metadata": {},
     "output_type": "display_data"
    },
    {
     "name": "stdout",
     "output_type": "stream",
     "text": [
      "INFO:sentence_transformers.SentenceTransformer:Load pretrained SentenceTransformer: .//models/sentence_transformers/models--BAAI--bge-base-en/snapshots/17d124a4b773c4c9248ca816b0b0901e3c49a243/\n",
      "Load pretrained SentenceTransformer: .//models/sentence_transformers/models--BAAI--bge-base-en/snapshots/17d124a4b773c4c9248ca816b0b0901e3c49a243/\n",
      "Load pretrained SentenceTransformer: .//models/sentence_transformers/models--BAAI--bge-base-en/snapshots/17d124a4b773c4c9248ca816b0b0901e3c49a243/\n",
      "INFO:databricks.sql.client:Successfully opened session 874a4b41-e623-4e85-88fe-9122124ac500\n",
      "Successfully opened session 874a4b41-e623-4e85-88fe-9122124ac500\n",
      "Successfully opened session 874a4b41-e623-4e85-88fe-9122124ac500\n"
     ]
    },
    {
     "name": "stderr",
     "output_type": "stream",
     "text": [
      "\u001b[32m2024-01-19 09:36:11.779\u001b[0m | \u001b[1mINFO    \u001b[0m | \u001b[36msidekick.utils\u001b[0m:\u001b[36m_check_file_info\u001b[0m:\u001b[36m467\u001b[0m - \u001b[1mUsing information info from path .//var/lib/tmp/trips_table_info.jsonl\u001b[0m\n",
      "\u001b[32m2024-01-19 09:36:11.781\u001b[0m | \u001b[1mINFO    \u001b[0m | \u001b[36msidekick.prompter\u001b[0m:\u001b[36mask\u001b[0m:\u001b[36m596\u001b[0m - \u001b[1mComputing user request ...\u001b[0m\n",
      "\u001b[32m2024-01-19 09:36:13.043\u001b[0m | \u001b[34m\u001b[1mDEBUG   \u001b[0m | \u001b[36msidekick.utils\u001b[0m:\u001b[36msemantic_search\u001b[0m:\u001b[36m153\u001b[0m - \u001b[34m\u001b[1mInput questions: # query: compute average trip distance\u001b[0m\n"
     ]
    },
    {
     "data": {
      "application/vnd.jupyter.widget-view+json": {
       "model_id": "bfa91f23e5ca415dbdd541d8ae8f123a",
       "version_major": 2,
       "version_minor": 0
      },
      "text/plain": [
       "Batches:   0%|          | 0/1 [00:00<?, ?it/s]"
      ]
     },
     "metadata": {},
     "output_type": "display_data"
    },
    {
     "name": "stderr",
     "output_type": "stream",
     "text": [
      "\u001b[32m2024-01-19 09:36:13.210\u001b[0m | \u001b[34m\u001b[1mDEBUG   \u001b[0m | \u001b[36msidekick.utils\u001b[0m:\u001b[36msemantic_search\u001b[0m:\u001b[36m158\u001b[0m - \u001b[34m\u001b[1mProbable context: [\"if patterns like 'current time' or 'now' occurs in question\", \"if patterns like 'total number', or 'list' occurs in question\", 'detailed summary', 'summary']\u001b[0m\n"
     ]
    },
    {
     "data": {
      "application/vnd.jupyter.widget-view+json": {
       "model_id": "07ebf582a97642b5b6770a828eda9609",
       "version_major": 2,
       "version_minor": 0
      },
      "text/plain": [
       "Batches:   0%|          | 0/1 [00:00<?, ?it/s]"
      ]
     },
     "metadata": {},
     "output_type": "display_data"
    },
    {
     "name": "stderr",
     "output_type": "stream",
     "text": [
      "\u001b[32m2024-01-19 09:36:13.244\u001b[0m | \u001b[34m\u001b[1mDEBUG   \u001b[0m | \u001b[36msidekick.utils\u001b[0m:\u001b[36msemantic_search\u001b[0m:\u001b[36m166\u001b[0m - \u001b[34m\u001b[1mSimilarity score for: if patterns like 'current time' or 'now' occurs in question: 0.8562923618568069\u001b[0m\n",
      "\u001b[32m2024-01-19 09:36:13.247\u001b[0m | \u001b[34m\u001b[1mDEBUG   \u001b[0m | \u001b[36msidekick.utils\u001b[0m:\u001b[36msemantic_search\u001b[0m:\u001b[36m166\u001b[0m - \u001b[34m\u001b[1mSimilarity score for: if patterns like 'total number', or 'list' occurs in question: 0.8734165297755163\u001b[0m\n",
      "\u001b[32m2024-01-19 09:36:13.248\u001b[0m | \u001b[34m\u001b[1mDEBUG   \u001b[0m | \u001b[36msidekick.utils\u001b[0m:\u001b[36msemantic_search\u001b[0m:\u001b[36m166\u001b[0m - \u001b[34m\u001b[1mSimilarity score for: detailed summary: 0.8827507006525596\u001b[0m\n",
      "\u001b[32m2024-01-19 09:36:13.250\u001b[0m | \u001b[34m\u001b[1mDEBUG   \u001b[0m | \u001b[36msidekick.utils\u001b[0m:\u001b[36msemantic_search\u001b[0m:\u001b[36m166\u001b[0m - \u001b[34m\u001b[1mSimilarity score for: summary: 0.892255611828783\u001b[0m\n",
      "\u001b[32m2024-01-19 09:36:13.251\u001b[0m | \u001b[34m\u001b[1mDEBUG   \u001b[0m | \u001b[36msidekick.utils\u001b[0m:\u001b[36msemantic_search\u001b[0m:\u001b[36m182\u001b[0m - \u001b[34m\u001b[1mSorted context: []\u001b[0m\n",
      "\u001b[32m2024-01-19 09:36:13.252\u001b[0m | \u001b[34m\u001b[1mDEBUG   \u001b[0m | \u001b[36msidekick.query\u001b[0m:\u001b[36mgenerate_sql\u001b[0m:\u001b[36m469\u001b[0m - \u001b[34m\u001b[1mFilter Context: []\u001b[0m\n",
      "\u001b[32m2024-01-19 09:36:13.253\u001b[0m | \u001b[1mINFO    \u001b[0m | \u001b[36msidekick.query\u001b[0m:\u001b[36mgenerate_sql\u001b[0m:\u001b[36m477\u001b[0m - \u001b[1mFiltering Question/Query pairs ...\u001b[0m\n",
      "\u001b[32m2024-01-19 09:36:13.254\u001b[0m | \u001b[1mINFO    \u001b[0m | \u001b[36msidekick.query\u001b[0m:\u001b[36mgenerate_sql\u001b[0m:\u001b[36m479\u001b[0m - \u001b[1mNumber of context queries found: 0\u001b[0m\n",
      "\u001b[32m2024-01-19 09:36:13.256\u001b[0m | \u001b[1mINFO    \u001b[0m | \u001b[36msidekick.query\u001b[0m:\u001b[36mgenerate_sql\u001b[0m:\u001b[36m499\u001b[0m - \u001b[1mNumber of possible contextual queries to question: 0\u001b[0m\n",
      "\u001b[32m2024-01-19 09:36:13.257\u001b[0m | \u001b[34m\u001b[1mDEBUG   \u001b[0m | \u001b[36msidekick.utils\u001b[0m:\u001b[36mre_rank\u001b[0m:\u001b[36m136\u001b[0m - \u001b[34m\u001b[1mQuestion length: 4\u001b[0m\n",
      "\u001b[32m2024-01-19 09:36:13.258\u001b[0m | \u001b[34m\u001b[1mDEBUG   \u001b[0m | \u001b[36msidekick.query\u001b[0m:\u001b[36mgenerate_sql\u001b[0m:\u001b[36m544\u001b[0m - \u001b[34m\u001b[1mRelevant sample column values: {}\u001b[0m\n",
      "\u001b[32m2024-01-19 09:36:13.259\u001b[0m | \u001b[34m\u001b[1mDEBUG   \u001b[0m | \u001b[36msidekick.query\u001b[0m:\u001b[36mgenerate_sql\u001b[0m:\u001b[36m561\u001b[0m - \u001b[34m\u001b[1mQuery Text:\n",
      " \n",
      "### Instructions:\n",
      "Your task is convert a question into a valid databricks syntax SQL query, given a databricks database schema. Let's work this out step by step to be sure we have the right answer.\n",
      "Only use the column names from the CREATE TABLE statement.\n",
      "Adhere to these rules:\n",
      "- **Deliberately go through the question and database schema word by word** to appropriately answer the question\n",
      "- **Use Table Aliases** to prevent ambiguity. For example, `SELECT table1.col1, table2.col1 FROM table1 JOIN table2 ON table1.id = table2.id`.\n",
      "- Only use supplied table names: **trips** for generation\n",
      "- Only use column names from the CREATE TABLE statement: **['tpep_pickup_datetime DATETIME, tpep_dropoff_datetime DATETIME, trip_distance FLOAT, fare_amount FLOAT, pickup_zip INTEGER, dropoff_zip INTEGER,']** for generation. DO NOT USE any other column names outside of this.\n",
      "- Avoid overly complex SQL queries, favor concise human readable SQL queries which are easy to understand and debug\n",
      "- Avoid patterns that might be vulnerable to SQL injection, e.g. sanitize inputs\n",
      "- Always cast the numerator as float when computing ratios\n",
      "- Always use COUNT(1) instead of COUNT(*)\n",
      "- If the question is asking for a rate, use COUNT to compute percentage\n",
      "- Avoid using the WITH statement\n",
      "- DO NOT USE aggregate and window function together\n",
      "- Prefer NOT EXISTS to LEFT JOIN ON null id\n",
      "- When using DESC keep NULLs at the end\n",
      "- If JSONB format found in Table schema, do pattern matching on keywords from the question and use SQL functions such as ->> or ->\n",
      "- Use prepared statements with parameterized queries to prevent SQL injection\n",
      "\n",
      "\n",
      "### Input:\n",
      "For SQL TABLE 'trips' with sample question/answer pairs,\n",
      "(), create a valid SQL (dialect:databricks) query to answer the following question:\n",
      "Compute average trip distance.\n",
      "This query will run on a database whose schema is represented in this string:\n",
      "CREATE TABLE 'trips' (['tpep_pickup_datetime DATETIME, tpep_dropoff_datetime DATETIME, trip_distance FLOAT, fare_amount FLOAT, pickup_zip INTEGER, dropoff_zip INTEGER,']\n",
      ");\n",
      "\n",
      "-- Table 'trips', , has sample values ({})\n",
      "\n",
      "### Response:\n",
      "Based on your instructions, here is the SELECT SQL query I have generated to answer the question `Compute average trip distance`:\n",
      "```SELECT\u001b[0m\n",
      "\u001b[32m2024-01-19 09:36:13.261\u001b[0m | \u001b[34m\u001b[1mDEBUG   \u001b[0m | \u001b[36msidekick.query\u001b[0m:\u001b[36mgenerate_sql\u001b[0m:\u001b[36m609\u001b[0m - \u001b[34m\u001b[1mGeneration with default temperature : 0.5\u001b[0m\n"
     ]
    },
    {
     "name": "stdout",
     "output_type": "stream",
     "text": [
      "INFO:httpx:HTTP Request: POST http://38.128.233.247:5000/v1/chat/completions \"HTTP/1.1 200 OK\"\n",
      "HTTP Request: POST http://38.128.233.247:5000/v1/chat/completions \"HTTP/1.1 200 OK\"\n",
      "HTTP Request: POST http://38.128.233.247:5000/v1/chat/completions \"HTTP/1.1 200 OK\"\n"
     ]
    },
    {
     "name": "stderr",
     "output_type": "stream",
     "text": [
      "\u001b[32m2024-01-19 09:36:14.569\u001b[0m | \u001b[34m\u001b[1mDEBUG   \u001b[0m | \u001b[36msidekick.query\u001b[0m:\u001b[36mgenerate_sql\u001b[0m:\u001b[36m618\u001b[0m - \u001b[34m\u001b[1mGenerated tokens:  AVG(trip_distance) AS average_trip_distance FROM trips;\u001b[0m\n",
      "\u001b[32m2024-01-19 09:36:14.572\u001b[0m | \u001b[1mINFO    \u001b[0m | \u001b[36msidekick.prompter\u001b[0m:\u001b[36mask\u001b[0m:\u001b[36m601\u001b[0m - \u001b[1mInput query: Compute average trip distance\u001b[0m\n",
      "\u001b[32m2024-01-19 09:36:14.574\u001b[0m | \u001b[1mINFO    \u001b[0m | \u001b[36msidekick.prompter\u001b[0m:\u001b[36mask\u001b[0m:\u001b[36m602\u001b[0m - \u001b[1mGenerated response:\n",
      "\n",
      "SELECT AVG(`trip_distance`) AS `average_trip_distance` FROM `trips` LIMIT 100\u001b[0m\n",
      "\u001b[32m2024-01-19 09:36:14.579\u001b[0m | \u001b[1mINFO    \u001b[0m | \u001b[36msidekick.prompter\u001b[0m:\u001b[36mask\u001b[0m:\u001b[36m628\u001b[0m - \u001b[1mAlternate responses:\n",
      "\n",
      "[]\u001b[0m\n",
      "\u001b[32m2024-01-19 09:36:14.581\u001b[0m | \u001b[1mINFO    \u001b[0m | \u001b[36msidekick.prompter\u001b[0m:\u001b[36mask\u001b[0m:\u001b[36m641\u001b[0m - \u001b[1mChecking for vulnerabilities in the provided SQL: SELECT AVG(`trip_distance`) AS `average_trip_distance` FROM `trips` LIMIT 100\u001b[0m\n",
      "\u001b[32m2024-01-19 09:36:14.600\u001b[0m | \u001b[34m\u001b[1mDEBUG   \u001b[0m | \u001b[36msidekick.utils\u001b[0m:\u001b[36mcheck_vulnerability\u001b[0m:\u001b[36m548\u001b[0m - \u001b[34m\u001b[1mRequesting additional scan using configured models\u001b[0m\n"
     ]
    },
    {
     "name": "stdout",
     "output_type": "stream",
     "text": [
      "Warning: Server version 1.3.0-dev3 doesn't match client version 1.2.7: unexpected errors may occur.\n",
      "Please install the correct version of H2OGPTE with `pip install h2ogpte==1.3.0-dev3`.\n",
      "You can enable strict version checking by passing strict_version_check=True.\n",
      "INFO:databricks.sql.client:Successfully opened session 2371a48a-b7f8-4497-b844-68fa41ec06f2\n",
      "Successfully opened session 2371a48a-b7f8-4497-b844-68fa41ec06f2\n",
      "Successfully opened session 2371a48a-b7f8-4497-b844-68fa41ec06f2\n"
     ]
    },
    {
     "name": "stderr",
     "output_type": "stream",
     "text": [
      "\u001b[32m2024-01-19 09:36:30.379\u001b[0m | \u001b[34m\u001b[1mDEBUG   \u001b[0m | \u001b[36msidekick.db_config\u001b[0m:\u001b[36mexecute_query\u001b[0m:\u001b[36m268\u001b[0m - \u001b[34m\u001b[1mExecuting query:\n",
      " SELECT AVG(\"trip_distance\") AS \"average_trip_distance\" FROM \"trips\" LIMIT 100\u001b[0m\n",
      "\u001b[32m2024-01-19 09:36:30.558\u001b[0m | \u001b[1mINFO    \u001b[0m | \u001b[36msidekick.db_config\u001b[0m:\u001b[36mexecute_query\u001b[0m:\u001b[36m291\u001b[0m - \u001b[1mError occurred : (databricks.sql.exc.ServerOperationError) \n",
      "[PARSE_SYNTAX_ERROR] Syntax error at or near '\"average_trip_distance\"'.(line 1, pos 31)\n",
      "\n",
      "== SQL ==\n",
      "SELECT AVG(\"trip_distance\") AS \"average_trip_distance\" FROM \"trips\" LIMIT 100\n",
      "-------------------------------^^^\n",
      "\n",
      "[SQL: SELECT AVG(\"trip_distance\") AS \"average_trip_distance\" FROM \"trips\" LIMIT 100]\n",
      "(Background on this error at: https://sqlalche.me/e/20/4xp6)\u001b[0m\n"
     ]
    },
    {
     "name": "stdout",
     "output_type": "stream",
     "text": [
      "INFO:databricks.sql.client:Closing session 2371a48a-b7f8-4497-b844-68fa41ec06f2\n",
      "Closing session 2371a48a-b7f8-4497-b844-68fa41ec06f2\n",
      "Closing session 2371a48a-b7f8-4497-b844-68fa41ec06f2\n"
     ]
    },
    {
     "name": "stderr",
     "output_type": "stream",
     "text": [
      "\u001b[32m2024-01-19 09:36:30.689\u001b[0m | \u001b[1mINFO    \u001b[0m | \u001b[36msidekick.prompter\u001b[0m:\u001b[36mask\u001b[0m:\u001b[36m666\u001b[0m - \u001b[1mAttempting to auto-correct the query...\u001b[0m\n",
      "\u001b[32m2024-01-19 09:36:30.690\u001b[0m | \u001b[34m\u001b[1mDEBUG   \u001b[0m | \u001b[36msidekick.prompter\u001b[0m:\u001b[36mask\u001b[0m:\u001b[36m669\u001b[0m - \u001b[34m\u001b[1mAttempt: 1\u001b[0m\n"
     ]
    },
    {
     "name": "stdout",
     "output_type": "stream",
     "text": [
      "Warning: Server version 1.3.0-dev3 doesn't match client version 1.2.7: unexpected errors may occur.\n",
      "Please install the correct version of H2OGPTE with `pip install h2ogpte==1.3.0-dev3`.\n",
      "You can enable strict version checking by passing strict_version_check=True.\n",
      "INFO:databricks.sql.client:Successfully opened session 856311f5-20ca-45a9-b58d-b3ea0a427ecc\n",
      "Successfully opened session 856311f5-20ca-45a9-b58d-b3ea0a427ecc\n",
      "Successfully opened session 856311f5-20ca-45a9-b58d-b3ea0a427ecc\n"
     ]
    },
    {
     "name": "stderr",
     "output_type": "stream",
     "text": [
      "\u001b[32m2024-01-19 09:36:48.508\u001b[0m | \u001b[34m\u001b[1mDEBUG   \u001b[0m | \u001b[36msidekick.db_config\u001b[0m:\u001b[36mexecute_query\u001b[0m:\u001b[36m268\u001b[0m - \u001b[34m\u001b[1mExecuting query:\n",
      " SELECT AVG(`trip_distance`) AS `average_trip_distance` FROM `trips` LIMIT 100\u001b[0m\n"
     ]
    },
    {
     "name": "stdout",
     "output_type": "stream",
     "text": [
      "INFO:databricks.sql.client:Closing session 856311f5-20ca-45a9-b58d-b3ea0a427ecc\n",
      "Closing session 856311f5-20ca-45a9-b58d-b3ea0a427ecc\n",
      "Closing session 856311f5-20ca-45a9-b58d-b3ea0a427ecc\n",
      "The query results are:\n",
      " [(2.8528291993434256,)]\n",
      "Exiting...\n"
     ]
    }
   ],
   "source": [
    "input_q = \"Compute average trip distance\"\n",
    "result, _, error = ask(\n",
    "        question=input_q,\n",
    "        table_info_path=table_info_path,\n",
    "        sample_queries_path=None,\n",
    "        table_name=table_name,\n",
    "        is_command=False,\n",
    "        model_name=\"h2ogpt-sql-sqlcoder-34b-alpha\",\n",
    "        db_dialect=\"databricks\",\n",
    "        execute_db_dialect=\"databricks\",\n",
    "        is_regenerate=False,\n",
    "        is_regen_with_options=False,\n",
    "        execute_query=True,\n",
    "        local_base_path=base_path,\n",
    "        debug_mode=False,\n",
    "        guardrails=True,\n",
    "        self_correction=True\n",
    "    )"
   ]
  },
  {
   "cell_type": "code",
   "execution_count": null,
   "id": "0105c31c-fb21-4f81-a734-1b4c45f74b24",
   "metadata": {},
   "outputs": [],
   "source": [
    "?ask"
   ]
  },
  {
   "cell_type": "code",
   "execution_count": 54,
   "id": "30caae94-37a3-4563-b311-42833e402c39",
   "metadata": {},
   "outputs": [
    {
     "data": {
      "text/plain": [
       "['**Generated response for question,**\\nCompute average trip distance\\n',\n",
       " '``` sql\\nSELECT AVG(`trip_distance`) AS `average_trip_distance`\\nFROM `trips`\\nLIMIT 100\\n```\\n\\n',\n",
       " '\\n',\n",
       " '**Result:** \\n',\n",
       " '[(2.8528291993434256,)]',\n",
       " '\\n']"
      ]
     },
     "execution_count": 54,
     "metadata": {},
     "output_type": "execute_result"
    }
   ],
   "source": [
    "result"
   ]
  },
  {
   "cell_type": "code",
   "execution_count": 55,
   "id": "be504033-2da0-4a02-b710-04d0c5a5eb23",
   "metadata": {},
   "outputs": [
    {
     "name": "stdout",
     "output_type": "stream",
     "text": [
      "INFO:databricks.sql.client:Successfully opened session 84ea4e01-818d-4f1c-a4a2-7dbb94cd646a\n",
      "Successfully opened session 84ea4e01-818d-4f1c-a4a2-7dbb94cd646a\n",
      "Successfully opened session 84ea4e01-818d-4f1c-a4a2-7dbb94cd646a\n"
     ]
    },
    {
     "name": "stderr",
     "output_type": "stream",
     "text": [
      "\u001b[32m2024-01-19 09:37:58.015\u001b[0m | \u001b[34m\u001b[1mDEBUG   \u001b[0m | \u001b[36msidekick.db_config\u001b[0m:\u001b[36mexecute_query\u001b[0m:\u001b[36m268\u001b[0m - \u001b[34m\u001b[1mExecuting query:\n",
      " SELECT SUM(`trip_distance`) AS `average_trip_distance`\n",
      "FROM `trips`\n",
      "LIMIT 1\u001b[0m\n"
     ]
    },
    {
     "name": "stdout",
     "output_type": "stream",
     "text": [
      "INFO:databricks.sql.client:Closing session 84ea4e01-818d-4f1c-a4a2-7dbb94cd646a\n",
      "Closing session 84ea4e01-818d-4f1c-a4a2-7dbb94cd646a\n",
      "Closing session 84ea4e01-818d-4f1c-a4a2-7dbb94cd646a\n"
     ]
    },
    {
     "data": {
      "text/plain": [
       "([(62568.24999999994,)],\n",
       " 'SELECT SUM(`trip_distance`) AS `average_trip_distance`\\nFROM `trips`\\nLIMIT 1')"
      ]
     },
     "execution_count": 55,
     "metadata": {},
     "output_type": "execute_result"
    }
   ],
   "source": [
    "# One can make further changes and re-execute the query against the configured Database as required.\n",
    "DBConfig.execute_query(\"SELECT SUM(`trip_distance`) AS `average_trip_distance`\\nFROM `trips`\\nLIMIT 1\")"
   ]
  }
 ],
 "metadata": {
  "kernelspec": {
   "display_name": "Python 3 (ipykernel)",
   "language": "python",
   "name": "python3"
  },
  "language_info": {
   "codemirror_mode": {
    "name": "ipython",
    "version": 3
   },
   "file_extension": ".py",
   "mimetype": "text/x-python",
   "name": "python",
   "nbconvert_exporter": "python",
   "pygments_lexer": "ipython3",
   "version": "3.8.16"
  }
 },
 "nbformat": 4,
 "nbformat_minor": 5
}
