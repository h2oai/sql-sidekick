{
 "cells": [
  {
   "cell_type": "code",
   "execution_count": 59,
   "metadata": {},
   "outputs": [],
   "source": [
    "import pandas as pd\n",
    "import json\n",
    "import re"
   ]
  },
  {
   "cell_type": "code",
   "execution_count": 60,
   "metadata": {},
   "outputs": [],
   "source": [
    "# Load the CSV file\n",
    "df = pd.read_csv(\"Sleep_health_and_lifestyle_dataset.csv\")"
   ]
  },
  {
   "cell_type": "code",
   "execution_count": 61,
   "metadata": {},
   "outputs": [
    {
     "data": {
      "text/html": [
       "<div>\n",
       "<style scoped>\n",
       "    .dataframe tbody tr th:only-of-type {\n",
       "        vertical-align: middle;\n",
       "    }\n",
       "\n",
       "    .dataframe tbody tr th {\n",
       "        vertical-align: top;\n",
       "    }\n",
       "\n",
       "    .dataframe thead th {\n",
       "        text-align: right;\n",
       "    }\n",
       "</style>\n",
       "<table border=\"1\" class=\"dataframe\">\n",
       "  <thead>\n",
       "    <tr style=\"text-align: right;\">\n",
       "      <th></th>\n",
       "      <th>Person ID</th>\n",
       "      <th>Gender</th>\n",
       "      <th>Age</th>\n",
       "      <th>Occupation</th>\n",
       "      <th>Sleep Duration</th>\n",
       "      <th>Quality of Sleep</th>\n",
       "      <th>Physical Activity Level</th>\n",
       "      <th>Stress Level</th>\n",
       "      <th>BMI Category</th>\n",
       "      <th>Blood Pressure</th>\n",
       "      <th>Heart Rate</th>\n",
       "      <th>Daily Steps</th>\n",
       "      <th>Sleep Disorder</th>\n",
       "    </tr>\n",
       "  </thead>\n",
       "  <tbody>\n",
       "    <tr>\n",
       "      <th>0</th>\n",
       "      <td>1</td>\n",
       "      <td>Male</td>\n",
       "      <td>27</td>\n",
       "      <td>Software Engineer</td>\n",
       "      <td>6.1</td>\n",
       "      <td>6</td>\n",
       "      <td>42</td>\n",
       "      <td>6</td>\n",
       "      <td>Overweight</td>\n",
       "      <td>126/83</td>\n",
       "      <td>77</td>\n",
       "      <td>4200</td>\n",
       "      <td>NaN</td>\n",
       "    </tr>\n",
       "    <tr>\n",
       "      <th>1</th>\n",
       "      <td>2</td>\n",
       "      <td>Male</td>\n",
       "      <td>28</td>\n",
       "      <td>Doctor</td>\n",
       "      <td>6.2</td>\n",
       "      <td>6</td>\n",
       "      <td>60</td>\n",
       "      <td>8</td>\n",
       "      <td>Normal</td>\n",
       "      <td>125/80</td>\n",
       "      <td>75</td>\n",
       "      <td>10000</td>\n",
       "      <td>NaN</td>\n",
       "    </tr>\n",
       "    <tr>\n",
       "      <th>2</th>\n",
       "      <td>3</td>\n",
       "      <td>Male</td>\n",
       "      <td>28</td>\n",
       "      <td>Doctor</td>\n",
       "      <td>6.2</td>\n",
       "      <td>6</td>\n",
       "      <td>60</td>\n",
       "      <td>8</td>\n",
       "      <td>Normal</td>\n",
       "      <td>125/80</td>\n",
       "      <td>75</td>\n",
       "      <td>10000</td>\n",
       "      <td>NaN</td>\n",
       "    </tr>\n",
       "    <tr>\n",
       "      <th>3</th>\n",
       "      <td>4</td>\n",
       "      <td>Male</td>\n",
       "      <td>28</td>\n",
       "      <td>Sales Representative</td>\n",
       "      <td>5.9</td>\n",
       "      <td>4</td>\n",
       "      <td>30</td>\n",
       "      <td>8</td>\n",
       "      <td>Obese</td>\n",
       "      <td>140/90</td>\n",
       "      <td>85</td>\n",
       "      <td>3000</td>\n",
       "      <td>Sleep Apnea</td>\n",
       "    </tr>\n",
       "    <tr>\n",
       "      <th>4</th>\n",
       "      <td>5</td>\n",
       "      <td>Male</td>\n",
       "      <td>28</td>\n",
       "      <td>Sales Representative</td>\n",
       "      <td>5.9</td>\n",
       "      <td>4</td>\n",
       "      <td>30</td>\n",
       "      <td>8</td>\n",
       "      <td>Obese</td>\n",
       "      <td>140/90</td>\n",
       "      <td>85</td>\n",
       "      <td>3000</td>\n",
       "      <td>Sleep Apnea</td>\n",
       "    </tr>\n",
       "  </tbody>\n",
       "</table>\n",
       "</div>"
      ],
      "text/plain": [
       "   Person ID Gender  Age            Occupation  Sleep Duration  \\\n",
       "0          1   Male   27     Software Engineer             6.1   \n",
       "1          2   Male   28                Doctor             6.2   \n",
       "2          3   Male   28                Doctor             6.2   \n",
       "3          4   Male   28  Sales Representative             5.9   \n",
       "4          5   Male   28  Sales Representative             5.9   \n",
       "\n",
       "   Quality of Sleep  Physical Activity Level  Stress Level BMI Category  \\\n",
       "0                 6                       42             6   Overweight   \n",
       "1                 6                       60             8       Normal   \n",
       "2                 6                       60             8       Normal   \n",
       "3                 4                       30             8        Obese   \n",
       "4                 4                       30             8        Obese   \n",
       "\n",
       "  Blood Pressure  Heart Rate  Daily Steps Sleep Disorder  \n",
       "0         126/83          77         4200            NaN  \n",
       "1         125/80          75        10000            NaN  \n",
       "2         125/80          75        10000            NaN  \n",
       "3         140/90          85         3000    Sleep Apnea  \n",
       "4         140/90          85         3000    Sleep Apnea  "
      ]
     },
     "execution_count": 61,
     "metadata": {},
     "output_type": "execute_result"
    }
   ],
   "source": [
    "df.head()"
   ]
  },
  {
   "cell_type": "markdown",
   "metadata": {},
   "source": [
    "1. remove sample values for Column Type: NUMERIC\n",
    "   1. only keep NUMERIC and TEXT for now\n",
    "2. replace space in column name with underscore\n",
    "3. try to upload it with original csv together with jsonl and check if it works\n",
    "4. add this as a new flag to GENERATE schema from csv\n",
    "   1. database dialet Sqlite vs Postgres\n",
    "   2. if sqlite, then use TEXT, if postgres, then use VARCHAR\n",
    "   3. path to the csv, and output the schema(.jsonl)\n",
    "   4. keep it a seperate file, schema_generator.py  "
   ]
  },
  {
   "cell_type": "code",
   "execution_count": 62,
   "metadata": {},
   "outputs": [
    {
     "data": {
      "text/plain": [
       "Index(['Person ID', 'Gender', 'Age', 'Occupation', 'Sleep Duration',\n",
       "       'Quality of Sleep', 'Physical Activity Level', 'Stress Level',\n",
       "       'BMI Category', 'Blood Pressure', 'Heart Rate', 'Daily Steps',\n",
       "       'Sleep Disorder'],\n",
       "      dtype='object')"
      ]
     },
     "execution_count": 62,
     "metadata": {},
     "output_type": "execute_result"
    }
   ],
   "source": [
    "df.columns"
   ]
  },
  {
   "cell_type": "code",
   "execution_count": 63,
   "metadata": {},
   "outputs": [
    {
     "data": {
      "text/plain": [
       "{'Person ID': dtype('int64'),\n",
       " 'Gender': dtype('O'),\n",
       " 'Age': dtype('int64'),\n",
       " 'Occupation': dtype('O'),\n",
       " 'Sleep Duration': dtype('float64'),\n",
       " 'Quality of Sleep': dtype('int64'),\n",
       " 'Physical Activity Level': dtype('int64'),\n",
       " 'Stress Level': dtype('int64'),\n",
       " 'BMI Category': dtype('O'),\n",
       " 'Blood Pressure': dtype('O'),\n",
       " 'Heart Rate': dtype('int64'),\n",
       " 'Daily Steps': dtype('int64'),\n",
       " 'Sleep Disorder': dtype('O')}"
      ]
     },
     "execution_count": 63,
     "metadata": {},
     "output_type": "execute_result"
    }
   ],
   "source": [
    "# Extract the schema information\n",
    "schema = df.dtypes.to_dict()\n",
    "schema"
   ]
  },
  {
   "cell_type": "code",
   "execution_count": 66,
   "metadata": {},
   "outputs": [
    {
     "name": "stdout",
     "output_type": "stream",
     "text": [
      "unique_values: Male\n",
      "unique_values: Software Engineer\n",
      "unique_values: Overweight\n",
      "unique_values: 126/83\n",
      "unique_values: Sleep Apnea\n"
     ]
    },
    {
     "data": {
      "text/plain": [
       "[{'Column Name': 'Person_ID', 'Column Type': 'NUMERIC'},\n",
       " {'Column Name': 'Gender',\n",
       "  'Column Type': 'TEXT',\n",
       "  'Sample Values': ['Male', 'Female']},\n",
       " {'Column Name': 'Age', 'Column Type': 'NUMERIC'},\n",
       " {'Column Name': 'Occupation',\n",
       "  'Column Type': 'TEXT',\n",
       "  'Sample Values': ['Software Engineer',\n",
       "   'Doctor',\n",
       "   'Sales Representative',\n",
       "   'Teacher',\n",
       "   'Nurse',\n",
       "   'Engineer',\n",
       "   'Accountant',\n",
       "   'Scientist',\n",
       "   'Lawyer',\n",
       "   'Salesperson',\n",
       "   'Manager']},\n",
       " {'Column Name': 'Sleep_Duration', 'Column Type': 'NUMERIC'},\n",
       " {'Column Name': 'Quality_of_Sleep', 'Column Type': 'NUMERIC'},\n",
       " {'Column Name': 'Physical_Activity_Level', 'Column Type': 'NUMERIC'},\n",
       " {'Column Name': 'Stress_Level', 'Column Type': 'NUMERIC'},\n",
       " {'Column Name': 'BMI_Category',\n",
       "  'Column Type': 'TEXT',\n",
       "  'Sample Values': ['Overweight', 'Normal', 'Obese', 'Normal Weight']},\n",
       " {'Column Name': 'Blood_Pressure', 'Column Type': 'TEXT'},\n",
       " {'Column Name': 'Heart_Rate', 'Column Type': 'NUMERIC'},\n",
       " {'Column Name': 'Daily_Steps', 'Column Type': 'NUMERIC'},\n",
       " {'Column Name': 'Sleep_Disorder',\n",
       "  'Column Type': 'TEXT',\n",
       "  'Sample Values': ['Sleep Apnea', 'Insomnia']}]"
      ]
     },
     "execution_count": 66,
     "metadata": {},
     "output_type": "execute_result"
    }
   ],
   "source": [
    "schema_list = []\n",
    "for key, value in schema.items():\n",
    "    if \" \" in key:\n",
    "        new_key = key.replace(\" \", \"_\") # Remove the space in the column name\n",
    "    else:\n",
    "        new_key = key\n",
    "    if value == \"object\":\n",
    "        value = \"TEXT\"\n",
    "        unique_values = df[key].dropna().unique().tolist()\n",
    "        print(f\"unique_values: {unique_values[0]}\")\n",
    "        if not bool(re.search(r'[A-Za-z]', unique_values[0])):\n",
    "            schema_list.append({\"Column Name\": new_key, \"Column Type\": value})\n",
    "        else:\n",
    "            schema_list.append({\"Column Name\": new_key, \"Column Type\": value, \"Sample Values\": unique_values})\n",
    "    else: \n",
    "        value = \"NUMERIC\"\n",
    "        schema_list.append({\"Column Name\": new_key, \"Column Type\": value})"
   ]
  },
  {
   "cell_type": "code",
   "execution_count": 67,
   "metadata": {},
   "outputs": [],
   "source": [
    "# Save the schema information to a JSON file\n",
    "with open(\"table_info_test.jsonl\", \"w\") as f:\n",
    "    for item in schema_list:\n",
    "        json.dump(item, f)\n",
    "        f.write(\"\\n\")"
   ]
  }
 ],
 "metadata": {
  "kernelspec": {
   "display_name": "Python 3",
   "language": "python",
   "name": "python3"
  },
  "language_info": {
   "codemirror_mode": {
    "name": "ipython",
    "version": 3
   },
   "file_extension": ".py",
   "mimetype": "text/x-python",
   "name": "python",
   "nbconvert_exporter": "python",
   "pygments_lexer": "ipython3",
   "version": "3.10.0"
  },
  "orig_nbformat": 4
 },
 "nbformat": 4,
 "nbformat_minor": 2
}
