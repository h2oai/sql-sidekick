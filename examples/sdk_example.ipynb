{
 "cells": [
  {
   "cell_type": "code",
   "execution_count": 1,
   "id": "5226ef66-9cbb-4c64-8a5e-f07cf1e2d183",
   "metadata": {},
   "outputs": [],
   "source": [
    "#!python3 -m pip install --force-reinstall sql_sidekick-0.1.7-py3-none-any.whl"
   ]
  },
  {
   "cell_type": "code",
   "execution_count": 2,
   "id": "0a56b65f-3e56-4f51-bf57-6eaf6f04cdad",
   "metadata": {},
   "outputs": [],
   "source": [
    "import gc\n",
    "import json\n",
    "import logging\n",
    "import os\n",
    "from pathlib import Path\n",
    "from typing import List, Optional\n",
    "\n",
    "import openai\n",
    "import toml\n",
    "import torch"
   ]
  },
  {
   "cell_type": "code",
   "execution_count": 3,
   "id": "849b24f4-cbdc-419b-a061-e4953a8161c5",
   "metadata": {},
   "outputs": [],
   "source": [
    "from sidekick.prompter import (data_preview, db_setup, ask,\n",
    "                               recommend_suggestions)\n",
    "from sidekick.schema_generator import generate_schema\n",
    "from sidekick.query import SQLGenerator\n",
    "from sidekick.utils import (MODEL_CHOICE_MAP_DEFAULT,\n",
    "                            MODEL_CHOICE_MAP_EVAL_MODE, TASK_CHOICE,\n",
    "                            get_table_keys, save_query, setup_dir,\n",
    "                            update_tables)"
   ]
  },
  {
   "cell_type": "code",
   "execution_count": 4,
   "id": "b1bb0bdf-d5ce-4dc4-a400-e2022468ee4d",
   "metadata": {},
   "outputs": [],
   "source": [
    "base_path = \"./\"\n",
    "cache_path = f\"{base_path}/var/lib/tmp\"\n",
    "setup_dir(base_path)"
   ]
  },
  {
   "cell_type": "code",
   "execution_count": 5,
   "id": "64290c3c-0a8c-448b-9a47-4b898213ba58",
   "metadata": {},
   "outputs": [
    {
     "name": "stdout",
     "output_type": "stream",
     "text": [
      " Information supplied:\n",
      " querydb, localhost, sqlite, abc, 5432\n"
     ]
    },
    {
     "name": "stderr",
     "output_type": "stream",
     "text": [
      "\u001b[32m2023-11-29 03:32:59.065\u001b[0m | \u001b[34m\u001b[1mDEBUG   \u001b[0m | \u001b[36msidekick.db_config\u001b[0m:\u001b[36m__init__\u001b[0m:\u001b[36m42\u001b[0m - \u001b[34m\u001b[1mCreating SQLite DB: sqlite:///.//db/sqlite/querydb.db\u001b[0m\n",
      "\u001b[32m2023-11-29 03:32:59.074\u001b[0m | \u001b[34m\u001b[1mDEBUG   \u001b[0m | \u001b[36msidekick.db_config\u001b[0m:\u001b[36mcreate_db\u001b[0m:\u001b[36m79\u001b[0m - \u001b[34m\u001b[1mSQLite DB is created when 'engine.connect()' is called\u001b[0m\n"
     ]
    },
    {
     "name": "stdout",
     "output_type": "stream",
     "text": [
      "Database created successfully!\n",
      "Table name: sleep_health_2\n"
     ]
    },
    {
     "name": "stderr",
     "output_type": "stream",
     "text": [
      "\u001b[32m2023-11-29 03:32:59.080\u001b[0m | \u001b[34m\u001b[1mDEBUG   \u001b[0m | \u001b[36msidekick.db_config\u001b[0m:\u001b[36m_extract_schema_info\u001b[0m:\u001b[36m100\u001b[0m - \u001b[34m\u001b[1mSchema path: .//var/lib/tmp/sleep_health_2_table_info.jsonl\u001b[0m\n",
      "\u001b[32m2023-11-29 03:32:59.084\u001b[0m | \u001b[34m\u001b[1mDEBUG   \u001b[0m | \u001b[36msidekick.db_config\u001b[0m:\u001b[36mcreate_table\u001b[0m:\u001b[36m145\u001b[0m - \u001b[34m\u001b[1mSchema info used for creating table:\n",
      " Person_ID NUMERIC,\n",
      "Gender TEXT COLLATE NOCASE,\n",
      "Age NUMERIC,\n",
      "Occupation TEXT COLLATE NOCASE,\n",
      "Sleep_Duration NUMERIC,\n",
      "Quality_of_Sleep NUMERIC,\n",
      "Physical_Activity_Level NUMERIC,\n",
      "Stress_Level NUMERIC,\n",
      "BMI_Category TEXT COLLATE NOCASE,\n",
      "Blood_Pressure TEXT COLLATE NOCASE,\n",
      "Heart_Rate NUMERIC,\n",
      "Daily_Steps NUMERIC,\n",
      "Sleep_Disorder TEXT COLLATE NOCASE\u001b[0m\n"
     ]
    },
    {
     "name": "stdout",
     "output_type": "stream",
     "text": [
      "Checked table sleep_health_2 exists in the DB.\n"
     ]
    },
    {
     "name": "stderr",
     "output_type": "stream",
     "text": [
      "\u001b[32m2023-11-29 03:32:59.101\u001b[0m | \u001b[34m\u001b[1mDEBUG   \u001b[0m | \u001b[36msidekick.db_config\u001b[0m:\u001b[36madd_samples\u001b[0m:\u001b[36m179\u001b[0m - \u001b[34m\u001b[1mAdding sample values to table: /home/pramit/testing/q/apps/system/sql-sidekick/examples/demo/sleep_health_and_lifestyle_dataset.csv\u001b[0m\n",
      "\u001b[32m2023-11-29 03:32:59.107\u001b[0m | \u001b[34m\u001b[1mDEBUG   \u001b[0m | \u001b[36msidekick.db_config\u001b[0m:\u001b[36madd_samples\u001b[0m:\u001b[36m185\u001b[0m - \u001b[34m\u001b[1mInserting chunk: 0\u001b[0m\n",
      "\u001b[32m2023-11-29 03:32:59.210\u001b[0m | \u001b[1mINFO    \u001b[0m | \u001b[36msidekick.db_config\u001b[0m:\u001b[36madd_samples\u001b[0m:\u001b[36m190\u001b[0m - \u001b[1mData inserted into table: sleep_health_2\u001b[0m\n",
      "\u001b[32m2023-11-29 03:32:59.218\u001b[0m | \u001b[1mINFO    \u001b[0m | \u001b[36msidekick.db_config\u001b[0m:\u001b[36madd_samples\u001b[0m:\u001b[36m195\u001b[0m - \u001b[1mNumber of rows inserted: 374\u001b[0m\n"
     ]
    },
    {
     "name": "stdout",
     "output_type": "stream",
     "text": [
      "Created a Database querydb. Inserted sample values from /home/pramit/testing/q/apps/system/sql-sidekick/examples/demo/sleep_health_and_lifestyle_dataset.csv into table sleep_health_2, please ask questions!\n"
     ]
    }
   ],
   "source": [
    "# Setup the DB for a single table (WIP to extend to multiple tables)\n",
    "\n",
    "HOST_NAME = \"localhost\"\n",
    "USER_NAME = \"sqlite\"\n",
    "PASSWORD = \"abc\"\n",
    "DB_NAME = \"querydb\"\n",
    "PORT = \"5432\"\n",
    "\n",
    "\n",
    "# Given .csv file, auto-generate schema\n",
    "data_path = \"/home/pramit/testing/q/apps/system/sql-sidekick/examples/demo/sleep_health_and_lifestyle_dataset.csv\"\n",
    "table_name = \"sleep_health_2\"\n",
    "\n",
    "r, table_info_path = generate_schema(data_path, f\"{cache_path}/{table_name}_table_info.jsonl\")\n",
    "\n",
    "llm_response, err = db_setup(\n",
    "                db_name=DB_NAME,\n",
    "                hostname=HOST_NAME,\n",
    "                user_name=USER_NAME,\n",
    "                password=PASSWORD,\n",
    "                port=PORT,\n",
    "                table_info_path=table_info_path,\n",
    "                table_samples_path=data_path,\n",
    "                table_name=table_name,\n",
    "                local_base_path=base_path\n",
    "            )"
   ]
  },
  {
   "cell_type": "code",
   "execution_count": null,
   "id": "4eba6292-3454-4830-b7f6-8ed16c6b1e3c",
   "metadata": {},
   "outputs": [],
   "source": []
  },
  {
   "cell_type": "code",
   "execution_count": null,
   "id": "b3a69265-5a07-4abd-9c00-31e30781dbf8",
   "metadata": {},
   "outputs": [],
   "source": []
  }
 ],
 "metadata": {
  "kernelspec": {
   "display_name": "Python 3 (ipykernel)",
   "language": "python",
   "name": "python3"
  },
  "language_info": {
   "codemirror_mode": {
    "name": "ipython",
    "version": 3
   },
   "file_extension": ".py",
   "mimetype": "text/x-python",
   "name": "python",
   "nbconvert_exporter": "python",
   "pygments_lexer": "ipython3",
   "version": "3.8.16"
  }
 },
 "nbformat": 4,
 "nbformat_minor": 5
}
